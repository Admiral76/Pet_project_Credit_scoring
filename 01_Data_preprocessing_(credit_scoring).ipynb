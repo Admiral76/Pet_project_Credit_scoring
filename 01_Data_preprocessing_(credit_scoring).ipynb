{
 "cells": [
  {
   "cell_type": "markdown",
   "metadata": {},
   "source": [
    "## Исследование надёжности заёмщиков\n",
    "\n",
    "Заказчик — кредитный отдел банка. Нужно разобраться, влияет ли семейное положение и количество детей клиента на факт погашения кредита в срок. Входные данные от банка — статистика о платёжеспособности клиентов.\n",
    "\n",
    "Результаты исследования будут учтены при построении модели **кредитного скоринга** — специальной системы, которая оценивает способность потенциального заёмщика вернуть кредит банку."
   ]
  },
  {
   "cell_type": "markdown",
   "metadata": {},
   "source": [
    "# Содержание"
   ]
  },
  {
   "cell_type": "markdown",
   "metadata": {},
   "source": [
    "- [п.1. Общая информация](#1)\n",
    "* [п.1.1. Изучение общей информации](#1.1)\n",
    "* [п.1.2. Вывод](#1.2)\n",
    "* [п.2. Предобработка данных](#2)\n",
    "* [п.2.1. Обработка пропусков](#2.1)\n",
    "* [п.2.1.1. Столбец \"dob_years\"](#2.1.1)\n",
    "* [п.2.1.2. Столбец \"children\"](#2.1.2)\n",
    "* [п.2.1.3. Столбец \"days_employed\"](#2.1.3)\n",
    "* [п.2.1.4. Столбец \"education\"](#2.1.4)\n",
    "* [п.2.1.5. Столбец \"gender\"](#2.1.5)\n",
    "* [п.2.1.6. Столбец \"total_income\"](#2.1.6)\n",
    "* [п.2.1.7. Вывод](#2.1.7)\n",
    "* [п.2.2. Замена типа данных](#2.2)\n",
    "* [п.2.3. Обработка дубликатов](#2.3)\n",
    "* [п.2.4. Лемматизация](#2.4)\n",
    "* [п.2.5. Категоризация данных](#2.5)\n",
    "* [п.2.5.1. Сводные таблицы для ответа на вопрос №1](#2.5.1)\n",
    "* [п.2.5.2. Сводные таблицы для ответа на вопрос №2](#2.5.2)\n",
    "* [п.2.5.3. Сводные таблицы для ответа на вопрос №3](#2.5.3)\n",
    "* [п.2.5.4. Сводные таблицы для ответа на вопрос №4](#2.5.4)\n",
    "* [п.2.5.5. Вывод](#2.5.5)\n",
    "* [п.3. Влияние различных факторов на факт погашения кредита в срок](#3)\n",
    "* [п.3.1. Есть ли зависимость между наличием детей и возвратом кредита в срок?](#3.1)\n",
    "* [п.3.2. Есть ли зависимость между семейным положением и возвратом кредита в срок?](#3.2)\n",
    "* [п.3.3. Есть ли зависимость между уровнем дохода и возвратом кредита в срок?](#3.3)\n",
    "* [п.3.4. Как разные цели кредита влияют на его возврат в срок?](#3.4)\n",
    "* [п.4. Заключение](#4)"
   ]
  },
  {
   "cell_type": "markdown",
   "metadata": {},
   "source": [
    "## 1. Общая информация\n",
    "<a id=\"1\"></a>"
   ]
  },
  {
   "cell_type": "markdown",
   "metadata": {},
   "source": [
    "### 1.1. Изучение общей информации\n",
    "<a id=\"1.1\"></a>"
   ]
  },
  {
   "cell_type": "markdown",
   "metadata": {},
   "source": [
    "Просмотрим общую информацию по колонкам"
   ]
  },
  {
   "cell_type": "code",
   "execution_count": 1,
   "metadata": {},
   "outputs": [
    {
     "name": "stdout",
     "output_type": "stream",
     "text": [
      "<class 'pandas.core.frame.DataFrame'>\n",
      "RangeIndex: 21525 entries, 0 to 21524\n",
      "Data columns (total 12 columns):\n",
      "children            21525 non-null int64\n",
      "days_employed       19351 non-null float64\n",
      "dob_years           21525 non-null int64\n",
      "education           21525 non-null object\n",
      "education_id        21525 non-null int64\n",
      "family_status       21525 non-null object\n",
      "family_status_id    21525 non-null int64\n",
      "gender              21525 non-null object\n",
      "income_type         21525 non-null object\n",
      "debt                21525 non-null int64\n",
      "total_income        19351 non-null float64\n",
      "purpose             21525 non-null object\n",
      "dtypes: float64(2), int64(5), object(5)\n",
      "memory usage: 2.0+ MB\n"
     ]
    }
   ],
   "source": [
    "import pandas as pd\n",
    "\n",
    "try:  \n",
    "    data = pd.read_csv('/datasets/data.csv')\n",
    "except:\n",
    "    data = pd.read_csv(r'C:\\Users\\Admiral\\Desktop\\учеба\\практикум\\Проекты\\Datasets\\01.csv')"
   ]
  },
  {
   "cell_type": "markdown",
   "metadata": {},
   "source": [
    "Изучим первые 10 строк"
   ]
  },
  {
   "cell_type": "code",
   "execution_count": 2,
   "metadata": {},
   "outputs": [
    {
     "data": {
      "text/html": [
       "<div>\n",
       "<style scoped>\n",
       "    .dataframe tbody tr th:only-of-type {\n",
       "        vertical-align: middle;\n",
       "    }\n",
       "\n",
       "    .dataframe tbody tr th {\n",
       "        vertical-align: top;\n",
       "    }\n",
       "\n",
       "    .dataframe thead th {\n",
       "        text-align: right;\n",
       "    }\n",
       "</style>\n",
       "<table border=\"1\" class=\"dataframe\">\n",
       "  <thead>\n",
       "    <tr style=\"text-align: right;\">\n",
       "      <th></th>\n",
       "      <th>children</th>\n",
       "      <th>days_employed</th>\n",
       "      <th>dob_years</th>\n",
       "      <th>education</th>\n",
       "      <th>education_id</th>\n",
       "      <th>family_status</th>\n",
       "      <th>family_status_id</th>\n",
       "      <th>gender</th>\n",
       "      <th>income_type</th>\n",
       "      <th>debt</th>\n",
       "      <th>total_income</th>\n",
       "      <th>purpose</th>\n",
       "    </tr>\n",
       "  </thead>\n",
       "  <tbody>\n",
       "    <tr>\n",
       "      <td>0</td>\n",
       "      <td>1</td>\n",
       "      <td>-8437.673028</td>\n",
       "      <td>42</td>\n",
       "      <td>высшее</td>\n",
       "      <td>0</td>\n",
       "      <td>женат / замужем</td>\n",
       "      <td>0</td>\n",
       "      <td>F</td>\n",
       "      <td>сотрудник</td>\n",
       "      <td>0</td>\n",
       "      <td>253875.639453</td>\n",
       "      <td>покупка жилья</td>\n",
       "    </tr>\n",
       "    <tr>\n",
       "      <td>1</td>\n",
       "      <td>1</td>\n",
       "      <td>-4024.803754</td>\n",
       "      <td>36</td>\n",
       "      <td>среднее</td>\n",
       "      <td>1</td>\n",
       "      <td>женат / замужем</td>\n",
       "      <td>0</td>\n",
       "      <td>F</td>\n",
       "      <td>сотрудник</td>\n",
       "      <td>0</td>\n",
       "      <td>112080.014102</td>\n",
       "      <td>приобретение автомобиля</td>\n",
       "    </tr>\n",
       "    <tr>\n",
       "      <td>2</td>\n",
       "      <td>0</td>\n",
       "      <td>-5623.422610</td>\n",
       "      <td>33</td>\n",
       "      <td>Среднее</td>\n",
       "      <td>1</td>\n",
       "      <td>женат / замужем</td>\n",
       "      <td>0</td>\n",
       "      <td>M</td>\n",
       "      <td>сотрудник</td>\n",
       "      <td>0</td>\n",
       "      <td>145885.952297</td>\n",
       "      <td>покупка жилья</td>\n",
       "    </tr>\n",
       "    <tr>\n",
       "      <td>3</td>\n",
       "      <td>3</td>\n",
       "      <td>-4124.747207</td>\n",
       "      <td>32</td>\n",
       "      <td>среднее</td>\n",
       "      <td>1</td>\n",
       "      <td>женат / замужем</td>\n",
       "      <td>0</td>\n",
       "      <td>M</td>\n",
       "      <td>сотрудник</td>\n",
       "      <td>0</td>\n",
       "      <td>267628.550329</td>\n",
       "      <td>дополнительное образование</td>\n",
       "    </tr>\n",
       "    <tr>\n",
       "      <td>4</td>\n",
       "      <td>0</td>\n",
       "      <td>340266.072047</td>\n",
       "      <td>53</td>\n",
       "      <td>среднее</td>\n",
       "      <td>1</td>\n",
       "      <td>гражданский брак</td>\n",
       "      <td>1</td>\n",
       "      <td>F</td>\n",
       "      <td>пенсионер</td>\n",
       "      <td>0</td>\n",
       "      <td>158616.077870</td>\n",
       "      <td>сыграть свадьбу</td>\n",
       "    </tr>\n",
       "    <tr>\n",
       "      <td>5</td>\n",
       "      <td>0</td>\n",
       "      <td>-926.185831</td>\n",
       "      <td>27</td>\n",
       "      <td>высшее</td>\n",
       "      <td>0</td>\n",
       "      <td>гражданский брак</td>\n",
       "      <td>1</td>\n",
       "      <td>M</td>\n",
       "      <td>компаньон</td>\n",
       "      <td>0</td>\n",
       "      <td>255763.565419</td>\n",
       "      <td>покупка жилья</td>\n",
       "    </tr>\n",
       "    <tr>\n",
       "      <td>6</td>\n",
       "      <td>0</td>\n",
       "      <td>-2879.202052</td>\n",
       "      <td>43</td>\n",
       "      <td>высшее</td>\n",
       "      <td>0</td>\n",
       "      <td>женат / замужем</td>\n",
       "      <td>0</td>\n",
       "      <td>F</td>\n",
       "      <td>компаньон</td>\n",
       "      <td>0</td>\n",
       "      <td>240525.971920</td>\n",
       "      <td>операции с жильем</td>\n",
       "    </tr>\n",
       "    <tr>\n",
       "      <td>7</td>\n",
       "      <td>0</td>\n",
       "      <td>-152.779569</td>\n",
       "      <td>50</td>\n",
       "      <td>СРЕДНЕЕ</td>\n",
       "      <td>1</td>\n",
       "      <td>женат / замужем</td>\n",
       "      <td>0</td>\n",
       "      <td>M</td>\n",
       "      <td>сотрудник</td>\n",
       "      <td>0</td>\n",
       "      <td>135823.934197</td>\n",
       "      <td>образование</td>\n",
       "    </tr>\n",
       "    <tr>\n",
       "      <td>8</td>\n",
       "      <td>2</td>\n",
       "      <td>-6929.865299</td>\n",
       "      <td>35</td>\n",
       "      <td>ВЫСШЕЕ</td>\n",
       "      <td>0</td>\n",
       "      <td>гражданский брак</td>\n",
       "      <td>1</td>\n",
       "      <td>F</td>\n",
       "      <td>сотрудник</td>\n",
       "      <td>0</td>\n",
       "      <td>95856.832424</td>\n",
       "      <td>на проведение свадьбы</td>\n",
       "    </tr>\n",
       "    <tr>\n",
       "      <td>9</td>\n",
       "      <td>0</td>\n",
       "      <td>-2188.756445</td>\n",
       "      <td>41</td>\n",
       "      <td>среднее</td>\n",
       "      <td>1</td>\n",
       "      <td>женат / замужем</td>\n",
       "      <td>0</td>\n",
       "      <td>M</td>\n",
       "      <td>сотрудник</td>\n",
       "      <td>0</td>\n",
       "      <td>144425.938277</td>\n",
       "      <td>покупка жилья для семьи</td>\n",
       "    </tr>\n",
       "  </tbody>\n",
       "</table>\n",
       "</div>"
      ],
      "text/plain": [
       "   children  days_employed  dob_years education  education_id  \\\n",
       "0         1   -8437.673028         42    высшее             0   \n",
       "1         1   -4024.803754         36   среднее             1   \n",
       "2         0   -5623.422610         33   Среднее             1   \n",
       "3         3   -4124.747207         32   среднее             1   \n",
       "4         0  340266.072047         53   среднее             1   \n",
       "5         0    -926.185831         27    высшее             0   \n",
       "6         0   -2879.202052         43    высшее             0   \n",
       "7         0    -152.779569         50   СРЕДНЕЕ             1   \n",
       "8         2   -6929.865299         35    ВЫСШЕЕ             0   \n",
       "9         0   -2188.756445         41   среднее             1   \n",
       "\n",
       "      family_status  family_status_id gender income_type  debt   total_income  \\\n",
       "0   женат / замужем                 0      F   сотрудник     0  253875.639453   \n",
       "1   женат / замужем                 0      F   сотрудник     0  112080.014102   \n",
       "2   женат / замужем                 0      M   сотрудник     0  145885.952297   \n",
       "3   женат / замужем                 0      M   сотрудник     0  267628.550329   \n",
       "4  гражданский брак                 1      F   пенсионер     0  158616.077870   \n",
       "5  гражданский брак                 1      M   компаньон     0  255763.565419   \n",
       "6   женат / замужем                 0      F   компаньон     0  240525.971920   \n",
       "7   женат / замужем                 0      M   сотрудник     0  135823.934197   \n",
       "8  гражданский брак                 1      F   сотрудник     0   95856.832424   \n",
       "9   женат / замужем                 0      M   сотрудник     0  144425.938277   \n",
       "\n",
       "                      purpose  \n",
       "0               покупка жилья  \n",
       "1     приобретение автомобиля  \n",
       "2               покупка жилья  \n",
       "3  дополнительное образование  \n",
       "4             сыграть свадьбу  \n",
       "5               покупка жилья  \n",
       "6           операции с жильем  \n",
       "7                 образование  \n",
       "8       на проведение свадьбы  \n",
       "9     покупка жилья для семьи  "
      ]
     },
     "metadata": {},
     "output_type": "display_data"
    }
   ],
   "source": [
    "display(data.head(10))"
   ]
  },
  {
   "cell_type": "markdown",
   "metadata": {},
   "source": [
    "Изучим последнии 10 строк"
   ]
  },
  {
   "cell_type": "code",
   "execution_count": 3,
   "metadata": {},
   "outputs": [
    {
     "data": {
      "text/html": [
       "<div>\n",
       "<style scoped>\n",
       "    .dataframe tbody tr th:only-of-type {\n",
       "        vertical-align: middle;\n",
       "    }\n",
       "\n",
       "    .dataframe tbody tr th {\n",
       "        vertical-align: top;\n",
       "    }\n",
       "\n",
       "    .dataframe thead th {\n",
       "        text-align: right;\n",
       "    }\n",
       "</style>\n",
       "<table border=\"1\" class=\"dataframe\">\n",
       "  <thead>\n",
       "    <tr style=\"text-align: right;\">\n",
       "      <th></th>\n",
       "      <th>children</th>\n",
       "      <th>days_employed</th>\n",
       "      <th>dob_years</th>\n",
       "      <th>education</th>\n",
       "      <th>education_id</th>\n",
       "      <th>family_status</th>\n",
       "      <th>family_status_id</th>\n",
       "      <th>gender</th>\n",
       "      <th>income_type</th>\n",
       "      <th>debt</th>\n",
       "      <th>total_income</th>\n",
       "      <th>purpose</th>\n",
       "    </tr>\n",
       "  </thead>\n",
       "  <tbody>\n",
       "    <tr>\n",
       "      <td>21515</td>\n",
       "      <td>1</td>\n",
       "      <td>-467.685130</td>\n",
       "      <td>28</td>\n",
       "      <td>среднее</td>\n",
       "      <td>1</td>\n",
       "      <td>женат / замужем</td>\n",
       "      <td>0</td>\n",
       "      <td>F</td>\n",
       "      <td>сотрудник</td>\n",
       "      <td>1</td>\n",
       "      <td>109486.327999</td>\n",
       "      <td>заняться образованием</td>\n",
       "    </tr>\n",
       "    <tr>\n",
       "      <td>21516</td>\n",
       "      <td>0</td>\n",
       "      <td>-914.391429</td>\n",
       "      <td>42</td>\n",
       "      <td>высшее</td>\n",
       "      <td>0</td>\n",
       "      <td>женат / замужем</td>\n",
       "      <td>0</td>\n",
       "      <td>F</td>\n",
       "      <td>компаньон</td>\n",
       "      <td>0</td>\n",
       "      <td>322807.776603</td>\n",
       "      <td>покупка своего жилья</td>\n",
       "    </tr>\n",
       "    <tr>\n",
       "      <td>21517</td>\n",
       "      <td>0</td>\n",
       "      <td>-404.679034</td>\n",
       "      <td>42</td>\n",
       "      <td>высшее</td>\n",
       "      <td>0</td>\n",
       "      <td>гражданский брак</td>\n",
       "      <td>1</td>\n",
       "      <td>F</td>\n",
       "      <td>компаньон</td>\n",
       "      <td>0</td>\n",
       "      <td>178059.553491</td>\n",
       "      <td>на покупку своего автомобиля</td>\n",
       "    </tr>\n",
       "    <tr>\n",
       "      <td>21518</td>\n",
       "      <td>0</td>\n",
       "      <td>373995.710838</td>\n",
       "      <td>59</td>\n",
       "      <td>СРЕДНЕЕ</td>\n",
       "      <td>1</td>\n",
       "      <td>женат / замужем</td>\n",
       "      <td>0</td>\n",
       "      <td>F</td>\n",
       "      <td>пенсионер</td>\n",
       "      <td>0</td>\n",
       "      <td>153864.650328</td>\n",
       "      <td>сделка с автомобилем</td>\n",
       "    </tr>\n",
       "    <tr>\n",
       "      <td>21519</td>\n",
       "      <td>1</td>\n",
       "      <td>-2351.431934</td>\n",
       "      <td>37</td>\n",
       "      <td>ученая степень</td>\n",
       "      <td>4</td>\n",
       "      <td>в разводе</td>\n",
       "      <td>3</td>\n",
       "      <td>M</td>\n",
       "      <td>сотрудник</td>\n",
       "      <td>0</td>\n",
       "      <td>115949.039788</td>\n",
       "      <td>покупка коммерческой недвижимости</td>\n",
       "    </tr>\n",
       "    <tr>\n",
       "      <td>21520</td>\n",
       "      <td>1</td>\n",
       "      <td>-4529.316663</td>\n",
       "      <td>43</td>\n",
       "      <td>среднее</td>\n",
       "      <td>1</td>\n",
       "      <td>гражданский брак</td>\n",
       "      <td>1</td>\n",
       "      <td>F</td>\n",
       "      <td>компаньон</td>\n",
       "      <td>0</td>\n",
       "      <td>224791.862382</td>\n",
       "      <td>операции с жильем</td>\n",
       "    </tr>\n",
       "    <tr>\n",
       "      <td>21521</td>\n",
       "      <td>0</td>\n",
       "      <td>343937.404131</td>\n",
       "      <td>67</td>\n",
       "      <td>среднее</td>\n",
       "      <td>1</td>\n",
       "      <td>женат / замужем</td>\n",
       "      <td>0</td>\n",
       "      <td>F</td>\n",
       "      <td>пенсионер</td>\n",
       "      <td>0</td>\n",
       "      <td>155999.806512</td>\n",
       "      <td>сделка с автомобилем</td>\n",
       "    </tr>\n",
       "    <tr>\n",
       "      <td>21522</td>\n",
       "      <td>1</td>\n",
       "      <td>-2113.346888</td>\n",
       "      <td>38</td>\n",
       "      <td>среднее</td>\n",
       "      <td>1</td>\n",
       "      <td>гражданский брак</td>\n",
       "      <td>1</td>\n",
       "      <td>M</td>\n",
       "      <td>сотрудник</td>\n",
       "      <td>1</td>\n",
       "      <td>89672.561153</td>\n",
       "      <td>недвижимость</td>\n",
       "    </tr>\n",
       "    <tr>\n",
       "      <td>21523</td>\n",
       "      <td>3</td>\n",
       "      <td>-3112.481705</td>\n",
       "      <td>38</td>\n",
       "      <td>среднее</td>\n",
       "      <td>1</td>\n",
       "      <td>женат / замужем</td>\n",
       "      <td>0</td>\n",
       "      <td>M</td>\n",
       "      <td>сотрудник</td>\n",
       "      <td>1</td>\n",
       "      <td>244093.050500</td>\n",
       "      <td>на покупку своего автомобиля</td>\n",
       "    </tr>\n",
       "    <tr>\n",
       "      <td>21524</td>\n",
       "      <td>2</td>\n",
       "      <td>-1984.507589</td>\n",
       "      <td>40</td>\n",
       "      <td>среднее</td>\n",
       "      <td>1</td>\n",
       "      <td>женат / замужем</td>\n",
       "      <td>0</td>\n",
       "      <td>F</td>\n",
       "      <td>сотрудник</td>\n",
       "      <td>0</td>\n",
       "      <td>82047.418899</td>\n",
       "      <td>на покупку автомобиля</td>\n",
       "    </tr>\n",
       "  </tbody>\n",
       "</table>\n",
       "</div>"
      ],
      "text/plain": [
       "       children  days_employed  dob_years       education  education_id  \\\n",
       "21515         1    -467.685130         28         среднее             1   \n",
       "21516         0    -914.391429         42          высшее             0   \n",
       "21517         0    -404.679034         42          высшее             0   \n",
       "21518         0  373995.710838         59         СРЕДНЕЕ             1   \n",
       "21519         1   -2351.431934         37  ученая степень             4   \n",
       "21520         1   -4529.316663         43         среднее             1   \n",
       "21521         0  343937.404131         67         среднее             1   \n",
       "21522         1   -2113.346888         38         среднее             1   \n",
       "21523         3   -3112.481705         38         среднее             1   \n",
       "21524         2   -1984.507589         40         среднее             1   \n",
       "\n",
       "          family_status  family_status_id gender income_type  debt  \\\n",
       "21515   женат / замужем                 0      F   сотрудник     1   \n",
       "21516   женат / замужем                 0      F   компаньон     0   \n",
       "21517  гражданский брак                 1      F   компаньон     0   \n",
       "21518   женат / замужем                 0      F   пенсионер     0   \n",
       "21519         в разводе                 3      M   сотрудник     0   \n",
       "21520  гражданский брак                 1      F   компаньон     0   \n",
       "21521   женат / замужем                 0      F   пенсионер     0   \n",
       "21522  гражданский брак                 1      M   сотрудник     1   \n",
       "21523   женат / замужем                 0      M   сотрудник     1   \n",
       "21524   женат / замужем                 0      F   сотрудник     0   \n",
       "\n",
       "        total_income                            purpose  \n",
       "21515  109486.327999              заняться образованием  \n",
       "21516  322807.776603               покупка своего жилья  \n",
       "21517  178059.553491       на покупку своего автомобиля  \n",
       "21518  153864.650328               сделка с автомобилем  \n",
       "21519  115949.039788  покупка коммерческой недвижимости  \n",
       "21520  224791.862382                  операции с жильем  \n",
       "21521  155999.806512               сделка с автомобилем  \n",
       "21522   89672.561153                       недвижимость  \n",
       "21523  244093.050500       на покупку своего автомобиля  \n",
       "21524   82047.418899              на покупку автомобиля  "
      ]
     },
     "metadata": {},
     "output_type": "display_data"
    }
   ],
   "source": [
    "display(data.tail(10))"
   ]
  },
  {
   "cell_type": "markdown",
   "metadata": {},
   "source": [
    "Изучим уникальные значения столбца \"children\""
   ]
  },
  {
   "cell_type": "code",
   "execution_count": 4,
   "metadata": {},
   "outputs": [
    {
     "data": {
      "text/plain": [
       " 0     14149\n",
       " 1      4818\n",
       " 2      2055\n",
       " 3       330\n",
       " 20       76\n",
       "-1        47\n",
       " 4        41\n",
       " 5         9\n",
       "Name: children, dtype: int64"
      ]
     },
     "metadata": {},
     "output_type": "display_data"
    }
   ],
   "source": [
    "display(data['children'].value_counts())"
   ]
  },
  {
   "cell_type": "markdown",
   "metadata": {},
   "source": [
    "Изучим уникальные значения столбца \"dob_years\""
   ]
  },
  {
   "cell_type": "code",
   "execution_count": 5,
   "metadata": {},
   "outputs": [
    {
     "data": {
      "text/plain": [
       "35    617\n",
       "40    609\n",
       "41    607\n",
       "34    603\n",
       "38    598\n",
       "42    597\n",
       "33    581\n",
       "39    573\n",
       "31    560\n",
       "36    555\n",
       "44    547\n",
       "29    545\n",
       "30    540\n",
       "48    538\n",
       "37    537\n",
       "50    514\n",
       "43    513\n",
       "32    510\n",
       "49    508\n",
       "28    503\n",
       "45    497\n",
       "27    493\n",
       "56    487\n",
       "52    484\n",
       "47    480\n",
       "54    479\n",
       "46    475\n",
       "58    461\n",
       "57    460\n",
       "53    459\n",
       "51    448\n",
       "59    444\n",
       "55    443\n",
       "26    408\n",
       "60    377\n",
       "25    357\n",
       "61    355\n",
       "62    352\n",
       "63    269\n",
       "64    265\n",
       "24    264\n",
       "23    254\n",
       "65    194\n",
       "66    183\n",
       "22    183\n",
       "67    167\n",
       "21    111\n",
       "0     101\n",
       "68     99\n",
       "69     85\n",
       "70     65\n",
       "71     58\n",
       "20     51\n",
       "72     33\n",
       "19     14\n",
       "73      8\n",
       "74      6\n",
       "75      1\n",
       "Name: dob_years, dtype: int64"
      ]
     },
     "metadata": {},
     "output_type": "display_data"
    }
   ],
   "source": [
    "display(data['dob_years'].value_counts())"
   ]
  },
  {
   "cell_type": "markdown",
   "metadata": {},
   "source": [
    "Изучим уникальные значения столбца \"education\""
   ]
  },
  {
   "cell_type": "code",
   "execution_count": 6,
   "metadata": {},
   "outputs": [
    {
     "data": {
      "text/plain": [
       "среднее                13750\n",
       "высшее                  4718\n",
       "СРЕДНЕЕ                  772\n",
       "Среднее                  711\n",
       "неоконченное высшее      668\n",
       "ВЫСШЕЕ                   274\n",
       "Высшее                   268\n",
       "начальное                250\n",
       "Неоконченное высшее       47\n",
       "НЕОКОНЧЕННОЕ ВЫСШЕЕ       29\n",
       "НАЧАЛЬНОЕ                 17\n",
       "Начальное                 15\n",
       "ученая степень             4\n",
       "Ученая степень             1\n",
       "УЧЕНАЯ СТЕПЕНЬ             1\n",
       "Name: education, dtype: int64"
      ]
     },
     "metadata": {},
     "output_type": "display_data"
    }
   ],
   "source": [
    "display(data['education'].value_counts())"
   ]
  },
  {
   "cell_type": "markdown",
   "metadata": {},
   "source": [
    "Изучим уникальные значения столбца \"education_id\""
   ]
  },
  {
   "cell_type": "code",
   "execution_count": 7,
   "metadata": {},
   "outputs": [
    {
     "data": {
      "text/plain": [
       "1    15233\n",
       "0     5260\n",
       "2      744\n",
       "3      282\n",
       "4        6\n",
       "Name: education_id, dtype: int64"
      ]
     },
     "metadata": {},
     "output_type": "display_data"
    }
   ],
   "source": [
    "display(data['education_id'].value_counts())"
   ]
  },
  {
   "cell_type": "markdown",
   "metadata": {},
   "source": [
    "Изучим уникальные значения столбца \"family_status\""
   ]
  },
  {
   "cell_type": "code",
   "execution_count": 8,
   "metadata": {},
   "outputs": [
    {
     "data": {
      "text/plain": [
       "женат / замужем          12380\n",
       "гражданский брак          4177\n",
       "Не женат / не замужем     2813\n",
       "в разводе                 1195\n",
       "вдовец / вдова             960\n",
       "Name: family_status, dtype: int64"
      ]
     },
     "metadata": {},
     "output_type": "display_data"
    }
   ],
   "source": [
    "display(data['family_status'].value_counts())"
   ]
  },
  {
   "cell_type": "markdown",
   "metadata": {},
   "source": [
    "Изучим уникальные значения столбца \"family_status_id\""
   ]
  },
  {
   "cell_type": "code",
   "execution_count": 9,
   "metadata": {},
   "outputs": [
    {
     "data": {
      "text/plain": [
       "0    12380\n",
       "1     4177\n",
       "4     2813\n",
       "3     1195\n",
       "2      960\n",
       "Name: family_status_id, dtype: int64"
      ]
     },
     "metadata": {},
     "output_type": "display_data"
    }
   ],
   "source": [
    "display(data['family_status_id'].value_counts())"
   ]
  },
  {
   "cell_type": "markdown",
   "metadata": {},
   "source": [
    "Изучим уникальные значения столбца \"gender\""
   ]
  },
  {
   "cell_type": "code",
   "execution_count": 10,
   "metadata": {},
   "outputs": [
    {
     "data": {
      "text/plain": [
       "F      14236\n",
       "M       7288\n",
       "XNA        1\n",
       "Name: gender, dtype: int64"
      ]
     },
     "metadata": {},
     "output_type": "display_data"
    }
   ],
   "source": [
    "display(data['gender'].value_counts())"
   ]
  },
  {
   "cell_type": "markdown",
   "metadata": {},
   "source": [
    "Изучим уникальные значения столбца \"income_type\""
   ]
  },
  {
   "cell_type": "code",
   "execution_count": 11,
   "metadata": {},
   "outputs": [
    {
     "data": {
      "text/plain": [
       "сотрудник          11119\n",
       "компаньон           5085\n",
       "пенсионер           3856\n",
       "госслужащий         1459\n",
       "безработный            2\n",
       "предприниматель        2\n",
       "в декрете              1\n",
       "студент                1\n",
       "Name: income_type, dtype: int64"
      ]
     },
     "metadata": {},
     "output_type": "display_data"
    }
   ],
   "source": [
    "display(data['income_type'].value_counts())"
   ]
  },
  {
   "cell_type": "markdown",
   "metadata": {},
   "source": [
    "Изучим уникальные значения столбца \"debt\""
   ]
  },
  {
   "cell_type": "code",
   "execution_count": 12,
   "metadata": {},
   "outputs": [
    {
     "data": {
      "text/plain": [
       "0    19784\n",
       "1     1741\n",
       "Name: debt, dtype: int64"
      ]
     },
     "metadata": {},
     "output_type": "display_data"
    }
   ],
   "source": [
    "display(data['debt'].value_counts())"
   ]
  },
  {
   "cell_type": "markdown",
   "metadata": {},
   "source": [
    "Изучим уникальные значения столбца \"purpose\""
   ]
  },
  {
   "cell_type": "code",
   "execution_count": 13,
   "metadata": {
    "scrolled": true
   },
   "outputs": [
    {
     "data": {
      "text/plain": [
       "свадьба                                   797\n",
       "на проведение свадьбы                     777\n",
       "сыграть свадьбу                           774\n",
       "операции с недвижимостью                  676\n",
       "покупка коммерческой недвижимости         664\n",
       "покупка жилья для сдачи                   653\n",
       "операции с жильем                         653\n",
       "операции с коммерческой недвижимостью     651\n",
       "покупка жилья                             647\n",
       "жилье                                     647\n",
       "покупка жилья для семьи                   641\n",
       "строительство собственной недвижимости    635\n",
       "недвижимость                              634\n",
       "операции со своей недвижимостью           630\n",
       "строительство жилой недвижимости          626\n",
       "покупка недвижимости                      624\n",
       "покупка своего жилья                      620\n",
       "строительство недвижимости                620\n",
       "ремонт жилью                              612\n",
       "покупка жилой недвижимости                607\n",
       "на покупку своего автомобиля              505\n",
       "заняться высшим образованием              496\n",
       "автомобиль                                495\n",
       "сделка с подержанным автомобилем          489\n",
       "свой автомобиль                           480\n",
       "на покупку подержанного автомобиля        479\n",
       "автомобили                                478\n",
       "на покупку автомобиля                     472\n",
       "дополнительное образование                462\n",
       "приобретение автомобиля                   462\n",
       "сделка с автомобилем                      455\n",
       "высшее образование                        453\n",
       "получение дополнительного образования     447\n",
       "образование                               447\n",
       "получение образования                     443\n",
       "профильное образование                    436\n",
       "получение высшего образования             426\n",
       "заняться образованием                     412\n",
       "Name: purpose, dtype: int64"
      ]
     },
     "metadata": {},
     "output_type": "display_data"
    }
   ],
   "source": [
    "display(data['purpose'].value_counts())"
   ]
  },
  {
   "cell_type": "markdown",
   "metadata": {},
   "source": [
    "### 1.2. Вывод\n",
    "<a id=\"1.2\"></a>"
   ]
  },
  {
   "cell_type": "markdown",
   "metadata": {},
   "source": [
    "Изучив общую информацию по таблице сделалали следующие выводы:\n",
    "1. Наименования столбцов корректные. Замена не требуется\n",
    "2. В столбцах \"days_employed\" и \"total_income\" выявили одинаковое количество пропущенных значений, а именно 2174, возможно это одни и те же строки, так как трудовой стаж и ежемесячный доход связанные показатели. В остальных столбцах пропущенных значений не выявили.\n",
    "3. В столбце \"children\" выявили 76 семей с 20-ю детьми и 47 семей с отрицательным количеством детей.  По состоянию на 2020 год в России существует только одна семья с своими 20 детьми. Маловероятно такое количество семей, даже если дети на усыновлении. Возможно это опечатка, так как на полноценной клавиатуре на правой части \"0\" и \"2\" находятся по соседству. Отрицательные значения могут быть последствиями особенности кода программы по обработке данных о клиенте. Возможно если нет данных по количеству детей, программа выводит значение \"-1\".\n",
    "4. Кроме пропущенных значений в столбце \"days_employed\" существуют отрицательные значения и положительные значения. Положительные значения не внушают доверия. Например при переводе 4 строки из дней в года получим 932 года непрерывной работы. Отрицательные значения похожи на правду, при необходимости нужно будет перевести их в положительные.\n",
    "5. В столбце \"dob_years\" выявили 101 клиента с возрастом 0 лет. Тип данных в столбце подходящий, int64.\n",
    "6. В столбце \"education\" выявили только одну проблему - разный регистр букв. Методом str.lower() можно все исправить.\n",
    "7. В столбце \"education_id\" 5 уникальных значений. После исправления регистра в столбце \"education\" нужно будет проверить совпадают ли количества уникальных значений этих столбцов. \n",
    "8. В столбцах \"family_status\" и \"family_status_id\" все корректно.\n",
    "9. В столбце \"gender\" выявили одно значение \"XNA\". Оно помешает расчетам. Необходимо заменить на \"F\", статистику это не испортит.\n",
    "10. В столбце \"income_type\" все корректно. Но, если понадобится производить расчеты с участием данного столбца, будет лучше его сократить по количеству наименований. Половина из них имеет единичные показатели по количеству.\n",
    "11. В столбце \"debt\" все корректно. Тип данных подходящий, int64.\n",
    "12. В столбце \"total_income\" кроме пропущенных значений проблем не выявили. После заполнения пропущенных значений необходимо перевести тип данных в int64 для повышения читаемости.\n",
    "13. В столбце \"purpose\" слишком много слов, которые при помощи лемматизации можно привести всего к 5-ти различным категориям, а именно : свадьба, жилая недвижимость, коммерческая  недвижимость, автомобиль, образование. \n",
    "\n"
   ]
  },
  {
   "cell_type": "markdown",
   "metadata": {},
   "source": [
    "## 2. Предобработка данных\n",
    "<a id=\"2\"></a>"
   ]
  },
  {
   "cell_type": "markdown",
   "metadata": {},
   "source": [
    "### 2.1. Обработка пропусков\n",
    "<a id=\"2.1\"></a>"
   ]
  },
  {
   "cell_type": "markdown",
   "metadata": {},
   "source": [
    "#### 2.1.1. Столбец \"dob_years\"\n",
    "<a id=\"2.1.1\"></a>\n"
   ]
  },
  {
   "cell_type": "markdown",
   "metadata": {},
   "source": [
    "В столбце \"dob_years\" 101 клиент с возрастом 0 лет, что составляет почти пол процента от общего количества клиентов. Данные о возрасте взять негде, количество таких клиентов небольшое. Проверим минимальный и максимальный возраст. Если все в порядке, заменим на медианное значение в зависимости от типа занятости."
   ]
  },
  {
   "cell_type": "code",
   "execution_count": 14,
   "metadata": {},
   "outputs": [
    {
     "data": {
      "text/plain": [
       "19"
      ]
     },
     "metadata": {},
     "output_type": "display_data"
    }
   ],
   "source": [
    "display(data[data['dob_years'] > 0]['dob_years'].min())"
   ]
  },
  {
   "cell_type": "code",
   "execution_count": 15,
   "metadata": {},
   "outputs": [
    {
     "data": {
      "text/plain": [
       "75"
      ]
     },
     "metadata": {},
     "output_type": "display_data"
    }
   ],
   "source": [
    "display(data['dob_years'].max())"
   ]
  },
  {
   "cell_type": "markdown",
   "metadata": {},
   "source": [
    "Создадим новую копию, в которой будем производить все изменения"
   ]
  },
  {
   "cell_type": "code",
   "execution_count": 16,
   "metadata": {},
   "outputs": [],
   "source": [
    "main_data = data.copy()"
   ]
  },
  {
   "cell_type": "markdown",
   "metadata": {},
   "source": [
    "Заменим на медианное значение в зависимости от типа занятости."
   ]
  },
  {
   "cell_type": "code",
   "execution_count": 17,
   "metadata": {},
   "outputs": [],
   "source": [
    "main_data['dob_years'] = data['dob_years'].replace(0,\n",
    "    data.groupby('income_type')['dob_years'].transform('median'))"
   ]
  },
  {
   "cell_type": "markdown",
   "metadata": {},
   "source": [
    "Проверим замену"
   ]
  },
  {
   "cell_type": "code",
   "execution_count": 18,
   "metadata": {},
   "outputs": [
    {
     "data": {
      "text/plain": [
       "0"
      ]
     },
     "metadata": {},
     "output_type": "display_data"
    }
   ],
   "source": [
    "display(main_data[main_data['dob_years'] < 19]['dob_years'].count())"
   ]
  },
  {
   "cell_type": "markdown",
   "metadata": {},
   "source": [
    "#### 2.1.2. Столбец \"children\"\n",
    "<a id=\"2.1.2\"></a>"
   ]
  },
  {
   "cell_type": "markdown",
   "metadata": {},
   "source": [
    "Проверим медианный возраст клиентов с некорректными данными по столбцу"
   ]
  },
  {
   "cell_type": "code",
   "execution_count": 19,
   "metadata": {},
   "outputs": [
    {
     "data": {
      "text/plain": [
       "41.5"
      ]
     },
     "metadata": {},
     "output_type": "display_data"
    }
   ],
   "source": [
    "display(main_data[main_data['children'] == 20]['dob_years'].median())"
   ]
  },
  {
   "cell_type": "code",
   "execution_count": 20,
   "metadata": {},
   "outputs": [
    {
     "data": {
      "text/plain": [
       "41.0"
      ]
     },
     "metadata": {},
     "output_type": "display_data"
    }
   ],
   "source": [
    "display(main_data[main_data['children'] == -1]['dob_years'].median())"
   ]
  },
  {
   "cell_type": "markdown",
   "metadata": {},
   "source": [
    "Проверим была ли связь этих клиентов с клиентами с нулевым возрастом."
   ]
  },
  {
   "cell_type": "code",
   "execution_count": 21,
   "metadata": {},
   "outputs": [
    {
     "data": {
      "text/plain": [
       "1"
      ]
     },
     "metadata": {},
     "output_type": "display_data"
    }
   ],
   "source": [
    "display(data[(data['children'] == 20) & (data['dob_years'] == 0)]['children'].count())"
   ]
  },
  {
   "cell_type": "code",
   "execution_count": 22,
   "metadata": {},
   "outputs": [
    {
     "data": {
      "text/plain": [
       "0"
      ]
     },
     "metadata": {},
     "output_type": "display_data"
    }
   ],
   "source": [
    "display(data[(data['children'] == -1) & (data['dob_years'] == 0)]['children'].count())"
   ]
  },
  {
   "cell_type": "markdown",
   "metadata": {},
   "source": [
    "Только один клиент совпал. Связи нет. Заменим количество детей клиентов с 20 детьми на 2, а клиентов с -1 на 0 и проверим результат."
   ]
  },
  {
   "cell_type": "code",
   "execution_count": 23,
   "metadata": {},
   "outputs": [
    {
     "data": {
      "text/plain": [
       "0    14196\n",
       "1     4818\n",
       "2     2131\n",
       "3      330\n",
       "4       41\n",
       "5        9\n",
       "Name: children, dtype: int64"
      ]
     },
     "metadata": {},
     "output_type": "display_data"
    }
   ],
   "source": [
    "main_data['children'] = main_data['children'].replace(20, 2)\n",
    "main_data['children'] = main_data['children'].replace(-1, 0)\n",
    "display(main_data['children'].value_counts())"
   ]
  },
  {
   "cell_type": "markdown",
   "metadata": {},
   "source": [
    "#### 2.1.3. Столбец \"days_employed\"\n",
    "<a id=\"2.1.3\"></a>"
   ]
  },
  {
   "cell_type": "markdown",
   "metadata": {},
   "source": [
    "Проверим количество положительных значений столбца"
   ]
  },
  {
   "cell_type": "code",
   "execution_count": 24,
   "metadata": {},
   "outputs": [
    {
     "data": {
      "text/plain": [
       "3445"
      ]
     },
     "metadata": {},
     "output_type": "display_data"
    }
   ],
   "source": [
    "display(main_data[main_data['days_employed'] > 0]['days_employed'].count())"
   ]
  },
  {
   "cell_type": "markdown",
   "metadata": {},
   "source": [
    "Проверим количество отрицательных значений столбца"
   ]
  },
  {
   "cell_type": "code",
   "execution_count": 25,
   "metadata": {},
   "outputs": [
    {
     "data": {
      "text/plain": [
       "15906"
      ]
     },
     "metadata": {},
     "output_type": "display_data"
    }
   ],
   "source": [
    "display(main_data[main_data['days_employed'] < 0]['days_employed'].count())"
   ]
  },
  {
   "cell_type": "markdown",
   "metadata": {},
   "source": [
    "Проверим количество пустых значений"
   ]
  },
  {
   "cell_type": "code",
   "execution_count": 26,
   "metadata": {},
   "outputs": [
    {
     "data": {
      "text/plain": [
       "2174"
      ]
     },
     "metadata": {},
     "output_type": "display_data"
    }
   ],
   "source": [
    "display(main_data[main_data['days_employed'].isna() == True]['days_employed'].isna().sum())"
   ]
  },
  {
   "cell_type": "markdown",
   "metadata": {},
   "source": [
    "Столбец \"days_employed\" не будет использоваться в исследовании, так как более четверти значений данного столбца некорректны. Но необходимо проверить, совпадают ли строки с пустыми значениями трудового стажа со строками с пустыми значениями в ежемесячном доходе, а так же заменить пустые значения столбца \"days_employed\" на 0, если строки совпадают."
   ]
  },
  {
   "cell_type": "code",
   "execution_count": 27,
   "metadata": {},
   "outputs": [
    {
     "data": {
      "text/plain": [
       "2174"
      ]
     },
     "metadata": {},
     "output_type": "display_data"
    }
   ],
   "source": [
    "display(main_data[(main_data['days_employed'].isna() == True) &\n",
    "           (main_data['total_income'].isna() == True)]['days_employed'].isna().sum())"
   ]
  },
  {
   "cell_type": "markdown",
   "metadata": {},
   "source": [
    "Строки столбцов с пустыми значениями \"days_employed\" и \"total_income\" совпадают. Произведем замену на 0 в столбце \"days_employed\" и проверим общую информацию по таблице"
   ]
  },
  {
   "cell_type": "code",
   "execution_count": 28,
   "metadata": {},
   "outputs": [
    {
     "name": "stdout",
     "output_type": "stream",
     "text": [
      "<class 'pandas.core.frame.DataFrame'>\n",
      "RangeIndex: 21525 entries, 0 to 21524\n",
      "Data columns (total 12 columns):\n",
      "children            21525 non-null int64\n",
      "days_employed       21525 non-null float64\n",
      "dob_years           21525 non-null int64\n",
      "education           21525 non-null object\n",
      "education_id        21525 non-null int64\n",
      "family_status       21525 non-null object\n",
      "family_status_id    21525 non-null int64\n",
      "gender              21525 non-null object\n",
      "income_type         21525 non-null object\n",
      "debt                21525 non-null int64\n",
      "total_income        19351 non-null float64\n",
      "purpose             21525 non-null object\n",
      "dtypes: float64(2), int64(5), object(5)\n",
      "memory usage: 2.0+ MB\n"
     ]
    }
   ],
   "source": [
    "main_data['days_employed'] = main_data['days_employed'].fillna(0)\n",
    "main_data.info()"
   ]
  },
  {
   "cell_type": "markdown",
   "metadata": {},
   "source": [
    "Проверим, являются ли пенсионерами клиенты с некорректными значениями в столбце \"days_employed\". Для начала выведем количество  клиентов категории пенсионеры."
   ]
  },
  {
   "cell_type": "code",
   "execution_count": 29,
   "metadata": {},
   "outputs": [
    {
     "data": {
      "text/plain": [
       "3856"
      ]
     },
     "metadata": {},
     "output_type": "display_data"
    }
   ],
   "source": [
    "pensioner = data[data['income_type'] == 'пенсионер']['income_type'].count()\n",
    "display(pensioner)"
   ]
  },
  {
   "cell_type": "markdown",
   "metadata": {},
   "source": [
    "Выведем количество клиентов категории пенсионеры с положительными значениями"
   ]
  },
  {
   "cell_type": "code",
   "execution_count": 30,
   "metadata": {},
   "outputs": [
    {
     "data": {
      "text/plain": [
       "3443"
      ]
     },
     "metadata": {},
     "output_type": "display_data"
    }
   ],
   "source": [
    "pensionerPlus = data[(data['income_type'] == 'пенсионер') & (\n",
    "    data['days_employed'] > 0)]['total_income'].count()\n",
    "display(pensionerPlus)"
   ]
  },
  {
   "cell_type": "markdown",
   "metadata": {},
   "source": [
    "Выведем клиентов категории пенсионеры с пропущенными значениями."
   ]
  },
  {
   "cell_type": "code",
   "execution_count": 31,
   "metadata": {},
   "outputs": [
    {
     "data": {
      "text/plain": [
       "413"
      ]
     },
     "metadata": {},
     "output_type": "display_data"
    }
   ],
   "source": [
    "pensionerNAN = data[(data['income_type'] == 'пенсионер') & (\n",
    "    data['days_employed'].isna() == True)]['income_type'].count()\n",
    "display(pensionerNAN)"
   ]
  },
  {
   "cell_type": "markdown",
   "metadata": {},
   "source": [
    "Выведем общее количество клиентов с пропущенными значениями"
   ]
  },
  {
   "cell_type": "code",
   "execution_count": 32,
   "metadata": {},
   "outputs": [
    {
     "data": {
      "text/plain": [
       "2174"
      ]
     },
     "metadata": {},
     "output_type": "display_data"
    }
   ],
   "source": [
    "allNAN = data[data['days_employed'].isna() == True]['income_type'].count()\n",
    "display(allNAN)"
   ]
  },
  {
   "cell_type": "markdown",
   "metadata": {},
   "source": [
    "Выведем общее количество клиентов с некорректными положительными значениями."
   ]
  },
  {
   "cell_type": "code",
   "execution_count": 33,
   "metadata": {},
   "outputs": [
    {
     "data": {
      "text/plain": [
       "3445"
      ]
     },
     "metadata": {},
     "output_type": "display_data"
    }
   ],
   "source": [
    "display(data[data['days_employed'] > 0]['total_income'].count())"
   ]
  },
  {
   "cell_type": "markdown",
   "metadata": {},
   "source": [
    "Почти все клиенты ,без двух, с некорректными значениями в столбце \"days_employed\" являются пенсионерами. Кроме того оставшиеся 413 пенсионеров имеют NAN в данном столбце. В любом случае навести порядок в данном столбце не предоставляется возможным ввиду большого значения некорректных значений."
   ]
  },
  {
   "cell_type": "markdown",
   "metadata": {},
   "source": [
    "#### 2.1.4. Столбец \"education\"\n",
    "<a id=\"2.1.4\"></a>"
   ]
  },
  {
   "cell_type": "markdown",
   "metadata": {},
   "source": [
    "В данном столбце разный регистр букв. Методом str.lower() исправим это и проверим результат при помощи группировки со столбцом \"education_id\" методом groupby"
   ]
  },
  {
   "cell_type": "code",
   "execution_count": 34,
   "metadata": {},
   "outputs": [
    {
     "data": {
      "text/plain": [
       "education\n",
       "высшее                  5260\n",
       "начальное                282\n",
       "неоконченное высшее      744\n",
       "среднее                15233\n",
       "ученая степень             6\n",
       "Name: education_id, dtype: int64"
      ]
     },
     "metadata": {},
     "output_type": "display_data"
    }
   ],
   "source": [
    "main_data['education'] = main_data['education'].str.lower() \n",
    "display(main_data.groupby('education')['education_id'].count())"
   ]
  },
  {
   "cell_type": "markdown",
   "metadata": {},
   "source": [
    "#### 2.1.5. Столбец \"gender\"\n",
    "<a id=\"2.1.5\"></a>"
   ]
  },
  {
   "cell_type": "markdown",
   "metadata": {},
   "source": [
    " В столбце \"gender\" заменим одно значение \"XNA\" на \"F\" и проверим уникальные значения."
   ]
  },
  {
   "cell_type": "code",
   "execution_count": 35,
   "metadata": {},
   "outputs": [
    {
     "data": {
      "text/plain": [
       "F    14237\n",
       "M     7288\n",
       "Name: gender, dtype: int64"
      ]
     },
     "metadata": {},
     "output_type": "display_data"
    }
   ],
   "source": [
    "main_data['gender'] = main_data['gender'].replace('XNA', 'F')\n",
    "display(main_data['gender'].value_counts())"
   ]
  },
  {
   "cell_type": "markdown",
   "metadata": {},
   "source": [
    "#### 2.1.6. Столбец \"total_income\"\n",
    "<a id=\"2.1.6\"></a>"
   ]
  },
  {
   "cell_type": "markdown",
   "metadata": {},
   "source": [
    "Проверим максимальное и минимальное значения столбца"
   ]
  },
  {
   "cell_type": "markdown",
   "metadata": {},
   "source": [
    "Максимальный ежемесячный доход:"
   ]
  },
  {
   "cell_type": "code",
   "execution_count": 36,
   "metadata": {},
   "outputs": [
    {
     "data": {
      "text/plain": [
       "2265604.028722744"
      ]
     },
     "metadata": {},
     "output_type": "display_data"
    }
   ],
   "source": [
    "display(data['total_income'].max())"
   ]
  },
  {
   "cell_type": "markdown",
   "metadata": {},
   "source": [
    "Количество клиентов с ежемесечным доходом выше 1млн:"
   ]
  },
  {
   "cell_type": "code",
   "execution_count": 37,
   "metadata": {},
   "outputs": [
    {
     "data": {
      "text/plain": [
       "25"
      ]
     },
     "metadata": {},
     "output_type": "display_data"
    }
   ],
   "source": [
    "display(data[data['total_income'] > 1000000]['total_income'].count())"
   ]
  },
  {
   "cell_type": "markdown",
   "metadata": {},
   "source": [
    "Минимальный ежемесячный доход:"
   ]
  },
  {
   "cell_type": "code",
   "execution_count": 38,
   "metadata": {},
   "outputs": [
    {
     "data": {
      "text/plain": [
       "20667.26379327158"
      ]
     },
     "metadata": {},
     "output_type": "display_data"
    }
   ],
   "source": [
    "display(data['total_income'].min())"
   ]
  },
  {
   "cell_type": "markdown",
   "metadata": {},
   "source": [
    "Значения похожи на правду."
   ]
  },
  {
   "cell_type": "markdown",
   "metadata": {},
   "source": [
    "Выведем одтельную таблицу по клиентам с значением NAN  в столбце 'total_income'"
   ]
  },
  {
   "cell_type": "code",
   "execution_count": 39,
   "metadata": {},
   "outputs": [],
   "source": [
    "dataNAN = main_data[(main_data['total_income'].isna() == True)]"
   ]
  },
  {
   "cell_type": "markdown",
   "metadata": {},
   "source": [
    "Выведем сгруппированную таблицу по типу занятости. Проверим, относятся ли клиенты к определенному типу занятости"
   ]
  },
  {
   "cell_type": "code",
   "execution_count": 40,
   "metadata": {},
   "outputs": [
    {
     "data": {
      "text/plain": [
       "income_type\n",
       "госслужащий         147\n",
       "компаньон           508\n",
       "пенсионер           413\n",
       "предприниматель       1\n",
       "сотрудник          1105\n",
       "Name: income_type, dtype: int64"
      ]
     },
     "metadata": {},
     "output_type": "display_data"
    }
   ],
   "source": [
    "display(dataNAN.groupby('income_type')['income_type'].count())"
   ]
  },
  {
   "cell_type": "markdown",
   "metadata": {},
   "source": [
    "Значение NAN случайно распределено по типу занятости."
   ]
  },
  {
   "cell_type": "markdown",
   "metadata": {},
   "source": [
    "Проверим, различен ли доход в зависимости от типа занятости. Выведем медианное значение дохода по каждой категории."
   ]
  },
  {
   "cell_type": "code",
   "execution_count": 41,
   "metadata": {},
   "outputs": [
    {
     "data": {
      "text/plain": [
       "income_type\n",
       "безработный        131339.751676\n",
       "в декрете           53829.130729\n",
       "госслужащий        150447.935283\n",
       "компаньон          172357.950966\n",
       "пенсионер          118514.486412\n",
       "предприниматель    499163.144947\n",
       "сотрудник          142594.396847\n",
       "студент             98201.625314\n",
       "Name: total_income, dtype: float64"
      ]
     },
     "metadata": {},
     "output_type": "display_data"
    }
   ],
   "source": [
    "display(main_data.groupby('income_type')['total_income'].median())"
   ]
  },
  {
   "cell_type": "markdown",
   "metadata": {},
   "source": [
    "Различия существенны, нужно будет учесть если будем заполнять пропущенные значения средними по столбцу."
   ]
  },
  {
   "cell_type": "markdown",
   "metadata": {},
   "source": [
    "Проверим, относятся ли клиенты к определенному полу. Для начала посчитаем общее количество клиентов женского пола."
   ]
  },
  {
   "cell_type": "code",
   "execution_count": 42,
   "metadata": {},
   "outputs": [
    {
     "data": {
      "text/plain": [
       "14237"
      ]
     },
     "metadata": {},
     "output_type": "display_data"
    }
   ],
   "source": [
    "women = main_data[main_data['gender'] == 'F']['gender'].count()\n",
    "display(women)"
   ]
  },
  {
   "cell_type": "markdown",
   "metadata": {},
   "source": [
    "Посчитаем количество клиентов женского пола с пустыми значениями в столбце \"total_income\"."
   ]
  },
  {
   "cell_type": "code",
   "execution_count": 43,
   "metadata": {},
   "outputs": [
    {
     "data": {
      "text/plain": [
       "1484"
      ]
     },
     "metadata": {},
     "output_type": "display_data"
    }
   ],
   "source": [
    "womenNAN = dataNAN[dataNAN['gender'] == 'F']['gender'].count()\n",
    "display(womenNAN)"
   ]
  },
  {
   "cell_type": "markdown",
   "metadata": {},
   "source": [
    "Посчитаем общее количество клиентов мужского пола."
   ]
  },
  {
   "cell_type": "code",
   "execution_count": 44,
   "metadata": {},
   "outputs": [
    {
     "data": {
      "text/plain": [
       "7288"
      ]
     },
     "metadata": {},
     "output_type": "display_data"
    }
   ],
   "source": [
    "men = main_data[main_data['gender'] == 'M']['gender'].count()\n",
    "display(men)"
   ]
  },
  {
   "cell_type": "markdown",
   "metadata": {},
   "source": [
    "Посчитаем количество клиентов мужского пола с пустыми значениями в столбце \"total_income\"."
   ]
  },
  {
   "cell_type": "code",
   "execution_count": 45,
   "metadata": {},
   "outputs": [
    {
     "data": {
      "text/plain": [
       "690"
      ]
     },
     "metadata": {},
     "output_type": "display_data"
    }
   ],
   "source": [
    "menNAN = dataNAN[dataNAN['gender'] == 'M']['gender'].count()\n",
    "display(menNAN)"
   ]
  },
  {
   "cell_type": "markdown",
   "metadata": {},
   "source": [
    "Проверим количество женщин с NAN в зависимости от общего количества женщин в процентом соотношении."
   ]
  },
  {
   "cell_type": "code",
   "execution_count": 46,
   "metadata": {},
   "outputs": [
    {
     "data": {
      "text/plain": [
       "10.423544286015312"
      ]
     },
     "metadata": {},
     "output_type": "display_data"
    }
   ],
   "source": [
    "display(womenNAN * 100/ women)"
   ]
  },
  {
   "cell_type": "markdown",
   "metadata": {},
   "source": [
    "Проверим количество мужчин с NAN в зависимости от общего количества мужчин в процентом соотношении."
   ]
  },
  {
   "cell_type": "code",
   "execution_count": 47,
   "metadata": {},
   "outputs": [
    {
     "data": {
      "text/plain": [
       "9.46761800219539"
      ]
     },
     "metadata": {},
     "output_type": "display_data"
    }
   ],
   "source": [
    "display(menNAN * 100 / men)"
   ]
  },
  {
   "cell_type": "markdown",
   "metadata": {},
   "source": [
    "Значения NAN у мужчин и женщин встречается с примерно одинаковым отношением в зависимоти от их общего количества. Классификация по полу не имеет значения."
   ]
  },
  {
   "cell_type": "markdown",
   "metadata": {},
   "source": [
    "Проверим, различается ли медианный доход мужского пола от медианного дохода женского пола."
   ]
  },
  {
   "cell_type": "markdown",
   "metadata": {},
   "source": [
    "Медианный доход женского пола:"
   ]
  },
  {
   "cell_type": "code",
   "execution_count": 48,
   "metadata": {},
   "outputs": [
    {
     "data": {
      "text/plain": [
       "134157.28405728302"
      ]
     },
     "metadata": {},
     "output_type": "display_data"
    }
   ],
   "source": [
    "display(main_data[main_data['gender'] == 'F']['total_income'].median())"
   ]
  },
  {
   "cell_type": "markdown",
   "metadata": {},
   "source": [
    "Медианный доход мужского пола:"
   ]
  },
  {
   "cell_type": "code",
   "execution_count": 49,
   "metadata": {},
   "outputs": [
    {
     "data": {
      "text/plain": [
       "167714.34371587454"
      ]
     },
     "metadata": {},
     "output_type": "display_data"
    }
   ],
   "source": [
    "display(main_data[main_data['gender'] == 'M']['total_income'].median())"
   ]
  },
  {
   "cell_type": "markdown",
   "metadata": {},
   "source": [
    "Разница существенная, нужно будет учесть если будем заполнять пропущенные значения средними по столбцу."
   ]
  },
  {
   "cell_type": "markdown",
   "metadata": {},
   "source": [
    "Распределим количество NAN по трем возрастным категориям: до 30 лет, от 30 лет до 50 лет и старше 50 лет и проверим процентное отношение от общего количества клиентов по тем же категориям."
   ]
  },
  {
   "cell_type": "markdown",
   "metadata": {},
   "source": [
    "Количество клиентов с NAN в столбце \"total_income\" старше 50 лет"
   ]
  },
  {
   "cell_type": "code",
   "execution_count": 50,
   "metadata": {},
   "outputs": [
    {
     "data": {
      "text/plain": [
       "715"
      ]
     },
     "metadata": {},
     "output_type": "display_data"
    }
   ],
   "source": [
    "countNAN50 = dataNAN[dataNAN['dob_years'] > 50]['dob_years'].count()\n",
    "display(countNAN50)"
   ]
  },
  {
   "cell_type": "markdown",
   "metadata": {},
   "source": [
    "Общее количество клиентов старше 50 лет"
   ]
  },
  {
   "cell_type": "code",
   "execution_count": 51,
   "metadata": {},
   "outputs": [
    {
     "data": {
      "text/plain": [
       "6702"
      ]
     },
     "metadata": {},
     "output_type": "display_data"
    }
   ],
   "source": [
    "count50 = main_data[main_data['dob_years'] > 50]['dob_years'].count()\n",
    "display(count50)"
   ]
  },
  {
   "cell_type": "markdown",
   "metadata": {},
   "source": [
    "Количество клиентов с NAN в столбце \"total_income\" от 30 до 50 лет"
   ]
  },
  {
   "cell_type": "code",
   "execution_count": 52,
   "metadata": {},
   "outputs": [
    {
     "data": {
      "text/plain": [
       "1160"
      ]
     },
     "metadata": {},
     "output_type": "display_data"
    }
   ],
   "source": [
    "countNAN30_50 = dataNAN[(dataNAN['dob_years']  <= 50) & (\n",
    "    dataNAN['dob_years']  >= 30)]['dob_years'].count()\n",
    "display(countNAN30_50)"
   ]
  },
  {
   "cell_type": "markdown",
   "metadata": {},
   "source": [
    "Общее количество клиентов от 30 до 50 лет"
   ]
  },
  {
   "cell_type": "code",
   "execution_count": 53,
   "metadata": {},
   "outputs": [
    {
     "data": {
      "text/plain": [
       "11640"
      ]
     },
     "metadata": {},
     "output_type": "display_data"
    }
   ],
   "source": [
    "count30_50 = main_data[(main_data['dob_years']  <= 50) & (\n",
    "    main_data['dob_years']  >= 30)]['dob_years'].count()\n",
    "display(count30_50)"
   ]
  },
  {
   "cell_type": "markdown",
   "metadata": {},
   "source": [
    "Количество клиентов с NAN в столбце \"total_income\" до 30 лет"
   ]
  },
  {
   "cell_type": "code",
   "execution_count": 54,
   "metadata": {},
   "outputs": [],
   "source": [
    "countNAN30 = dataNAN[dataNAN['dob_years'] < 30]['dob_years'].count()"
   ]
  },
  {
   "cell_type": "markdown",
   "metadata": {},
   "source": [
    "Общее количество клиентов до 30 лет"
   ]
  },
  {
   "cell_type": "code",
   "execution_count": 55,
   "metadata": {},
   "outputs": [
    {
     "data": {
      "text/plain": [
       "3183"
      ]
     },
     "metadata": {},
     "output_type": "display_data"
    }
   ],
   "source": [
    "count30 = main_data[main_data['dob_years'] < 30]['dob_years'].count()\n",
    "display(count30)"
   ]
  },
  {
   "cell_type": "markdown",
   "metadata": {},
   "source": [
    "Количество клиентов с NAN в возрасте старше 50 лет в процентом отношении от общего количества клиентов старше 50 лет"
   ]
  },
  {
   "cell_type": "code",
   "execution_count": 56,
   "metadata": {},
   "outputs": [
    {
     "data": {
      "text/plain": [
       "10.6684571769621"
      ]
     },
     "metadata": {},
     "output_type": "display_data"
    }
   ],
   "source": [
    "display(countNAN50 * 100 / count50)"
   ]
  },
  {
   "cell_type": "markdown",
   "metadata": {},
   "source": [
    "Количество клиентов с NAN в возрасте старше от 30 до 50 лет лет в процентном отношении от общего количества клиентов от 30 до 50 лет"
   ]
  },
  {
   "cell_type": "code",
   "execution_count": 57,
   "metadata": {},
   "outputs": [
    {
     "data": {
      "text/plain": [
       "9.965635738831615"
      ]
     },
     "metadata": {},
     "output_type": "display_data"
    }
   ],
   "source": [
    "display(countNAN30_50 * 100 / count30_50)"
   ]
  },
  {
   "cell_type": "markdown",
   "metadata": {},
   "source": [
    "Количество клиентов с NAN в возрасте до 30 лет в процентном отношении от общего количества клиентов до 30 лет"
   ]
  },
  {
   "cell_type": "code",
   "execution_count": 58,
   "metadata": {},
   "outputs": [
    {
     "data": {
      "text/plain": [
       "9.393653785736726"
      ]
     },
     "metadata": {},
     "output_type": "display_data"
    }
   ],
   "source": [
    "display(countNAN30 * 100 / count30)"
   ]
  },
  {
   "cell_type": "markdown",
   "metadata": {},
   "source": [
    "Явного отклонения по возрастным категориям не обнаружено. Классификация по возрасту не имеет значения."
   ]
  },
  {
   "cell_type": "markdown",
   "metadata": {},
   "source": [
    "Проверим, различен ли медианный доход в разных возрастных категориях."
   ]
  },
  {
   "cell_type": "markdown",
   "metadata": {},
   "source": [
    "Медианный доход клиентов возрастом до 30 лет"
   ]
  },
  {
   "cell_type": "code",
   "execution_count": 59,
   "metadata": {},
   "outputs": [
    {
     "data": {
      "text/plain": [
       "142141.58277574496"
      ]
     },
     "metadata": {},
     "output_type": "display_data"
    }
   ],
   "source": [
    "display(main_data[main_data['dob_years'] < 30]['total_income'].median())"
   ]
  },
  {
   "cell_type": "markdown",
   "metadata": {},
   "source": [
    "Медианный доход клиентов возрастом от 30 до 50 лет"
   ]
  },
  {
   "cell_type": "code",
   "execution_count": 60,
   "metadata": {},
   "outputs": [
    {
     "data": {
      "text/plain": [
       "154145.96967103012"
      ]
     },
     "metadata": {},
     "output_type": "display_data"
    }
   ],
   "source": [
    "display(main_data[(main_data['dob_years']  <= 50) & (\n",
    "    main_data['dob_years']  >= 30)]['total_income'].median())"
   ]
  },
  {
   "cell_type": "markdown",
   "metadata": {},
   "source": [
    "Медианный доход клиентов возрастом старше 50 лет"
   ]
  },
  {
   "cell_type": "code",
   "execution_count": 61,
   "metadata": {},
   "outputs": [
    {
     "data": {
      "text/plain": [
       "133122.85558554393"
      ]
     },
     "metadata": {},
     "output_type": "display_data"
    }
   ],
   "source": [
    "display(main_data[main_data['dob_years'] > 50]['total_income'].median())"
   ]
  },
  {
   "cell_type": "markdown",
   "metadata": {},
   "source": [
    "Клиенты в возрасте от 30 до 50 лет медианно имеют больший ежемесячный доход на 8% по отношению к младшей категории и на 14% по отношению к старшей категории. Разниличие существенное, нужно будет учесть если будем заполнять пропущенные значения средними по столбцу."
   ]
  },
  {
   "cell_type": "markdown",
   "metadata": {},
   "source": [
    "Проверим, есть ли зависимость пропусков в столбце \"income_type\" от типа занятости."
   ]
  },
  {
   "cell_type": "markdown",
   "metadata": {},
   "source": [
    "Выведем общее количество клиентов по категориям типа занятости"
   ]
  },
  {
   "cell_type": "code",
   "execution_count": 62,
   "metadata": {},
   "outputs": [
    {
     "data": {
      "text/plain": [
       "сотрудник          11119\n",
       "компаньон           5085\n",
       "пенсионер           3856\n",
       "госслужащий         1459\n",
       "безработный            2\n",
       "предприниматель        2\n",
       "в декрете              1\n",
       "студент                1\n",
       "Name: income_type, dtype: int64"
      ]
     },
     "metadata": {},
     "output_type": "display_data"
    }
   ],
   "source": [
    "main_data_group_income = main_data['income_type'].value_counts()\n",
    "display(main_data_group_income)"
   ]
  },
  {
   "cell_type": "markdown",
   "metadata": {},
   "source": [
    "Выведем количество клиентов с пропусками в столбце \"total_income\" по категориям типа занятости"
   ]
  },
  {
   "cell_type": "code",
   "execution_count": 63,
   "metadata": {},
   "outputs": [
    {
     "data": {
      "text/plain": [
       "сотрудник          1105\n",
       "компаньон           508\n",
       "пенсионер           413\n",
       "госслужащий         147\n",
       "предприниматель       1\n",
       "Name: income_type, dtype: int64"
      ]
     },
     "metadata": {},
     "output_type": "display_data"
    }
   ],
   "source": [
    "dataNAN_group_income = dataNAN['income_type'].value_counts()\n",
    "display(dataNAN_group_income)"
   ]
  },
  {
   "cell_type": "markdown",
   "metadata": {},
   "source": [
    "Выведем количество клиентов с NAN в отношении к общему количеству клиентов по категории типа занятости, в %"
   ]
  },
  {
   "cell_type": "code",
   "execution_count": 64,
   "metadata": {},
   "outputs": [
    {
     "data": {
      "text/plain": [
       "безработный              NaN\n",
       "в декрете                NaN\n",
       "госслужащий        10.075394\n",
       "компаньон           9.990167\n",
       "пенсионер          10.710581\n",
       "предприниматель    50.000000\n",
       "сотрудник           9.937944\n",
       "студент                  NaN\n",
       "Name: income_type, dtype: float64"
      ]
     },
     "metadata": {},
     "output_type": "display_data"
    }
   ],
   "source": [
    "display(dataNAN_group_income * 100 / main_data_group_income)"
   ]
  },
  {
   "cell_type": "markdown",
   "metadata": {},
   "source": [
    "Общее количество клиентов в категориях {предприниматель, студент, безработный, в декрете} составляет 6 человек. Их можно не брать к выводу. По остальным категориям глобального перекоса в какую либо категорию не обнаружено."
   ]
  },
  {
   "cell_type": "markdown",
   "metadata": {},
   "source": [
    "Для принятия решения по пропущенным значениям в столбце \"income_type\" необходимо проверить какое количество клиентов с пропущенным значением имели задолженность по возврату кредитов и какую долю это количество составляет от общего количества задолжников."
   ]
  },
  {
   "cell_type": "markdown",
   "metadata": {},
   "source": [
    "Количество клиентов, которые имели задолжность по возврту кредитов:"
   ]
  },
  {
   "cell_type": "code",
   "execution_count": 65,
   "metadata": {},
   "outputs": [
    {
     "data": {
      "text/plain": [
       "1741"
      ]
     },
     "metadata": {},
     "output_type": "display_data"
    }
   ],
   "source": [
    "debt_count = main_data[main_data['debt'] == 1]['debt'].count()\n",
    "display(debt_count)"
   ]
  },
  {
   "cell_type": "markdown",
   "metadata": {},
   "source": [
    "Количество клиентов, которые имели задолжность по возврту кредитов и\n",
    "имеют пропуск в столбце \"income_type\":"
   ]
  },
  {
   "cell_type": "code",
   "execution_count": 66,
   "metadata": {},
   "outputs": [
    {
     "data": {
      "text/plain": [
       "170"
      ]
     },
     "metadata": {},
     "output_type": "display_data"
    }
   ],
   "source": [
    "NAN_debt_count = dataNAN[dataNAN['debt'] == 1]['debt'].count()\n",
    "display(NAN_debt_count)"
   ]
  },
  {
   "cell_type": "markdown",
   "metadata": {},
   "source": [
    "Процентная доля составляет:"
   ]
  },
  {
   "cell_type": "code",
   "execution_count": 67,
   "metadata": {},
   "outputs": [
    {
     "data": {
      "text/plain": [
       "9.764503159103963"
      ]
     },
     "metadata": {},
     "output_type": "display_data"
    }
   ],
   "source": [
    "display(NAN_debt_count * 100 / debt_count)"
   ]
  },
  {
   "cell_type": "markdown",
   "metadata": {},
   "source": [
    "10 процентов чувствительная доля. Она может повлиять на ответ на задание заказчика. "
   ]
  },
  {
   "cell_type": "markdown",
   "metadata": {},
   "source": [
    "В связи с тем, что пропущенные значения не удалось охарактеризовать по какой либо из категорий и разбросаны они в случайном порядке, принимаем решение заполнить их медианным значением, зависящим от возраста клиента,типа занятости и пола клиента."
   ]
  },
  {
   "cell_type": "code",
   "execution_count": 68,
   "metadata": {},
   "outputs": [],
   "source": [
    "main_data['total_income'] = main_data['total_income'].fillna(\n",
    "    main_data.groupby(['gender', 'income_type', 'dob_years']\n",
    "                     )['total_income'].transform('median'))"
   ]
  },
  {
   "cell_type": "markdown",
   "metadata": {},
   "source": [
    "Проверим результат"
   ]
  },
  {
   "cell_type": "code",
   "execution_count": 69,
   "metadata": {},
   "outputs": [
    {
     "name": "stdout",
     "output_type": "stream",
     "text": [
      "<class 'pandas.core.frame.DataFrame'>\n",
      "RangeIndex: 21525 entries, 0 to 21524\n",
      "Data columns (total 12 columns):\n",
      "children            21525 non-null int64\n",
      "days_employed       21525 non-null float64\n",
      "dob_years           21525 non-null int64\n",
      "education           21525 non-null object\n",
      "education_id        21525 non-null int64\n",
      "family_status       21525 non-null object\n",
      "family_status_id    21525 non-null int64\n",
      "gender              21525 non-null object\n",
      "income_type         21525 non-null object\n",
      "debt                21525 non-null int64\n",
      "total_income        21520 non-null float64\n",
      "purpose             21525 non-null object\n",
      "dtypes: float64(2), int64(5), object(5)\n",
      "memory usage: 2.0+ MB\n"
     ]
    }
   ],
   "source": [
    "main_data.info()"
   ]
  },
  {
   "cell_type": "markdown",
   "metadata": {},
   "source": [
    "Осталось 5 строк с пропущенными значениями. Проверим эти строки"
   ]
  },
  {
   "cell_type": "code",
   "execution_count": 70,
   "metadata": {},
   "outputs": [
    {
     "data": {
      "text/html": [
       "<div>\n",
       "<style scoped>\n",
       "    .dataframe tbody tr th:only-of-type {\n",
       "        vertical-align: middle;\n",
       "    }\n",
       "\n",
       "    .dataframe tbody tr th {\n",
       "        vertical-align: top;\n",
       "    }\n",
       "\n",
       "    .dataframe thead th {\n",
       "        text-align: right;\n",
       "    }\n",
       "</style>\n",
       "<table border=\"1\" class=\"dataframe\">\n",
       "  <thead>\n",
       "    <tr style=\"text-align: right;\">\n",
       "      <th></th>\n",
       "      <th>children</th>\n",
       "      <th>days_employed</th>\n",
       "      <th>dob_years</th>\n",
       "      <th>education</th>\n",
       "      <th>education_id</th>\n",
       "      <th>family_status</th>\n",
       "      <th>family_status_id</th>\n",
       "      <th>gender</th>\n",
       "      <th>income_type</th>\n",
       "      <th>debt</th>\n",
       "      <th>total_income</th>\n",
       "      <th>purpose</th>\n",
       "    </tr>\n",
       "  </thead>\n",
       "  <tbody>\n",
       "    <tr>\n",
       "      <td>3619</td>\n",
       "      <td>0</td>\n",
       "      <td>0.0</td>\n",
       "      <td>24</td>\n",
       "      <td>среднее</td>\n",
       "      <td>1</td>\n",
       "      <td>женат / замужем</td>\n",
       "      <td>0</td>\n",
       "      <td>F</td>\n",
       "      <td>пенсионер</td>\n",
       "      <td>0</td>\n",
       "      <td>NaN</td>\n",
       "      <td>покупка своего жилья</td>\n",
       "    </tr>\n",
       "    <tr>\n",
       "      <td>5936</td>\n",
       "      <td>0</td>\n",
       "      <td>0.0</td>\n",
       "      <td>58</td>\n",
       "      <td>высшее</td>\n",
       "      <td>0</td>\n",
       "      <td>женат / замужем</td>\n",
       "      <td>0</td>\n",
       "      <td>M</td>\n",
       "      <td>предприниматель</td>\n",
       "      <td>0</td>\n",
       "      <td>NaN</td>\n",
       "      <td>покупка жилой недвижимости</td>\n",
       "    </tr>\n",
       "    <tr>\n",
       "      <td>17374</td>\n",
       "      <td>0</td>\n",
       "      <td>0.0</td>\n",
       "      <td>69</td>\n",
       "      <td>высшее</td>\n",
       "      <td>0</td>\n",
       "      <td>Не женат / не замужем</td>\n",
       "      <td>4</td>\n",
       "      <td>F</td>\n",
       "      <td>компаньон</td>\n",
       "      <td>0</td>\n",
       "      <td>NaN</td>\n",
       "      <td>автомобили</td>\n",
       "    </tr>\n",
       "    <tr>\n",
       "      <td>18175</td>\n",
       "      <td>2</td>\n",
       "      <td>0.0</td>\n",
       "      <td>31</td>\n",
       "      <td>среднее</td>\n",
       "      <td>1</td>\n",
       "      <td>гражданский брак</td>\n",
       "      <td>1</td>\n",
       "      <td>F</td>\n",
       "      <td>пенсионер</td>\n",
       "      <td>0</td>\n",
       "      <td>NaN</td>\n",
       "      <td>свадьба</td>\n",
       "    </tr>\n",
       "    <tr>\n",
       "      <td>18255</td>\n",
       "      <td>0</td>\n",
       "      <td>0.0</td>\n",
       "      <td>38</td>\n",
       "      <td>среднее</td>\n",
       "      <td>1</td>\n",
       "      <td>гражданский брак</td>\n",
       "      <td>1</td>\n",
       "      <td>M</td>\n",
       "      <td>пенсионер</td>\n",
       "      <td>0</td>\n",
       "      <td>NaN</td>\n",
       "      <td>профильное образование</td>\n",
       "    </tr>\n",
       "  </tbody>\n",
       "</table>\n",
       "</div>"
      ],
      "text/plain": [
       "       children  days_employed  dob_years education  education_id  \\\n",
       "3619          0            0.0         24   среднее             1   \n",
       "5936          0            0.0         58    высшее             0   \n",
       "17374         0            0.0         69    высшее             0   \n",
       "18175         2            0.0         31   среднее             1   \n",
       "18255         0            0.0         38   среднее             1   \n",
       "\n",
       "               family_status  family_status_id gender      income_type  debt  \\\n",
       "3619         женат / замужем                 0      F        пенсионер     0   \n",
       "5936         женат / замужем                 0      M  предприниматель     0   \n",
       "17374  Не женат / не замужем                 4      F        компаньон     0   \n",
       "18175       гражданский брак                 1      F        пенсионер     0   \n",
       "18255       гражданский брак                 1      M        пенсионер     0   \n",
       "\n",
       "       total_income                     purpose  \n",
       "3619            NaN        покупка своего жилья  \n",
       "5936            NaN  покупка жилой недвижимости  \n",
       "17374           NaN                  автомобили  \n",
       "18175           NaN                     свадьба  \n",
       "18255           NaN      профильное образование  "
      ]
     },
     "metadata": {},
     "output_type": "display_data"
    }
   ],
   "source": [
    "display(main_data[main_data['total_income'].isna() == True].head())"
   ]
  },
  {
   "cell_type": "markdown",
   "metadata": {},
   "source": [
    "Ничего необчычного не находим. Попробуем заменить их на медианное значение в зависимости только от типа занятости."
   ]
  },
  {
   "cell_type": "code",
   "execution_count": 71,
   "metadata": {},
   "outputs": [],
   "source": [
    "main_data['total_income'] = main_data['total_income'].fillna(\n",
    "    main_data.groupby('income_type')['total_income'].transform('median'))"
   ]
  },
  {
   "cell_type": "markdown",
   "metadata": {},
   "source": [
    "Проверим результат"
   ]
  },
  {
   "cell_type": "code",
   "execution_count": 72,
   "metadata": {},
   "outputs": [
    {
     "name": "stdout",
     "output_type": "stream",
     "text": [
      "<class 'pandas.core.frame.DataFrame'>\n",
      "RangeIndex: 21525 entries, 0 to 21524\n",
      "Data columns (total 12 columns):\n",
      "children            21525 non-null int64\n",
      "days_employed       21525 non-null float64\n",
      "dob_years           21525 non-null int64\n",
      "education           21525 non-null object\n",
      "education_id        21525 non-null int64\n",
      "family_status       21525 non-null object\n",
      "family_status_id    21525 non-null int64\n",
      "gender              21525 non-null object\n",
      "income_type         21525 non-null object\n",
      "debt                21525 non-null int64\n",
      "total_income        21525 non-null float64\n",
      "purpose             21525 non-null object\n",
      "dtypes: float64(2), int64(5), object(5)\n",
      "memory usage: 2.0+ MB\n"
     ]
    }
   ],
   "source": [
    "main_data.info()"
   ]
  },
  {
   "cell_type": "markdown",
   "metadata": {},
   "source": [
    "Все в порядке, замена прошла успешно."
   ]
  },
  {
   "cell_type": "markdown",
   "metadata": {},
   "source": [
    "#### 2.1.7. Вывод\n",
    "<a id=\"2.1.7\"></a>"
   ]
  },
  {
   "cell_type": "markdown",
   "metadata": {},
   "source": [
    "1. В столбцах \"days_employed\" и \"total_income\" было выявлено одинаковое количество пропущенных значений, как оказалось это одни и те же строки. Найти связь с остальными колонками для выяснения причины не удалось, возможно малая часть этих клиентов и правда никогда не работали, но в основном считаем что данные поля они сами не заполнили или у них небыло подтверждающих стаж и доход документов. Заменили пустые значения в столбце \"total_income\" на медианные в зависимости от возраста клиента, типа занятости и его пола. В столбце \"days_employed\" было обнаружено более четверти некорректных значений, полагаться на такие данные нельзя. В любом случае столбец не будет учитываться при построении выводов. Заменили пустые значения на 0.\n",
    "2. В столбце \"children\" выявлено 76 семей с 20-ю детьми и 47 семей с отрицательным количеством детей.  По состоянию на 2020 год в России существует только одна семья с своими 20 детьми. Маловероятно такое количество семей, даже если дети на усыновлении. Возможно это опечатка, так как на полноценной клавиатуре на правой части \"0\" и \"2\" находятся по соседству. Отрицательные значения могут быть последствиями особенности кода программы по обработке данных о клиенте. Возможно если нет данных по количеству детей, программа выводит значение \"-1\". Заменил значение 20 на 2, а значение -1 на 0.\n",
    "3. В столбце \"dob_years\" 101 клиент с возрастом 0 лет, что составляет почти пол процента от общего количества клиентов. Возможно значения были некорректны, например вместо 1989 года клиент указал 1889, поэтому в выгрузку попал 0. Данные о возрасте взять негде, количество таких клиентов небольшое. Заменили на медианное значение в зависимости от типа занятости.\n",
    "4. В столбце \"education\" исправили разный регистр букв методом str.lower().\n",
    "5. В столбце \"gender\" заменили одно значение \"XNA\" на \"F\", так как имени в выгрузки нет и невозможно определить пол."
   ]
  },
  {
   "cell_type": "markdown",
   "metadata": {},
   "source": [
    "### 2.2. Замена типа данных\n",
    "<a id=\"2.2\"></a>"
   ]
  },
  {
   "cell_type": "markdown",
   "metadata": {},
   "source": [
    "Для улучшения читаемости в столбцах \"total_income\" и \"days_employed\" заменим тип всех значений на int64 при помощи метода astype"
   ]
  },
  {
   "cell_type": "code",
   "execution_count": 73,
   "metadata": {},
   "outputs": [],
   "source": [
    "main_data['total_income'] = main_data['total_income'].astype('int')\n",
    "main_data['days_employed'] = main_data['days_employed'].astype('int')"
   ]
  },
  {
   "cell_type": "markdown",
   "metadata": {},
   "source": [
    "Проверим изменения"
   ]
  },
  {
   "cell_type": "code",
   "execution_count": 74,
   "metadata": {},
   "outputs": [
    {
     "name": "stdout",
     "output_type": "stream",
     "text": [
      "<class 'pandas.core.frame.DataFrame'>\n",
      "RangeIndex: 21525 entries, 0 to 21524\n",
      "Data columns (total 12 columns):\n",
      "children            21525 non-null int64\n",
      "days_employed       21525 non-null int64\n",
      "dob_years           21525 non-null int64\n",
      "education           21525 non-null object\n",
      "education_id        21525 non-null int64\n",
      "family_status       21525 non-null object\n",
      "family_status_id    21525 non-null int64\n",
      "gender              21525 non-null object\n",
      "income_type         21525 non-null object\n",
      "debt                21525 non-null int64\n",
      "total_income        21525 non-null int64\n",
      "purpose             21525 non-null object\n",
      "dtypes: int64(7), object(5)\n",
      "memory usage: 2.0+ MB\n"
     ]
    }
   ],
   "source": [
    "main_data.info()"
   ]
  },
  {
   "cell_type": "markdown",
   "metadata": {},
   "source": [
    "#### Вывод\n",
    "Изменение типа данных прошло успешно."
   ]
  },
  {
   "cell_type": "markdown",
   "metadata": {},
   "source": [
    "### 2.3. Обработка дубликатов\n",
    "<a id=\"2.3\"></a>"
   ]
  },
  {
   "cell_type": "markdown",
   "metadata": {},
   "source": [
    "Проверим количество дубликатов в первоначальной таблице"
   ]
  },
  {
   "cell_type": "code",
   "execution_count": 75,
   "metadata": {},
   "outputs": [
    {
     "data": {
      "text/plain": [
       "54"
      ]
     },
     "metadata": {},
     "output_type": "display_data"
    }
   ],
   "source": [
    "display(data.duplicated().sum())"
   ]
  },
  {
   "cell_type": "markdown",
   "metadata": {},
   "source": [
    "Проверим количество дубликатов в последнем варианте таблицы"
   ]
  },
  {
   "cell_type": "code",
   "execution_count": 76,
   "metadata": {},
   "outputs": [
    {
     "data": {
      "text/plain": [
       "71"
      ]
     },
     "metadata": {},
     "output_type": "display_data"
    }
   ],
   "source": [
    "display(main_data.duplicated().sum())"
   ]
  },
  {
   "cell_type": "markdown",
   "metadata": {},
   "source": [
    "Количество дубликатов изменилось. Думаю это произошло в связи с изменением регистра в столбце \"education\"."
   ]
  },
  {
   "cell_type": "markdown",
   "metadata": {},
   "source": [
    "Сохраним дубликаты в переменной data_dupl. Посмотрим первые 10 дубликатов"
   ]
  },
  {
   "cell_type": "code",
   "execution_count": 77,
   "metadata": {},
   "outputs": [
    {
     "data": {
      "text/html": [
       "<div>\n",
       "<style scoped>\n",
       "    .dataframe tbody tr th:only-of-type {\n",
       "        vertical-align: middle;\n",
       "    }\n",
       "\n",
       "    .dataframe tbody tr th {\n",
       "        vertical-align: top;\n",
       "    }\n",
       "\n",
       "    .dataframe thead th {\n",
       "        text-align: right;\n",
       "    }\n",
       "</style>\n",
       "<table border=\"1\" class=\"dataframe\">\n",
       "  <thead>\n",
       "    <tr style=\"text-align: right;\">\n",
       "      <th></th>\n",
       "      <th>children</th>\n",
       "      <th>days_employed</th>\n",
       "      <th>dob_years</th>\n",
       "      <th>education</th>\n",
       "      <th>education_id</th>\n",
       "      <th>family_status</th>\n",
       "      <th>family_status_id</th>\n",
       "      <th>gender</th>\n",
       "      <th>income_type</th>\n",
       "      <th>debt</th>\n",
       "      <th>total_income</th>\n",
       "      <th>purpose</th>\n",
       "    </tr>\n",
       "  </thead>\n",
       "  <tbody>\n",
       "    <tr>\n",
       "      <td>2849</td>\n",
       "      <td>0</td>\n",
       "      <td>0</td>\n",
       "      <td>41</td>\n",
       "      <td>среднее</td>\n",
       "      <td>1</td>\n",
       "      <td>женат / замужем</td>\n",
       "      <td>0</td>\n",
       "      <td>F</td>\n",
       "      <td>сотрудник</td>\n",
       "      <td>0</td>\n",
       "      <td>128925</td>\n",
       "      <td>покупка жилья для семьи</td>\n",
       "    </tr>\n",
       "    <tr>\n",
       "      <td>3290</td>\n",
       "      <td>0</td>\n",
       "      <td>0</td>\n",
       "      <td>58</td>\n",
       "      <td>среднее</td>\n",
       "      <td>1</td>\n",
       "      <td>гражданский брак</td>\n",
       "      <td>1</td>\n",
       "      <td>F</td>\n",
       "      <td>пенсионер</td>\n",
       "      <td>0</td>\n",
       "      <td>111219</td>\n",
       "      <td>сыграть свадьбу</td>\n",
       "    </tr>\n",
       "    <tr>\n",
       "      <td>4182</td>\n",
       "      <td>1</td>\n",
       "      <td>0</td>\n",
       "      <td>34</td>\n",
       "      <td>высшее</td>\n",
       "      <td>0</td>\n",
       "      <td>гражданский брак</td>\n",
       "      <td>1</td>\n",
       "      <td>F</td>\n",
       "      <td>сотрудник</td>\n",
       "      <td>0</td>\n",
       "      <td>127976</td>\n",
       "      <td>свадьба</td>\n",
       "    </tr>\n",
       "    <tr>\n",
       "      <td>4851</td>\n",
       "      <td>0</td>\n",
       "      <td>0</td>\n",
       "      <td>60</td>\n",
       "      <td>среднее</td>\n",
       "      <td>1</td>\n",
       "      <td>гражданский брак</td>\n",
       "      <td>1</td>\n",
       "      <td>F</td>\n",
       "      <td>пенсионер</td>\n",
       "      <td>0</td>\n",
       "      <td>114653</td>\n",
       "      <td>свадьба</td>\n",
       "    </tr>\n",
       "    <tr>\n",
       "      <td>5557</td>\n",
       "      <td>0</td>\n",
       "      <td>0</td>\n",
       "      <td>58</td>\n",
       "      <td>среднее</td>\n",
       "      <td>1</td>\n",
       "      <td>гражданский брак</td>\n",
       "      <td>1</td>\n",
       "      <td>F</td>\n",
       "      <td>пенсионер</td>\n",
       "      <td>0</td>\n",
       "      <td>111219</td>\n",
       "      <td>сыграть свадьбу</td>\n",
       "    </tr>\n",
       "    <tr>\n",
       "      <td>6312</td>\n",
       "      <td>0</td>\n",
       "      <td>0</td>\n",
       "      <td>30</td>\n",
       "      <td>среднее</td>\n",
       "      <td>1</td>\n",
       "      <td>женат / замужем</td>\n",
       "      <td>0</td>\n",
       "      <td>M</td>\n",
       "      <td>сотрудник</td>\n",
       "      <td>0</td>\n",
       "      <td>153163</td>\n",
       "      <td>строительство жилой недвижимости</td>\n",
       "    </tr>\n",
       "    <tr>\n",
       "      <td>7808</td>\n",
       "      <td>0</td>\n",
       "      <td>0</td>\n",
       "      <td>57</td>\n",
       "      <td>среднее</td>\n",
       "      <td>1</td>\n",
       "      <td>гражданский брак</td>\n",
       "      <td>1</td>\n",
       "      <td>F</td>\n",
       "      <td>пенсионер</td>\n",
       "      <td>0</td>\n",
       "      <td>128288</td>\n",
       "      <td>на проведение свадьбы</td>\n",
       "    </tr>\n",
       "    <tr>\n",
       "      <td>7921</td>\n",
       "      <td>0</td>\n",
       "      <td>0</td>\n",
       "      <td>64</td>\n",
       "      <td>высшее</td>\n",
       "      <td>0</td>\n",
       "      <td>гражданский брак</td>\n",
       "      <td>1</td>\n",
       "      <td>F</td>\n",
       "      <td>пенсионер</td>\n",
       "      <td>0</td>\n",
       "      <td>127962</td>\n",
       "      <td>на проведение свадьбы</td>\n",
       "    </tr>\n",
       "    <tr>\n",
       "      <td>7938</td>\n",
       "      <td>0</td>\n",
       "      <td>0</td>\n",
       "      <td>71</td>\n",
       "      <td>среднее</td>\n",
       "      <td>1</td>\n",
       "      <td>гражданский брак</td>\n",
       "      <td>1</td>\n",
       "      <td>F</td>\n",
       "      <td>пенсионер</td>\n",
       "      <td>0</td>\n",
       "      <td>115738</td>\n",
       "      <td>на проведение свадьбы</td>\n",
       "    </tr>\n",
       "    <tr>\n",
       "      <td>8583</td>\n",
       "      <td>0</td>\n",
       "      <td>0</td>\n",
       "      <td>58</td>\n",
       "      <td>высшее</td>\n",
       "      <td>0</td>\n",
       "      <td>Не женат / не замужем</td>\n",
       "      <td>4</td>\n",
       "      <td>F</td>\n",
       "      <td>пенсионер</td>\n",
       "      <td>0</td>\n",
       "      <td>111219</td>\n",
       "      <td>дополнительное образование</td>\n",
       "    </tr>\n",
       "  </tbody>\n",
       "</table>\n",
       "</div>"
      ],
      "text/plain": [
       "      children  days_employed  dob_years education  education_id  \\\n",
       "2849         0              0         41   среднее             1   \n",
       "3290         0              0         58   среднее             1   \n",
       "4182         1              0         34    высшее             0   \n",
       "4851         0              0         60   среднее             1   \n",
       "5557         0              0         58   среднее             1   \n",
       "6312         0              0         30   среднее             1   \n",
       "7808         0              0         57   среднее             1   \n",
       "7921         0              0         64    высшее             0   \n",
       "7938         0              0         71   среднее             1   \n",
       "8583         0              0         58    высшее             0   \n",
       "\n",
       "              family_status  family_status_id gender income_type  debt  \\\n",
       "2849        женат / замужем                 0      F   сотрудник     0   \n",
       "3290       гражданский брак                 1      F   пенсионер     0   \n",
       "4182       гражданский брак                 1      F   сотрудник     0   \n",
       "4851       гражданский брак                 1      F   пенсионер     0   \n",
       "5557       гражданский брак                 1      F   пенсионер     0   \n",
       "6312        женат / замужем                 0      M   сотрудник     0   \n",
       "7808       гражданский брак                 1      F   пенсионер     0   \n",
       "7921       гражданский брак                 1      F   пенсионер     0   \n",
       "7938       гражданский брак                 1      F   пенсионер     0   \n",
       "8583  Не женат / не замужем                 4      F   пенсионер     0   \n",
       "\n",
       "      total_income                           purpose  \n",
       "2849        128925           покупка жилья для семьи  \n",
       "3290        111219                   сыграть свадьбу  \n",
       "4182        127976                           свадьба  \n",
       "4851        114653                           свадьба  \n",
       "5557        111219                   сыграть свадьбу  \n",
       "6312        153163  строительство жилой недвижимости  \n",
       "7808        128288             на проведение свадьбы  \n",
       "7921        127962             на проведение свадьбы  \n",
       "7938        115738             на проведение свадьбы  \n",
       "8583        111219        дополнительное образование  "
      ]
     },
     "metadata": {},
     "output_type": "display_data"
    }
   ],
   "source": [
    "data_dupl = main_data[main_data.duplicated()]\n",
    "display(data_dupl.head(10))"
   ]
  },
  {
   "cell_type": "markdown",
   "metadata": {},
   "source": [
    "Первые 10 клиентов оказались теми клиентами у которых был NAN в столбце \"days_employed\". Проверим общее количество таких клиентов в дубликатах."
   ]
  },
  {
   "cell_type": "code",
   "execution_count": 78,
   "metadata": {},
   "outputs": [
    {
     "data": {
      "text/plain": [
       "71"
      ]
     },
     "metadata": {},
     "output_type": "display_data"
    }
   ],
   "source": [
    "display(data_dupl[data_dupl['days_employed'] == 0]['days_employed'].count())"
   ]
  },
  {
   "cell_type": "markdown",
   "metadata": {},
   "source": [
    "Все 71 дублированные клиенты имели NAN в столбце \"days_employed\". Возможно что то не так с программой выгрузки."
   ]
  },
  {
   "cell_type": "markdown",
   "metadata": {},
   "source": [
    "Возможно дубликатов больше. Проверим количество дубликатов без учета столбца \"purpose\"."
   ]
  },
  {
   "cell_type": "code",
   "execution_count": 79,
   "metadata": {},
   "outputs": [
    {
     "data": {
      "text/plain": [
       "750"
      ]
     },
     "metadata": {},
     "output_type": "display_data"
    }
   ],
   "source": [
    "display(main_data.duplicated(subset=['children', 'days_employed', 'dob_years', 'education',\n",
    "                    'education_id', 'family_status', 'family_status_id',\n",
    "                   'gender', 'income_type', 'debt', 'total_income']).sum())"
   ]
  },
  {
   "cell_type": "markdown",
   "metadata": {},
   "source": [
    "Удалим 71 дубликат и выведем общую информацию по таблице"
   ]
  },
  {
   "cell_type": "code",
   "execution_count": 80,
   "metadata": {},
   "outputs": [
    {
     "name": "stdout",
     "output_type": "stream",
     "text": [
      "<class 'pandas.core.frame.DataFrame'>\n",
      "RangeIndex: 21454 entries, 0 to 21453\n",
      "Data columns (total 12 columns):\n",
      "children            21454 non-null int64\n",
      "days_employed       21454 non-null int64\n",
      "dob_years           21454 non-null int64\n",
      "education           21454 non-null object\n",
      "education_id        21454 non-null int64\n",
      "family_status       21454 non-null object\n",
      "family_status_id    21454 non-null int64\n",
      "gender              21454 non-null object\n",
      "income_type         21454 non-null object\n",
      "debt                21454 non-null int64\n",
      "total_income        21454 non-null int64\n",
      "purpose             21454 non-null object\n",
      "dtypes: int64(7), object(5)\n",
      "memory usage: 2.0+ MB\n"
     ]
    }
   ],
   "source": [
    "main_data = main_data.drop_duplicates().reset_index(drop=True)\n",
    "main_data.info()"
   ]
  },
  {
   "cell_type": "markdown",
   "metadata": {},
   "source": [
    "Дубликаты успешно удалены."
   ]
  },
  {
   "cell_type": "markdown",
   "metadata": {},
   "source": [
    "#### Вывод\n",
    "Количество дубликатов в итоговой таблице обнаружено 71 шт. Без учета столбца \"purpose\" оказалось что их может быть 750. Вероятно их меньше чем 750 но и больше чем 71. После проведения лемматизации нужно будет повторно провести поиск дубликатов.\n",
    "Методом df.drop_duplicates() дубликаты удалены из таблицы."
   ]
  },
  {
   "cell_type": "markdown",
   "metadata": {},
   "source": [
    "### 2.4. Лемматизация\n",
    "<a id=\"2.4\"></a>"
   ]
  },
  {
   "cell_type": "markdown",
   "metadata": {},
   "source": [
    "Выведем уникальные значения столбца \"purpose\""
   ]
  },
  {
   "cell_type": "code",
   "execution_count": 81,
   "metadata": {},
   "outputs": [
    {
     "data": {
      "text/plain": [
       "свадьба                                   791\n",
       "на проведение свадьбы                     768\n",
       "сыграть свадьбу                           765\n",
       "операции с недвижимостью                  675\n",
       "покупка коммерческой недвижимости         661\n",
       "операции с жильем                         652\n",
       "покупка жилья для сдачи                   651\n",
       "операции с коммерческой недвижимостью     650\n",
       "покупка жилья                             646\n",
       "жилье                                     646\n",
       "покупка жилья для семьи                   638\n",
       "строительство собственной недвижимости    635\n",
       "недвижимость                              633\n",
       "операции со своей недвижимостью           627\n",
       "строительство жилой недвижимости          624\n",
       "покупка недвижимости                      621\n",
       "покупка своего жилья                      620\n",
       "строительство недвижимости                619\n",
       "ремонт жилью                              607\n",
       "покупка жилой недвижимости                606\n",
       "на покупку своего автомобиля              505\n",
       "заняться высшим образованием              496\n",
       "автомобиль                                494\n",
       "сделка с подержанным автомобилем          486\n",
       "автомобили                                478\n",
       "свой автомобиль                           478\n",
       "на покупку подержанного автомобиля        478\n",
       "на покупку автомобиля                     471\n",
       "приобретение автомобиля                   461\n",
       "дополнительное образование                460\n",
       "сделка с автомобилем                      455\n",
       "высшее образование                        452\n",
       "образование                               447\n",
       "получение дополнительного образования     446\n",
       "получение образования                     442\n",
       "профильное образование                    436\n",
       "получение высшего образования             426\n",
       "заняться образованием                     408\n",
       "Name: purpose, dtype: int64"
      ]
     },
     "metadata": {},
     "output_type": "display_data"
    }
   ],
   "source": [
    "display(main_data['purpose'].value_counts())"
   ]
  },
  {
   "cell_type": "markdown",
   "metadata": {},
   "source": [
    "Добавим столбец с лемматизированными значениями стобца \"purpose\" и удалим столбец \"purpose\""
   ]
  },
  {
   "cell_type": "code",
   "execution_count": 82,
   "metadata": {},
   "outputs": [],
   "source": [
    "from pymystem3 import Mystem\n",
    "m = Mystem()\n",
    "main_data['purpose_lemm'] = main_data['purpose'].apply(m.lemmatize)\n",
    "main_data = main_data.drop(['purpose'], axis=1)"
   ]
  },
  {
   "cell_type": "markdown",
   "metadata": {},
   "source": [
    "Проверим первые 5 строк таблицы"
   ]
  },
  {
   "cell_type": "code",
   "execution_count": 83,
   "metadata": {},
   "outputs": [
    {
     "data": {
      "text/html": [
       "<div>\n",
       "<style scoped>\n",
       "    .dataframe tbody tr th:only-of-type {\n",
       "        vertical-align: middle;\n",
       "    }\n",
       "\n",
       "    .dataframe tbody tr th {\n",
       "        vertical-align: top;\n",
       "    }\n",
       "\n",
       "    .dataframe thead th {\n",
       "        text-align: right;\n",
       "    }\n",
       "</style>\n",
       "<table border=\"1\" class=\"dataframe\">\n",
       "  <thead>\n",
       "    <tr style=\"text-align: right;\">\n",
       "      <th></th>\n",
       "      <th>children</th>\n",
       "      <th>days_employed</th>\n",
       "      <th>dob_years</th>\n",
       "      <th>education</th>\n",
       "      <th>education_id</th>\n",
       "      <th>family_status</th>\n",
       "      <th>family_status_id</th>\n",
       "      <th>gender</th>\n",
       "      <th>income_type</th>\n",
       "      <th>debt</th>\n",
       "      <th>total_income</th>\n",
       "      <th>purpose_lemm</th>\n",
       "    </tr>\n",
       "  </thead>\n",
       "  <tbody>\n",
       "    <tr>\n",
       "      <td>0</td>\n",
       "      <td>1</td>\n",
       "      <td>-8437</td>\n",
       "      <td>42</td>\n",
       "      <td>высшее</td>\n",
       "      <td>0</td>\n",
       "      <td>женат / замужем</td>\n",
       "      <td>0</td>\n",
       "      <td>F</td>\n",
       "      <td>сотрудник</td>\n",
       "      <td>0</td>\n",
       "      <td>253875</td>\n",
       "      <td>[покупка,  , жилье, \\n]</td>\n",
       "    </tr>\n",
       "    <tr>\n",
       "      <td>1</td>\n",
       "      <td>1</td>\n",
       "      <td>-4024</td>\n",
       "      <td>36</td>\n",
       "      <td>среднее</td>\n",
       "      <td>1</td>\n",
       "      <td>женат / замужем</td>\n",
       "      <td>0</td>\n",
       "      <td>F</td>\n",
       "      <td>сотрудник</td>\n",
       "      <td>0</td>\n",
       "      <td>112080</td>\n",
       "      <td>[приобретение,  , автомобиль, \\n]</td>\n",
       "    </tr>\n",
       "    <tr>\n",
       "      <td>2</td>\n",
       "      <td>0</td>\n",
       "      <td>-5623</td>\n",
       "      <td>33</td>\n",
       "      <td>среднее</td>\n",
       "      <td>1</td>\n",
       "      <td>женат / замужем</td>\n",
       "      <td>0</td>\n",
       "      <td>M</td>\n",
       "      <td>сотрудник</td>\n",
       "      <td>0</td>\n",
       "      <td>145885</td>\n",
       "      <td>[покупка,  , жилье, \\n]</td>\n",
       "    </tr>\n",
       "    <tr>\n",
       "      <td>3</td>\n",
       "      <td>3</td>\n",
       "      <td>-4124</td>\n",
       "      <td>32</td>\n",
       "      <td>среднее</td>\n",
       "      <td>1</td>\n",
       "      <td>женат / замужем</td>\n",
       "      <td>0</td>\n",
       "      <td>M</td>\n",
       "      <td>сотрудник</td>\n",
       "      <td>0</td>\n",
       "      <td>267628</td>\n",
       "      <td>[дополнительный,  , образование, \\n]</td>\n",
       "    </tr>\n",
       "    <tr>\n",
       "      <td>4</td>\n",
       "      <td>0</td>\n",
       "      <td>340266</td>\n",
       "      <td>53</td>\n",
       "      <td>среднее</td>\n",
       "      <td>1</td>\n",
       "      <td>гражданский брак</td>\n",
       "      <td>1</td>\n",
       "      <td>F</td>\n",
       "      <td>пенсионер</td>\n",
       "      <td>0</td>\n",
       "      <td>158616</td>\n",
       "      <td>[сыграть,  , свадьба, \\n]</td>\n",
       "    </tr>\n",
       "  </tbody>\n",
       "</table>\n",
       "</div>"
      ],
      "text/plain": [
       "   children  days_employed  dob_years education  education_id  \\\n",
       "0         1          -8437         42    высшее             0   \n",
       "1         1          -4024         36   среднее             1   \n",
       "2         0          -5623         33   среднее             1   \n",
       "3         3          -4124         32   среднее             1   \n",
       "4         0         340266         53   среднее             1   \n",
       "\n",
       "      family_status  family_status_id gender income_type  debt  total_income  \\\n",
       "0   женат / замужем                 0      F   сотрудник     0        253875   \n",
       "1   женат / замужем                 0      F   сотрудник     0        112080   \n",
       "2   женат / замужем                 0      M   сотрудник     0        145885   \n",
       "3   женат / замужем                 0      M   сотрудник     0        267628   \n",
       "4  гражданский брак                 1      F   пенсионер     0        158616   \n",
       "\n",
       "                           purpose_lemm  \n",
       "0               [покупка,  , жилье, \\n]  \n",
       "1     [приобретение,  , автомобиль, \\n]  \n",
       "2               [покупка,  , жилье, \\n]  \n",
       "3  [дополнительный,  , образование, \\n]  \n",
       "4             [сыграть,  , свадьба, \\n]  "
      ]
     },
     "metadata": {},
     "output_type": "display_data"
    }
   ],
   "source": [
    "display(main_data.head())"
   ]
  },
  {
   "cell_type": "markdown",
   "metadata": {},
   "source": [
    "Напишем функцию, которая в зависимоти от найденного слова будет добавлять в новый столбец \"purpose\" нужное значение"
   ]
  },
  {
   "cell_type": "code",
   "execution_count": 84,
   "metadata": {},
   "outputs": [],
   "source": [
    "def purp(row):\n",
    "    row_purp = row['purpose_lemm']\n",
    "    if 'образование' in row_purp:\n",
    "        return 'образование'\n",
    "    elif 'свадьба' in row_purp:\n",
    "        return 'свадьба'\n",
    "    elif 'автомобиль' in row_purp:\n",
    "        return 'автомобиль'\n",
    "    elif 'коммерческий' in row_purp:\n",
    "        return 'коммерческая недвижимость'\n",
    "    elif 'жилье' or 'жилой' or 'недвижимость' in row_purp:\n",
    "        return 'жилая недвижимость'\n",
    "    else:\n",
    "        return 'ERROR!'\n",
    "    \n",
    "main_data['purpose'] = main_data.apply(purp, axis=1)"
   ]
  },
  {
   "cell_type": "markdown",
   "metadata": {},
   "source": [
    "Проверим уникальные значения нового столбца"
   ]
  },
  {
   "cell_type": "code",
   "execution_count": 85,
   "metadata": {},
   "outputs": [
    {
     "data": {
      "text/plain": [
       "жилая недвижимость           9500\n",
       "автомобиль                   4306\n",
       "образование                  4013\n",
       "свадьба                      2324\n",
       "коммерческая недвижимость    1311\n",
       "Name: purpose, dtype: int64"
      ]
     },
     "metadata": {},
     "output_type": "display_data"
    }
   ],
   "source": [
    "display(main_data['purpose'].value_counts())"
   ]
  },
  {
   "cell_type": "markdown",
   "metadata": {},
   "source": [
    "Проверим первые 5 строк обновленной таблицы."
   ]
  },
  {
   "cell_type": "code",
   "execution_count": 86,
   "metadata": {},
   "outputs": [
    {
     "data": {
      "text/html": [
       "<div>\n",
       "<style scoped>\n",
       "    .dataframe tbody tr th:only-of-type {\n",
       "        vertical-align: middle;\n",
       "    }\n",
       "\n",
       "    .dataframe tbody tr th {\n",
       "        vertical-align: top;\n",
       "    }\n",
       "\n",
       "    .dataframe thead th {\n",
       "        text-align: right;\n",
       "    }\n",
       "</style>\n",
       "<table border=\"1\" class=\"dataframe\">\n",
       "  <thead>\n",
       "    <tr style=\"text-align: right;\">\n",
       "      <th></th>\n",
       "      <th>children</th>\n",
       "      <th>days_employed</th>\n",
       "      <th>dob_years</th>\n",
       "      <th>education</th>\n",
       "      <th>education_id</th>\n",
       "      <th>family_status</th>\n",
       "      <th>family_status_id</th>\n",
       "      <th>gender</th>\n",
       "      <th>income_type</th>\n",
       "      <th>debt</th>\n",
       "      <th>total_income</th>\n",
       "      <th>purpose_lemm</th>\n",
       "      <th>purpose</th>\n",
       "    </tr>\n",
       "  </thead>\n",
       "  <tbody>\n",
       "    <tr>\n",
       "      <td>0</td>\n",
       "      <td>1</td>\n",
       "      <td>-8437</td>\n",
       "      <td>42</td>\n",
       "      <td>высшее</td>\n",
       "      <td>0</td>\n",
       "      <td>женат / замужем</td>\n",
       "      <td>0</td>\n",
       "      <td>F</td>\n",
       "      <td>сотрудник</td>\n",
       "      <td>0</td>\n",
       "      <td>253875</td>\n",
       "      <td>[покупка,  , жилье, \\n]</td>\n",
       "      <td>жилая недвижимость</td>\n",
       "    </tr>\n",
       "    <tr>\n",
       "      <td>1</td>\n",
       "      <td>1</td>\n",
       "      <td>-4024</td>\n",
       "      <td>36</td>\n",
       "      <td>среднее</td>\n",
       "      <td>1</td>\n",
       "      <td>женат / замужем</td>\n",
       "      <td>0</td>\n",
       "      <td>F</td>\n",
       "      <td>сотрудник</td>\n",
       "      <td>0</td>\n",
       "      <td>112080</td>\n",
       "      <td>[приобретение,  , автомобиль, \\n]</td>\n",
       "      <td>автомобиль</td>\n",
       "    </tr>\n",
       "    <tr>\n",
       "      <td>2</td>\n",
       "      <td>0</td>\n",
       "      <td>-5623</td>\n",
       "      <td>33</td>\n",
       "      <td>среднее</td>\n",
       "      <td>1</td>\n",
       "      <td>женат / замужем</td>\n",
       "      <td>0</td>\n",
       "      <td>M</td>\n",
       "      <td>сотрудник</td>\n",
       "      <td>0</td>\n",
       "      <td>145885</td>\n",
       "      <td>[покупка,  , жилье, \\n]</td>\n",
       "      <td>жилая недвижимость</td>\n",
       "    </tr>\n",
       "    <tr>\n",
       "      <td>3</td>\n",
       "      <td>3</td>\n",
       "      <td>-4124</td>\n",
       "      <td>32</td>\n",
       "      <td>среднее</td>\n",
       "      <td>1</td>\n",
       "      <td>женат / замужем</td>\n",
       "      <td>0</td>\n",
       "      <td>M</td>\n",
       "      <td>сотрудник</td>\n",
       "      <td>0</td>\n",
       "      <td>267628</td>\n",
       "      <td>[дополнительный,  , образование, \\n]</td>\n",
       "      <td>образование</td>\n",
       "    </tr>\n",
       "    <tr>\n",
       "      <td>4</td>\n",
       "      <td>0</td>\n",
       "      <td>340266</td>\n",
       "      <td>53</td>\n",
       "      <td>среднее</td>\n",
       "      <td>1</td>\n",
       "      <td>гражданский брак</td>\n",
       "      <td>1</td>\n",
       "      <td>F</td>\n",
       "      <td>пенсионер</td>\n",
       "      <td>0</td>\n",
       "      <td>158616</td>\n",
       "      <td>[сыграть,  , свадьба, \\n]</td>\n",
       "      <td>свадьба</td>\n",
       "    </tr>\n",
       "  </tbody>\n",
       "</table>\n",
       "</div>"
      ],
      "text/plain": [
       "   children  days_employed  dob_years education  education_id  \\\n",
       "0         1          -8437         42    высшее             0   \n",
       "1         1          -4024         36   среднее             1   \n",
       "2         0          -5623         33   среднее             1   \n",
       "3         3          -4124         32   среднее             1   \n",
       "4         0         340266         53   среднее             1   \n",
       "\n",
       "      family_status  family_status_id gender income_type  debt  total_income  \\\n",
       "0   женат / замужем                 0      F   сотрудник     0        253875   \n",
       "1   женат / замужем                 0      F   сотрудник     0        112080   \n",
       "2   женат / замужем                 0      M   сотрудник     0        145885   \n",
       "3   женат / замужем                 0      M   сотрудник     0        267628   \n",
       "4  гражданский брак                 1      F   пенсионер     0        158616   \n",
       "\n",
       "                           purpose_lemm             purpose  \n",
       "0               [покупка,  , жилье, \\n]  жилая недвижимость  \n",
       "1     [приобретение,  , автомобиль, \\n]          автомобиль  \n",
       "2               [покупка,  , жилье, \\n]  жилая недвижимость  \n",
       "3  [дополнительный,  , образование, \\n]         образование  \n",
       "4             [сыграть,  , свадьба, \\n]             свадьба  "
      ]
     },
     "metadata": {},
     "output_type": "display_data"
    }
   ],
   "source": [
    "display(main_data.head())"
   ]
  },
  {
   "cell_type": "markdown",
   "metadata": {},
   "source": [
    "Удалим столбец \"purpose_lemm\", он больше не нужен"
   ]
  },
  {
   "cell_type": "code",
   "execution_count": 87,
   "metadata": {},
   "outputs": [],
   "source": [
    "main_data = main_data.drop(['purpose_lemm'], axis=1)"
   ]
  },
  {
   "cell_type": "markdown",
   "metadata": {},
   "source": [
    "Снова проверим количество дубликатов"
   ]
  },
  {
   "cell_type": "code",
   "execution_count": 88,
   "metadata": {},
   "outputs": [
    {
     "data": {
      "text/plain": [
       "301"
      ]
     },
     "metadata": {},
     "output_type": "display_data"
    }
   ],
   "source": [
    "display(main_data.duplicated().sum())"
   ]
  },
  {
   "cell_type": "markdown",
   "metadata": {},
   "source": [
    "Посмотрим первые 10 строк дубликатов."
   ]
  },
  {
   "cell_type": "code",
   "execution_count": 89,
   "metadata": {},
   "outputs": [
    {
     "data": {
      "text/html": [
       "<div>\n",
       "<style scoped>\n",
       "    .dataframe tbody tr th:only-of-type {\n",
       "        vertical-align: middle;\n",
       "    }\n",
       "\n",
       "    .dataframe tbody tr th {\n",
       "        vertical-align: top;\n",
       "    }\n",
       "\n",
       "    .dataframe thead th {\n",
       "        text-align: right;\n",
       "    }\n",
       "</style>\n",
       "<table border=\"1\" class=\"dataframe\">\n",
       "  <thead>\n",
       "    <tr style=\"text-align: right;\">\n",
       "      <th></th>\n",
       "      <th>children</th>\n",
       "      <th>days_employed</th>\n",
       "      <th>dob_years</th>\n",
       "      <th>education</th>\n",
       "      <th>education_id</th>\n",
       "      <th>family_status</th>\n",
       "      <th>family_status_id</th>\n",
       "      <th>gender</th>\n",
       "      <th>income_type</th>\n",
       "      <th>debt</th>\n",
       "      <th>total_income</th>\n",
       "      <th>purpose</th>\n",
       "    </tr>\n",
       "  </thead>\n",
       "  <tbody>\n",
       "    <tr>\n",
       "      <td>360</td>\n",
       "      <td>0</td>\n",
       "      <td>0</td>\n",
       "      <td>27</td>\n",
       "      <td>среднее</td>\n",
       "      <td>1</td>\n",
       "      <td>женат / замужем</td>\n",
       "      <td>0</td>\n",
       "      <td>M</td>\n",
       "      <td>компаньон</td>\n",
       "      <td>0</td>\n",
       "      <td>209551</td>\n",
       "      <td>жилая недвижимость</td>\n",
       "    </tr>\n",
       "    <tr>\n",
       "      <td>829</td>\n",
       "      <td>0</td>\n",
       "      <td>0</td>\n",
       "      <td>57</td>\n",
       "      <td>среднее</td>\n",
       "      <td>1</td>\n",
       "      <td>гражданский брак</td>\n",
       "      <td>1</td>\n",
       "      <td>F</td>\n",
       "      <td>компаньон</td>\n",
       "      <td>0</td>\n",
       "      <td>167242</td>\n",
       "      <td>образование</td>\n",
       "    </tr>\n",
       "    <tr>\n",
       "      <td>1010</td>\n",
       "      <td>0</td>\n",
       "      <td>0</td>\n",
       "      <td>66</td>\n",
       "      <td>среднее</td>\n",
       "      <td>1</td>\n",
       "      <td>женат / замужем</td>\n",
       "      <td>0</td>\n",
       "      <td>F</td>\n",
       "      <td>пенсионер</td>\n",
       "      <td>0</td>\n",
       "      <td>106054</td>\n",
       "      <td>жилая недвижимость</td>\n",
       "    </tr>\n",
       "    <tr>\n",
       "      <td>1072</td>\n",
       "      <td>0</td>\n",
       "      <td>0</td>\n",
       "      <td>44</td>\n",
       "      <td>среднее</td>\n",
       "      <td>1</td>\n",
       "      <td>гражданский брак</td>\n",
       "      <td>1</td>\n",
       "      <td>F</td>\n",
       "      <td>сотрудник</td>\n",
       "      <td>0</td>\n",
       "      <td>137075</td>\n",
       "      <td>жилая недвижимость</td>\n",
       "    </tr>\n",
       "    <tr>\n",
       "      <td>1247</td>\n",
       "      <td>0</td>\n",
       "      <td>0</td>\n",
       "      <td>54</td>\n",
       "      <td>среднее</td>\n",
       "      <td>1</td>\n",
       "      <td>гражданский брак</td>\n",
       "      <td>1</td>\n",
       "      <td>M</td>\n",
       "      <td>сотрудник</td>\n",
       "      <td>0</td>\n",
       "      <td>151336</td>\n",
       "      <td>свадьба</td>\n",
       "    </tr>\n",
       "    <tr>\n",
       "      <td>2210</td>\n",
       "      <td>1</td>\n",
       "      <td>0</td>\n",
       "      <td>49</td>\n",
       "      <td>высшее</td>\n",
       "      <td>0</td>\n",
       "      <td>женат / замужем</td>\n",
       "      <td>0</td>\n",
       "      <td>F</td>\n",
       "      <td>сотрудник</td>\n",
       "      <td>0</td>\n",
       "      <td>125128</td>\n",
       "      <td>жилая недвижимость</td>\n",
       "    </tr>\n",
       "    <tr>\n",
       "      <td>2284</td>\n",
       "      <td>0</td>\n",
       "      <td>0</td>\n",
       "      <td>60</td>\n",
       "      <td>среднее</td>\n",
       "      <td>1</td>\n",
       "      <td>вдовец / вдова</td>\n",
       "      <td>2</td>\n",
       "      <td>F</td>\n",
       "      <td>пенсионер</td>\n",
       "      <td>0</td>\n",
       "      <td>114653</td>\n",
       "      <td>жилая недвижимость</td>\n",
       "    </tr>\n",
       "    <tr>\n",
       "      <td>2343</td>\n",
       "      <td>0</td>\n",
       "      <td>0</td>\n",
       "      <td>47</td>\n",
       "      <td>среднее</td>\n",
       "      <td>1</td>\n",
       "      <td>женат / замужем</td>\n",
       "      <td>0</td>\n",
       "      <td>M</td>\n",
       "      <td>сотрудник</td>\n",
       "      <td>0</td>\n",
       "      <td>167766</td>\n",
       "      <td>жилая недвижимость</td>\n",
       "    </tr>\n",
       "    <tr>\n",
       "      <td>2700</td>\n",
       "      <td>0</td>\n",
       "      <td>0</td>\n",
       "      <td>65</td>\n",
       "      <td>среднее</td>\n",
       "      <td>1</td>\n",
       "      <td>женат / замужем</td>\n",
       "      <td>0</td>\n",
       "      <td>F</td>\n",
       "      <td>пенсионер</td>\n",
       "      <td>0</td>\n",
       "      <td>117928</td>\n",
       "      <td>жилая недвижимость</td>\n",
       "    </tr>\n",
       "    <tr>\n",
       "      <td>3074</td>\n",
       "      <td>0</td>\n",
       "      <td>0</td>\n",
       "      <td>62</td>\n",
       "      <td>среднее</td>\n",
       "      <td>1</td>\n",
       "      <td>женат / замужем</td>\n",
       "      <td>0</td>\n",
       "      <td>M</td>\n",
       "      <td>пенсионер</td>\n",
       "      <td>0</td>\n",
       "      <td>128882</td>\n",
       "      <td>жилая недвижимость</td>\n",
       "    </tr>\n",
       "  </tbody>\n",
       "</table>\n",
       "</div>"
      ],
      "text/plain": [
       "      children  days_employed  dob_years education  education_id  \\\n",
       "360          0              0         27   среднее             1   \n",
       "829          0              0         57   среднее             1   \n",
       "1010         0              0         66   среднее             1   \n",
       "1072         0              0         44   среднее             1   \n",
       "1247         0              0         54   среднее             1   \n",
       "2210         1              0         49    высшее             0   \n",
       "2284         0              0         60   среднее             1   \n",
       "2343         0              0         47   среднее             1   \n",
       "2700         0              0         65   среднее             1   \n",
       "3074         0              0         62   среднее             1   \n",
       "\n",
       "         family_status  family_status_id gender income_type  debt  \\\n",
       "360    женат / замужем                 0      M   компаньон     0   \n",
       "829   гражданский брак                 1      F   компаньон     0   \n",
       "1010   женат / замужем                 0      F   пенсионер     0   \n",
       "1072  гражданский брак                 1      F   сотрудник     0   \n",
       "1247  гражданский брак                 1      M   сотрудник     0   \n",
       "2210   женат / замужем                 0      F   сотрудник     0   \n",
       "2284    вдовец / вдова                 2      F   пенсионер     0   \n",
       "2343   женат / замужем                 0      M   сотрудник     0   \n",
       "2700   женат / замужем                 0      F   пенсионер     0   \n",
       "3074   женат / замужем                 0      M   пенсионер     0   \n",
       "\n",
       "      total_income             purpose  \n",
       "360         209551  жилая недвижимость  \n",
       "829         167242         образование  \n",
       "1010        106054  жилая недвижимость  \n",
       "1072        137075  жилая недвижимость  \n",
       "1247        151336             свадьба  \n",
       "2210        125128  жилая недвижимость  \n",
       "2284        114653  жилая недвижимость  \n",
       "2343        167766  жилая недвижимость  \n",
       "2700        117928  жилая недвижимость  \n",
       "3074        128882  жилая недвижимость  "
      ]
     },
     "metadata": {},
     "output_type": "display_data"
    }
   ],
   "source": [
    "data_dupl2 = main_data[main_data.duplicated()]\n",
    "display(data_dupl2.head(10))"
   ]
  },
  {
   "cell_type": "markdown",
   "metadata": {},
   "source": [
    "Первые 10 клиентов снова оказались теми клиентами у которых был NAN в столбце \"days_employed\". Проверим общее количество таких клиентов в дубликатах."
   ]
  },
  {
   "cell_type": "code",
   "execution_count": 90,
   "metadata": {},
   "outputs": [
    {
     "data": {
      "text/plain": [
       "301"
      ]
     },
     "metadata": {},
     "output_type": "display_data"
    }
   ],
   "source": [
    "display(data_dupl2[data_dupl2['days_employed'] == 0]['days_employed'].count())"
   ]
  },
  {
   "cell_type": "markdown",
   "metadata": {},
   "source": [
    "И снова это те самые клиенты. Удалим дубликаты и выведем общую информацию по таблице"
   ]
  },
  {
   "cell_type": "code",
   "execution_count": 91,
   "metadata": {},
   "outputs": [
    {
     "name": "stdout",
     "output_type": "stream",
     "text": [
      "<class 'pandas.core.frame.DataFrame'>\n",
      "RangeIndex: 21153 entries, 0 to 21152\n",
      "Data columns (total 12 columns):\n",
      "children            21153 non-null int64\n",
      "days_employed       21153 non-null int64\n",
      "dob_years           21153 non-null int64\n",
      "education           21153 non-null object\n",
      "education_id        21153 non-null int64\n",
      "family_status       21153 non-null object\n",
      "family_status_id    21153 non-null int64\n",
      "gender              21153 non-null object\n",
      "income_type         21153 non-null object\n",
      "debt                21153 non-null int64\n",
      "total_income        21153 non-null int64\n",
      "purpose             21153 non-null object\n",
      "dtypes: int64(7), object(5)\n",
      "memory usage: 1.9+ MB\n"
     ]
    }
   ],
   "source": [
    "main_data = main_data.drop_duplicates().reset_index(drop=True)\n",
    "main_data.info()"
   ]
  },
  {
   "cell_type": "markdown",
   "metadata": {},
   "source": [
    "#### Вывод\n",
    "После проведения лемматизации в столбце \"purpose\" клиенты разделились на 5 основных категорий по цели получения кредита: свадьба, жилая недвижимость, коммерческая  недвижимость, автомобиль, образование. Это облегчит поиск зависимости возврата кредита в срок от целей получения кредита. Кроме того после повторного поиска дубликатов было выявлено дополнительно 301 дубликат. Данные дубликаты удалены, так как были построчно полной копией, а так же ранее имели значение NAN в столбце \"days_employed\" и \"total_income\" одновременно."
   ]
  },
  {
   "cell_type": "markdown",
   "metadata": {},
   "source": [
    "### 2.5. Категоризация данных\n",
    "<a id=\"2.5\"></a>"
   ]
  },
  {
   "cell_type": "markdown",
   "metadata": {},
   "source": [
    "В данном разделе подготовим таблицы для ответов на вопросы в шаге 3."
   ]
  },
  {
   "cell_type": "markdown",
   "metadata": {},
   "source": [
    "Напишем функцию, при помощи которой разделим клиентов на разные возрастные группы."
   ]
  },
  {
   "cell_type": "code",
   "execution_count": 92,
   "metadata": {},
   "outputs": [],
   "source": [
    "def level_age(age):\n",
    "    if age < 30:\n",
    "        return 'до 30'\n",
    "    if age >= 30 and age < 40:\n",
    "        return 'от 30 до 40'\n",
    "    if age >= 40 and age < 50:\n",
    "        return 'от 40 до 50'\n",
    "    if age >= 50 and age < 60:\n",
    "        return 'от 50 до 60'\n",
    "    \n",
    "    return 'от 60'"
   ]
  },
  {
   "cell_type": "markdown",
   "metadata": {},
   "source": [
    "Добавлим новый столбец в котором при помощи функции обозначим возрастную категорию для каждого клиента."
   ]
  },
  {
   "cell_type": "code",
   "execution_count": 93,
   "metadata": {},
   "outputs": [],
   "source": [
    "main_data['age_level'] = main_data['dob_years'].apply(level_age)"
   ]
  },
  {
   "cell_type": "markdown",
   "metadata": {},
   "source": [
    "Проверим уникальные значения нового столбца"
   ]
  },
  {
   "cell_type": "code",
   "execution_count": 94,
   "metadata": {},
   "outputs": [
    {
     "data": {
      "text/plain": [
       "от 30 до 40    5683\n",
       "от 40 до 50    5278\n",
       "от 50 до 60    4567\n",
       "до 30          3158\n",
       "от 60          2467\n",
       "Name: age_level, dtype: int64"
      ]
     },
     "metadata": {},
     "output_type": "display_data"
    }
   ],
   "source": [
    "display(main_data['age_level'].value_counts())"
   ]
  },
  {
   "cell_type": "markdown",
   "metadata": {},
   "source": [
    "Люди возрастом от 30 до 60 в 2.76 раза чаще обращаются за кредитом чем люди возрастом до 30 лет и от 60 лет."
   ]
  },
  {
   "cell_type": "markdown",
   "metadata": {},
   "source": [
    "Создадим новую таблицу в которой удалим ненужные столбцы {'days_employed', 'dob_years', 'family_status_id', 'education_id'} для улучшения читаемости. Выведем превые 5 строк новой таблицы"
   ]
  },
  {
   "cell_type": "code",
   "execution_count": 95,
   "metadata": {},
   "outputs": [
    {
     "data": {
      "text/html": [
       "<div>\n",
       "<style scoped>\n",
       "    .dataframe tbody tr th:only-of-type {\n",
       "        vertical-align: middle;\n",
       "    }\n",
       "\n",
       "    .dataframe tbody tr th {\n",
       "        vertical-align: top;\n",
       "    }\n",
       "\n",
       "    .dataframe thead th {\n",
       "        text-align: right;\n",
       "    }\n",
       "</style>\n",
       "<table border=\"1\" class=\"dataframe\">\n",
       "  <thead>\n",
       "    <tr style=\"text-align: right;\">\n",
       "      <th></th>\n",
       "      <th>children</th>\n",
       "      <th>education</th>\n",
       "      <th>family_status</th>\n",
       "      <th>gender</th>\n",
       "      <th>income_type</th>\n",
       "      <th>debt</th>\n",
       "      <th>total_income</th>\n",
       "      <th>purpose</th>\n",
       "      <th>age_level</th>\n",
       "    </tr>\n",
       "  </thead>\n",
       "  <tbody>\n",
       "    <tr>\n",
       "      <td>0</td>\n",
       "      <td>1</td>\n",
       "      <td>высшее</td>\n",
       "      <td>женат / замужем</td>\n",
       "      <td>F</td>\n",
       "      <td>сотрудник</td>\n",
       "      <td>0</td>\n",
       "      <td>253875</td>\n",
       "      <td>жилая недвижимость</td>\n",
       "      <td>от 40 до 50</td>\n",
       "    </tr>\n",
       "    <tr>\n",
       "      <td>1</td>\n",
       "      <td>1</td>\n",
       "      <td>среднее</td>\n",
       "      <td>женат / замужем</td>\n",
       "      <td>F</td>\n",
       "      <td>сотрудник</td>\n",
       "      <td>0</td>\n",
       "      <td>112080</td>\n",
       "      <td>автомобиль</td>\n",
       "      <td>от 30 до 40</td>\n",
       "    </tr>\n",
       "    <tr>\n",
       "      <td>2</td>\n",
       "      <td>0</td>\n",
       "      <td>среднее</td>\n",
       "      <td>женат / замужем</td>\n",
       "      <td>M</td>\n",
       "      <td>сотрудник</td>\n",
       "      <td>0</td>\n",
       "      <td>145885</td>\n",
       "      <td>жилая недвижимость</td>\n",
       "      <td>от 30 до 40</td>\n",
       "    </tr>\n",
       "    <tr>\n",
       "      <td>3</td>\n",
       "      <td>3</td>\n",
       "      <td>среднее</td>\n",
       "      <td>женат / замужем</td>\n",
       "      <td>M</td>\n",
       "      <td>сотрудник</td>\n",
       "      <td>0</td>\n",
       "      <td>267628</td>\n",
       "      <td>образование</td>\n",
       "      <td>от 30 до 40</td>\n",
       "    </tr>\n",
       "    <tr>\n",
       "      <td>4</td>\n",
       "      <td>0</td>\n",
       "      <td>среднее</td>\n",
       "      <td>гражданский брак</td>\n",
       "      <td>F</td>\n",
       "      <td>пенсионер</td>\n",
       "      <td>0</td>\n",
       "      <td>158616</td>\n",
       "      <td>свадьба</td>\n",
       "      <td>от 50 до 60</td>\n",
       "    </tr>\n",
       "  </tbody>\n",
       "</table>\n",
       "</div>"
      ],
      "text/plain": [
       "   children education     family_status gender income_type  debt  \\\n",
       "0         1    высшее   женат / замужем      F   сотрудник     0   \n",
       "1         1   среднее   женат / замужем      F   сотрудник     0   \n",
       "2         0   среднее   женат / замужем      M   сотрудник     0   \n",
       "3         3   среднее   женат / замужем      M   сотрудник     0   \n",
       "4         0   среднее  гражданский брак      F   пенсионер     0   \n",
       "\n",
       "   total_income             purpose    age_level  \n",
       "0        253875  жилая недвижимость  от 40 до 50  \n",
       "1        112080          автомобиль  от 30 до 40  \n",
       "2        145885  жилая недвижимость  от 30 до 40  \n",
       "3        267628         образование  от 30 до 40  \n",
       "4        158616             свадьба  от 50 до 60  "
      ]
     },
     "metadata": {},
     "output_type": "display_data"
    }
   ],
   "source": [
    "data_fin = main_data.copy()\n",
    "data_fin = data_fin.drop(['days_employed', 'dob_years', 'family_status_id', 'education_id'], axis=1)\n",
    "display(data_fin.head())  # Проверю первые 5 строк"
   ]
  },
  {
   "cell_type": "markdown",
   "metadata": {},
   "source": [
    "Напишем функцию, при помощи которой разделим клиентов на категории в зависимости от уровня дохода."
   ]
  },
  {
   "cell_type": "code",
   "execution_count": 96,
   "metadata": {},
   "outputs": [],
   "source": [
    "def level_income(income):\n",
    "    if income < 36000:\n",
    "        return 'выше бедности'\n",
    "    if income >= 36000 and income < 100000:\n",
    "        return 'нижний средний класс'\n",
    "    if income >= 100000 and income < 150000:\n",
    "        return 'предсредний класс'\n",
    "    if income >= 150000 and income < 250000:\n",
    "        return 'средний класс'\n",
    "    if income >= 250000 and income < 500000:\n",
    "        return 'верхний средний класс'\n",
    "    if income >= 500000 and income < 1000000:\n",
    "        return 'состоятельные'\n",
    "    return 'богатые'"
   ]
  },
  {
   "cell_type": "markdown",
   "metadata": {},
   "source": [
    "Добавим новый столбец и удалим столбец \"total_income\". Проверим результат"
   ]
  },
  {
   "cell_type": "code",
   "execution_count": 97,
   "metadata": {},
   "outputs": [
    {
     "data": {
      "text/plain": [
       "средний класс            7161\n",
       "предсредний класс        6697\n",
       "нижний средний класс     4406\n",
       "верхний средний класс    2592\n",
       "состоятельные             197\n",
       "выше бедности              75\n",
       "богатые                    25\n",
       "Name: income_level, dtype: int64"
      ]
     },
     "metadata": {},
     "output_type": "display_data"
    }
   ],
   "source": [
    "data_fin['income_level'] = data_fin['total_income'].apply(level_income)\n",
    "data_fin = data_fin.drop('total_income', axis=1)\n",
    "display(data_fin['income_level'].value_counts())"
   ]
  },
  {
   "cell_type": "markdown",
   "metadata": {},
   "source": [
    "Создадим словарь, в который поместим список функций для дальнейшего агрегирования."
   ]
  },
  {
   "cell_type": "code",
   "execution_count": 98,
   "metadata": {},
   "outputs": [],
   "source": [
    "agg_func = {'debt': ['count', 'sum']}"
   ]
  },
  {
   "cell_type": "markdown",
   "metadata": {},
   "source": [
    "#### 2.5.1. Таблицы для ответа на вопрос №1\n",
    "<a id=\"2.5.1\"></a>"
   ]
  },
  {
   "cell_type": "markdown",
   "metadata": {},
   "source": [
    "##### 2.5.1.1. Выведем таблицу в которой сгруппируем количество детей с количеством таких клиентов и суммой клиентов, имевших задолжность по возврату кредитов, при помощи методов \"groupby\" и \"agg\"."
   ]
  },
  {
   "cell_type": "code",
   "execution_count": 99,
   "metadata": {},
   "outputs": [],
   "source": [
    "child_debt = data_fin.groupby('children').agg(agg_func)"
   ]
  },
  {
   "cell_type": "markdown",
   "metadata": {},
   "source": [
    "Добавим столбец количества клиентов, имевших задолжность по возврату кредита в срок, по каждой категории, в процентом соотношении от общего количества клиентов. Выведем результат."
   ]
  },
  {
   "cell_type": "code",
   "execution_count": 100,
   "metadata": {},
   "outputs": [
    {
     "data": {
      "text/html": [
       "<div>\n",
       "<style scoped>\n",
       "    .dataframe tbody tr th:only-of-type {\n",
       "        vertical-align: middle;\n",
       "    }\n",
       "\n",
       "    .dataframe tbody tr th {\n",
       "        vertical-align: top;\n",
       "    }\n",
       "\n",
       "    .dataframe thead tr th {\n",
       "        text-align: left;\n",
       "    }\n",
       "\n",
       "    .dataframe thead tr:last-of-type th {\n",
       "        text-align: right;\n",
       "    }\n",
       "</style>\n",
       "<table border=\"1\" class=\"dataframe\">\n",
       "  <thead>\n",
       "    <tr>\n",
       "      <th></th>\n",
       "      <th colspan=\"2\" halign=\"left\">debt</th>\n",
       "      <th>debtors, %</th>\n",
       "    </tr>\n",
       "    <tr>\n",
       "      <th></th>\n",
       "      <th>count</th>\n",
       "      <th>sum</th>\n",
       "      <th></th>\n",
       "    </tr>\n",
       "    <tr>\n",
       "      <th>children</th>\n",
       "      <th></th>\n",
       "      <th></th>\n",
       "      <th></th>\n",
       "    </tr>\n",
       "  </thead>\n",
       "  <tbody>\n",
       "    <tr>\n",
       "      <td>5</td>\n",
       "      <td>9</td>\n",
       "      <td>0</td>\n",
       "      <td>0</td>\n",
       "    </tr>\n",
       "    <tr>\n",
       "      <td>0</td>\n",
       "      <td>13897</td>\n",
       "      <td>1062</td>\n",
       "      <td>7</td>\n",
       "    </tr>\n",
       "    <tr>\n",
       "      <td>3</td>\n",
       "      <td>329</td>\n",
       "      <td>27</td>\n",
       "      <td>8</td>\n",
       "    </tr>\n",
       "    <tr>\n",
       "      <td>1</td>\n",
       "      <td>4762</td>\n",
       "      <td>444</td>\n",
       "      <td>9</td>\n",
       "    </tr>\n",
       "    <tr>\n",
       "      <td>2</td>\n",
       "      <td>2116</td>\n",
       "      <td>202</td>\n",
       "      <td>9</td>\n",
       "    </tr>\n",
       "    <tr>\n",
       "      <td>4</td>\n",
       "      <td>40</td>\n",
       "      <td>4</td>\n",
       "      <td>10</td>\n",
       "    </tr>\n",
       "  </tbody>\n",
       "</table>\n",
       "</div>"
      ],
      "text/plain": [
       "           debt       debtors, %\n",
       "          count   sum           \n",
       "children                        \n",
       "5             9     0          0\n",
       "0         13897  1062          7\n",
       "3           329    27          8\n",
       "1          4762   444          9\n",
       "2          2116   202          9\n",
       "4            40     4         10"
      ]
     },
     "metadata": {},
     "output_type": "display_data"
    }
   ],
   "source": [
    "child_debt['debtors, %'] = child_debt['debt', 'sum'] * 100 / child_debt['debt', 'count']\n",
    "child_debt['debtors, %'] = child_debt['debtors, %'].astype('int')\n",
    "display(child_debt.sort_values('debtors, %'))"
   ]
  },
  {
   "cell_type": "markdown",
   "metadata": {},
   "source": [
    "##### 2.5.1.2. Выведем таблицу в которой сгруппируем возрастную категорию разделенную по количеству детей с количеством таких клиентов и суммой клиентов, имевших задолжность по возврату кредитов, при помощи методов \"groupby\" и \"agg\"."
   ]
  },
  {
   "cell_type": "code",
   "execution_count": 101,
   "metadata": {},
   "outputs": [],
   "source": [
    "ageChild_debt = data_fin.groupby(['age_level', 'children']).agg(agg_func)\n"
   ]
  },
  {
   "cell_type": "markdown",
   "metadata": {},
   "source": [
    "Добавим столбец количества клиентов ,имевших задолжность по возврату кредита в срок, по каждой категории, в процентом соотношении от общего количества клиентов. Выведем результат"
   ]
  },
  {
   "cell_type": "code",
   "execution_count": 102,
   "metadata": {},
   "outputs": [
    {
     "data": {
      "text/html": [
       "<div>\n",
       "<style scoped>\n",
       "    .dataframe tbody tr th:only-of-type {\n",
       "        vertical-align: middle;\n",
       "    }\n",
       "\n",
       "    .dataframe tbody tr th {\n",
       "        vertical-align: top;\n",
       "    }\n",
       "\n",
       "    .dataframe thead tr th {\n",
       "        text-align: left;\n",
       "    }\n",
       "\n",
       "    .dataframe thead tr:last-of-type th {\n",
       "        text-align: right;\n",
       "    }\n",
       "</style>\n",
       "<table border=\"1\" class=\"dataframe\">\n",
       "  <thead>\n",
       "    <tr>\n",
       "      <th></th>\n",
       "      <th></th>\n",
       "      <th colspan=\"2\" halign=\"left\">debt</th>\n",
       "      <th>debtors, %</th>\n",
       "    </tr>\n",
       "    <tr>\n",
       "      <th></th>\n",
       "      <th></th>\n",
       "      <th>count</th>\n",
       "      <th>sum</th>\n",
       "      <th></th>\n",
       "    </tr>\n",
       "    <tr>\n",
       "      <th>age_level</th>\n",
       "      <th>children</th>\n",
       "      <th></th>\n",
       "      <th></th>\n",
       "      <th></th>\n",
       "    </tr>\n",
       "  </thead>\n",
       "  <tbody>\n",
       "    <tr>\n",
       "      <td rowspan=\"5\" valign=\"top\">до 30</td>\n",
       "      <td>0</td>\n",
       "      <td>1900</td>\n",
       "      <td>209</td>\n",
       "      <td>11</td>\n",
       "    </tr>\n",
       "    <tr>\n",
       "      <td>1</td>\n",
       "      <td>875</td>\n",
       "      <td>96</td>\n",
       "      <td>10</td>\n",
       "    </tr>\n",
       "    <tr>\n",
       "      <td>2</td>\n",
       "      <td>342</td>\n",
       "      <td>40</td>\n",
       "      <td>11</td>\n",
       "    </tr>\n",
       "    <tr>\n",
       "      <td>3</td>\n",
       "      <td>36</td>\n",
       "      <td>3</td>\n",
       "      <td>8</td>\n",
       "    </tr>\n",
       "    <tr>\n",
       "      <td>4</td>\n",
       "      <td>5</td>\n",
       "      <td>1</td>\n",
       "      <td>20</td>\n",
       "    </tr>\n",
       "    <tr>\n",
       "      <td rowspan=\"6\" valign=\"top\">от 30 до 40</td>\n",
       "      <td>0</td>\n",
       "      <td>2372</td>\n",
       "      <td>228</td>\n",
       "      <td>9</td>\n",
       "    </tr>\n",
       "    <tr>\n",
       "      <td>1</td>\n",
       "      <td>1896</td>\n",
       "      <td>196</td>\n",
       "      <td>10</td>\n",
       "    </tr>\n",
       "    <tr>\n",
       "      <td>2</td>\n",
       "      <td>1184</td>\n",
       "      <td>115</td>\n",
       "      <td>9</td>\n",
       "    </tr>\n",
       "    <tr>\n",
       "      <td>3</td>\n",
       "      <td>198</td>\n",
       "      <td>17</td>\n",
       "      <td>8</td>\n",
       "    </tr>\n",
       "    <tr>\n",
       "      <td>4</td>\n",
       "      <td>26</td>\n",
       "      <td>1</td>\n",
       "      <td>3</td>\n",
       "    </tr>\n",
       "    <tr>\n",
       "      <td>5</td>\n",
       "      <td>7</td>\n",
       "      <td>0</td>\n",
       "      <td>0</td>\n",
       "    </tr>\n",
       "    <tr>\n",
       "      <td rowspan=\"6\" valign=\"top\">от 40 до 50</td>\n",
       "      <td>0</td>\n",
       "      <td>3340</td>\n",
       "      <td>247</td>\n",
       "      <td>7</td>\n",
       "    </tr>\n",
       "    <tr>\n",
       "      <td>1</td>\n",
       "      <td>1350</td>\n",
       "      <td>108</td>\n",
       "      <td>8</td>\n",
       "    </tr>\n",
       "    <tr>\n",
       "      <td>2</td>\n",
       "      <td>495</td>\n",
       "      <td>41</td>\n",
       "      <td>8</td>\n",
       "    </tr>\n",
       "    <tr>\n",
       "      <td>3</td>\n",
       "      <td>84</td>\n",
       "      <td>7</td>\n",
       "      <td>8</td>\n",
       "    </tr>\n",
       "    <tr>\n",
       "      <td>4</td>\n",
       "      <td>8</td>\n",
       "      <td>1</td>\n",
       "      <td>12</td>\n",
       "    </tr>\n",
       "    <tr>\n",
       "      <td>5</td>\n",
       "      <td>1</td>\n",
       "      <td>0</td>\n",
       "      <td>0</td>\n",
       "    </tr>\n",
       "    <tr>\n",
       "      <td rowspan=\"6\" valign=\"top\">от 50 до 60</td>\n",
       "      <td>0</td>\n",
       "      <td>3985</td>\n",
       "      <td>261</td>\n",
       "      <td>6</td>\n",
       "    </tr>\n",
       "    <tr>\n",
       "      <td>1</td>\n",
       "      <td>486</td>\n",
       "      <td>37</td>\n",
       "      <td>7</td>\n",
       "    </tr>\n",
       "    <tr>\n",
       "      <td>2</td>\n",
       "      <td>84</td>\n",
       "      <td>6</td>\n",
       "      <td>7</td>\n",
       "    </tr>\n",
       "    <tr>\n",
       "      <td>3</td>\n",
       "      <td>10</td>\n",
       "      <td>0</td>\n",
       "      <td>0</td>\n",
       "    </tr>\n",
       "    <tr>\n",
       "      <td>4</td>\n",
       "      <td>1</td>\n",
       "      <td>1</td>\n",
       "      <td>100</td>\n",
       "    </tr>\n",
       "    <tr>\n",
       "      <td>5</td>\n",
       "      <td>1</td>\n",
       "      <td>0</td>\n",
       "      <td>0</td>\n",
       "    </tr>\n",
       "    <tr>\n",
       "      <td rowspan=\"4\" valign=\"top\">от 60</td>\n",
       "      <td>0</td>\n",
       "      <td>2300</td>\n",
       "      <td>117</td>\n",
       "      <td>5</td>\n",
       "    </tr>\n",
       "    <tr>\n",
       "      <td>1</td>\n",
       "      <td>155</td>\n",
       "      <td>7</td>\n",
       "      <td>4</td>\n",
       "    </tr>\n",
       "    <tr>\n",
       "      <td>2</td>\n",
       "      <td>11</td>\n",
       "      <td>0</td>\n",
       "      <td>0</td>\n",
       "    </tr>\n",
       "    <tr>\n",
       "      <td>3</td>\n",
       "      <td>1</td>\n",
       "      <td>0</td>\n",
       "      <td>0</td>\n",
       "    </tr>\n",
       "  </tbody>\n",
       "</table>\n",
       "</div>"
      ],
      "text/plain": [
       "                      debt      debtors, %\n",
       "                     count  sum           \n",
       "age_level   children                      \n",
       "до 30       0         1900  209         11\n",
       "            1          875   96         10\n",
       "            2          342   40         11\n",
       "            3           36    3          8\n",
       "            4            5    1         20\n",
       "от 30 до 40 0         2372  228          9\n",
       "            1         1896  196         10\n",
       "            2         1184  115          9\n",
       "            3          198   17          8\n",
       "            4           26    1          3\n",
       "            5            7    0          0\n",
       "от 40 до 50 0         3340  247          7\n",
       "            1         1350  108          8\n",
       "            2          495   41          8\n",
       "            3           84    7          8\n",
       "            4            8    1         12\n",
       "            5            1    0          0\n",
       "от 50 до 60 0         3985  261          6\n",
       "            1          486   37          7\n",
       "            2           84    6          7\n",
       "            3           10    0          0\n",
       "            4            1    1        100\n",
       "            5            1    0          0\n",
       "от 60       0         2300  117          5\n",
       "            1          155    7          4\n",
       "            2           11    0          0\n",
       "            3            1    0          0"
      ]
     },
     "metadata": {},
     "output_type": "display_data"
    }
   ],
   "source": [
    "ageChild_debt['debtors, %'] = ageChild_debt['debt', 'sum'] * 100 / ageChild_debt['debt', 'count']\n",
    "ageChild_debt['debtors, %'] = ageChild_debt['debtors, %'].astype('int')\n",
    "display(ageChild_debt)"
   ]
  },
  {
   "cell_type": "markdown",
   "metadata": {},
   "source": [
    "##### 2.5.1.3. Выведем таблицу в которой сгруппируем семейный статус клиента разделенный по количеству детей с количеством таких клиентов и суммой клиентов, имевших задолжность по возврату кредитов, при помощи методов \"groupby\" и \"agg\"."
   ]
  },
  {
   "cell_type": "code",
   "execution_count": 103,
   "metadata": {},
   "outputs": [],
   "source": [
    "fam_statChild_debt = data_fin.groupby(['family_status', 'children']).agg(agg_func)"
   ]
  },
  {
   "cell_type": "markdown",
   "metadata": {},
   "source": [
    "Добавим столбец количества клиентов ,имевших задолжность по возврату кредита в срок, по каждой категории, в процентом соотношении от общего количества клиентов. Выведем результат"
   ]
  },
  {
   "cell_type": "code",
   "execution_count": 104,
   "metadata": {},
   "outputs": [
    {
     "data": {
      "text/html": [
       "<div>\n",
       "<style scoped>\n",
       "    .dataframe tbody tr th:only-of-type {\n",
       "        vertical-align: middle;\n",
       "    }\n",
       "\n",
       "    .dataframe tbody tr th {\n",
       "        vertical-align: top;\n",
       "    }\n",
       "\n",
       "    .dataframe thead tr th {\n",
       "        text-align: left;\n",
       "    }\n",
       "\n",
       "    .dataframe thead tr:last-of-type th {\n",
       "        text-align: right;\n",
       "    }\n",
       "</style>\n",
       "<table border=\"1\" class=\"dataframe\">\n",
       "  <thead>\n",
       "    <tr>\n",
       "      <th></th>\n",
       "      <th></th>\n",
       "      <th colspan=\"2\" halign=\"left\">debt</th>\n",
       "      <th>debtors, %</th>\n",
       "    </tr>\n",
       "    <tr>\n",
       "      <th></th>\n",
       "      <th></th>\n",
       "      <th>count</th>\n",
       "      <th>sum</th>\n",
       "      <th></th>\n",
       "    </tr>\n",
       "    <tr>\n",
       "      <th>family_status</th>\n",
       "      <th>children</th>\n",
       "      <th></th>\n",
       "      <th></th>\n",
       "      <th></th>\n",
       "    </tr>\n",
       "  </thead>\n",
       "  <tbody>\n",
       "    <tr>\n",
       "      <td rowspan=\"5\" valign=\"top\">Не женат / не замужем</td>\n",
       "      <td>0</td>\n",
       "      <td>2245</td>\n",
       "      <td>210</td>\n",
       "      <td>9</td>\n",
       "    </tr>\n",
       "    <tr>\n",
       "      <td>1</td>\n",
       "      <td>449</td>\n",
       "      <td>52</td>\n",
       "      <td>11</td>\n",
       "    </tr>\n",
       "    <tr>\n",
       "      <td>2</td>\n",
       "      <td>84</td>\n",
       "      <td>10</td>\n",
       "      <td>11</td>\n",
       "    </tr>\n",
       "    <tr>\n",
       "      <td>3</td>\n",
       "      <td>8</td>\n",
       "      <td>1</td>\n",
       "      <td>12</td>\n",
       "    </tr>\n",
       "    <tr>\n",
       "      <td>4</td>\n",
       "      <td>2</td>\n",
       "      <td>1</td>\n",
       "      <td>50</td>\n",
       "    </tr>\n",
       "    <tr>\n",
       "      <td rowspan=\"5\" valign=\"top\">в разводе</td>\n",
       "      <td>0</td>\n",
       "      <td>786</td>\n",
       "      <td>55</td>\n",
       "      <td>6</td>\n",
       "    </tr>\n",
       "    <tr>\n",
       "      <td>1</td>\n",
       "      <td>312</td>\n",
       "      <td>21</td>\n",
       "      <td>6</td>\n",
       "    </tr>\n",
       "    <tr>\n",
       "      <td>2</td>\n",
       "      <td>83</td>\n",
       "      <td>8</td>\n",
       "      <td>9</td>\n",
       "    </tr>\n",
       "    <tr>\n",
       "      <td>3</td>\n",
       "      <td>11</td>\n",
       "      <td>1</td>\n",
       "      <td>9</td>\n",
       "    </tr>\n",
       "    <tr>\n",
       "      <td>4</td>\n",
       "      <td>1</td>\n",
       "      <td>0</td>\n",
       "      <td>0</td>\n",
       "    </tr>\n",
       "    <tr>\n",
       "      <td rowspan=\"5\" valign=\"top\">вдовец / вдова</td>\n",
       "      <td>0</td>\n",
       "      <td>835</td>\n",
       "      <td>53</td>\n",
       "      <td>6</td>\n",
       "    </tr>\n",
       "    <tr>\n",
       "      <td>1</td>\n",
       "      <td>77</td>\n",
       "      <td>7</td>\n",
       "      <td>9</td>\n",
       "    </tr>\n",
       "    <tr>\n",
       "      <td>2</td>\n",
       "      <td>24</td>\n",
       "      <td>3</td>\n",
       "      <td>12</td>\n",
       "    </tr>\n",
       "    <tr>\n",
       "      <td>3</td>\n",
       "      <td>6</td>\n",
       "      <td>0</td>\n",
       "      <td>0</td>\n",
       "    </tr>\n",
       "    <tr>\n",
       "      <td>4</td>\n",
       "      <td>1</td>\n",
       "      <td>0</td>\n",
       "      <td>0</td>\n",
       "    </tr>\n",
       "    <tr>\n",
       "      <td rowspan=\"6\" valign=\"top\">гражданский брак</td>\n",
       "      <td>0</td>\n",
       "      <td>2714</td>\n",
       "      <td>229</td>\n",
       "      <td>8</td>\n",
       "    </tr>\n",
       "    <tr>\n",
       "      <td>1</td>\n",
       "      <td>991</td>\n",
       "      <td>118</td>\n",
       "      <td>11</td>\n",
       "    </tr>\n",
       "    <tr>\n",
       "      <td>2</td>\n",
       "      <td>354</td>\n",
       "      <td>33</td>\n",
       "      <td>9</td>\n",
       "    </tr>\n",
       "    <tr>\n",
       "      <td>3</td>\n",
       "      <td>56</td>\n",
       "      <td>8</td>\n",
       "      <td>14</td>\n",
       "    </tr>\n",
       "    <tr>\n",
       "      <td>4</td>\n",
       "      <td>8</td>\n",
       "      <td>0</td>\n",
       "      <td>0</td>\n",
       "    </tr>\n",
       "    <tr>\n",
       "      <td>5</td>\n",
       "      <td>2</td>\n",
       "      <td>0</td>\n",
       "      <td>0</td>\n",
       "    </tr>\n",
       "    <tr>\n",
       "      <td rowspan=\"6\" valign=\"top\">женат / замужем</td>\n",
       "      <td>0</td>\n",
       "      <td>7317</td>\n",
       "      <td>515</td>\n",
       "      <td>7</td>\n",
       "    </tr>\n",
       "    <tr>\n",
       "      <td>1</td>\n",
       "      <td>2933</td>\n",
       "      <td>246</td>\n",
       "      <td>8</td>\n",
       "    </tr>\n",
       "    <tr>\n",
       "      <td>2</td>\n",
       "      <td>1571</td>\n",
       "      <td>148</td>\n",
       "      <td>9</td>\n",
       "    </tr>\n",
       "    <tr>\n",
       "      <td>3</td>\n",
       "      <td>248</td>\n",
       "      <td>17</td>\n",
       "      <td>6</td>\n",
       "    </tr>\n",
       "    <tr>\n",
       "      <td>4</td>\n",
       "      <td>28</td>\n",
       "      <td>3</td>\n",
       "      <td>10</td>\n",
       "    </tr>\n",
       "    <tr>\n",
       "      <td>5</td>\n",
       "      <td>7</td>\n",
       "      <td>0</td>\n",
       "      <td>0</td>\n",
       "    </tr>\n",
       "  </tbody>\n",
       "</table>\n",
       "</div>"
      ],
      "text/plain": [
       "                                debt      debtors, %\n",
       "                               count  sum           \n",
       "family_status         children                      \n",
       "Не женат / не замужем 0         2245  210          9\n",
       "                      1          449   52         11\n",
       "                      2           84   10         11\n",
       "                      3            8    1         12\n",
       "                      4            2    1         50\n",
       "в разводе             0          786   55          6\n",
       "                      1          312   21          6\n",
       "                      2           83    8          9\n",
       "                      3           11    1          9\n",
       "                      4            1    0          0\n",
       "вдовец / вдова        0          835   53          6\n",
       "                      1           77    7          9\n",
       "                      2           24    3         12\n",
       "                      3            6    0          0\n",
       "                      4            1    0          0\n",
       "гражданский брак      0         2714  229          8\n",
       "                      1          991  118         11\n",
       "                      2          354   33          9\n",
       "                      3           56    8         14\n",
       "                      4            8    0          0\n",
       "                      5            2    0          0\n",
       "женат / замужем       0         7317  515          7\n",
       "                      1         2933  246          8\n",
       "                      2         1571  148          9\n",
       "                      3          248   17          6\n",
       "                      4           28    3         10\n",
       "                      5            7    0          0"
      ]
     },
     "metadata": {},
     "output_type": "display_data"
    }
   ],
   "source": [
    "fam_statChild_debt['debtors, %'] = fam_statChild_debt[\n",
    "    'debt', 'sum'] * 100 / fam_statChild_debt['debt', 'count']\n",
    "fam_statChild_debt['debtors, %'] = fam_statChild_debt['debtors, %'].astype('int')\n",
    "display(fam_statChild_debt)"
   ]
  },
  {
   "cell_type": "markdown",
   "metadata": {},
   "source": [
    "#### 2.5.2. Таблицы для ответа на вопрос №2\n",
    "<a id=\"2.5.2\"></a>"
   ]
  },
  {
   "cell_type": "markdown",
   "metadata": {},
   "source": [
    "##### 2.5.2.1. Выведем таблицу в которой сгруппируем клиентов по семейному положению с количеством таких клиентов и суммой клиентов, имевших задолжность по возврату кредитов, при помощи методов \"groupby\" и \"agg\"."
   ]
  },
  {
   "cell_type": "code",
   "execution_count": 105,
   "metadata": {},
   "outputs": [],
   "source": [
    "fam_stat_debt = data_fin.groupby('family_status').agg(agg_func)"
   ]
  },
  {
   "cell_type": "markdown",
   "metadata": {},
   "source": [
    "Добавим столбец количества клиентов ,имевших задолжность по возврату кредита в срок, по каждой категории, в процентом соотношении от общего количества клиентов. Выведем результат"
   ]
  },
  {
   "cell_type": "code",
   "execution_count": 106,
   "metadata": {},
   "outputs": [
    {
     "data": {
      "text/html": [
       "<div>\n",
       "<style scoped>\n",
       "    .dataframe tbody tr th:only-of-type {\n",
       "        vertical-align: middle;\n",
       "    }\n",
       "\n",
       "    .dataframe tbody tr th {\n",
       "        vertical-align: top;\n",
       "    }\n",
       "\n",
       "    .dataframe thead tr th {\n",
       "        text-align: left;\n",
       "    }\n",
       "\n",
       "    .dataframe thead tr:last-of-type th {\n",
       "        text-align: right;\n",
       "    }\n",
       "</style>\n",
       "<table border=\"1\" class=\"dataframe\">\n",
       "  <thead>\n",
       "    <tr>\n",
       "      <th></th>\n",
       "      <th colspan=\"2\" halign=\"left\">debt</th>\n",
       "      <th>debtors, %</th>\n",
       "    </tr>\n",
       "    <tr>\n",
       "      <th></th>\n",
       "      <th>count</th>\n",
       "      <th>sum</th>\n",
       "      <th></th>\n",
       "    </tr>\n",
       "    <tr>\n",
       "      <th>family_status</th>\n",
       "      <th></th>\n",
       "      <th></th>\n",
       "      <th></th>\n",
       "    </tr>\n",
       "  </thead>\n",
       "  <tbody>\n",
       "    <tr>\n",
       "      <td>вдовец / вдова</td>\n",
       "      <td>943</td>\n",
       "      <td>63</td>\n",
       "      <td>6</td>\n",
       "    </tr>\n",
       "    <tr>\n",
       "      <td>в разводе</td>\n",
       "      <td>1193</td>\n",
       "      <td>85</td>\n",
       "      <td>7</td>\n",
       "    </tr>\n",
       "    <tr>\n",
       "      <td>женат / замужем</td>\n",
       "      <td>12104</td>\n",
       "      <td>929</td>\n",
       "      <td>7</td>\n",
       "    </tr>\n",
       "    <tr>\n",
       "      <td>Не женат / не замужем</td>\n",
       "      <td>2788</td>\n",
       "      <td>274</td>\n",
       "      <td>9</td>\n",
       "    </tr>\n",
       "    <tr>\n",
       "      <td>гражданский брак</td>\n",
       "      <td>4125</td>\n",
       "      <td>388</td>\n",
       "      <td>9</td>\n",
       "    </tr>\n",
       "  </tbody>\n",
       "</table>\n",
       "</div>"
      ],
      "text/plain": [
       "                        debt      debtors, %\n",
       "                       count  sum           \n",
       "family_status                               \n",
       "вдовец / вдова           943   63          6\n",
       "в разводе               1193   85          7\n",
       "женат / замужем        12104  929          7\n",
       "Не женат / не замужем   2788  274          9\n",
       "гражданский брак        4125  388          9"
      ]
     },
     "metadata": {},
     "output_type": "display_data"
    }
   ],
   "source": [
    "fam_stat_debt['debtors, %'] = fam_stat_debt['debt', 'sum'] * 100 / fam_stat_debt['debt', 'count']\n",
    "fam_stat_debt['debtors, %'] = fam_stat_debt['debtors, %'].astype('int')\n",
    "display(fam_stat_debt.sort_values('debtors, %'))"
   ]
  },
  {
   "cell_type": "markdown",
   "metadata": {},
   "source": [
    "##### 2.5.2.2. Выведем таблицу в которой сгруппируем клиентов по семейному положению, разделенных на категории по возрасту, с количеством таких клиентов и суммой клиентов, имевших задолжность по возврату кредитов, при помощи методов \"groupby\" и \"agg\"."
   ]
  },
  {
   "cell_type": "code",
   "execution_count": 107,
   "metadata": {},
   "outputs": [],
   "source": [
    "fam_statAge_debt = data_fin.groupby(['family_status', 'age_level']).agg(agg_func)"
   ]
  },
  {
   "cell_type": "markdown",
   "metadata": {},
   "source": [
    "Добавим столбец количества клиентов, имевших задолжность по возврату кредита в срок, по каждой категории, в процентом соотношении от общего количества клиентов. Выведем результат"
   ]
  },
  {
   "cell_type": "code",
   "execution_count": 108,
   "metadata": {},
   "outputs": [
    {
     "data": {
      "text/html": [
       "<div>\n",
       "<style scoped>\n",
       "    .dataframe tbody tr th:only-of-type {\n",
       "        vertical-align: middle;\n",
       "    }\n",
       "\n",
       "    .dataframe tbody tr th {\n",
       "        vertical-align: top;\n",
       "    }\n",
       "\n",
       "    .dataframe thead tr th {\n",
       "        text-align: left;\n",
       "    }\n",
       "\n",
       "    .dataframe thead tr:last-of-type th {\n",
       "        text-align: right;\n",
       "    }\n",
       "</style>\n",
       "<table border=\"1\" class=\"dataframe\">\n",
       "  <thead>\n",
       "    <tr>\n",
       "      <th></th>\n",
       "      <th></th>\n",
       "      <th colspan=\"2\" halign=\"left\">debt</th>\n",
       "      <th>debtors, %</th>\n",
       "    </tr>\n",
       "    <tr>\n",
       "      <th></th>\n",
       "      <th></th>\n",
       "      <th>count</th>\n",
       "      <th>sum</th>\n",
       "      <th></th>\n",
       "    </tr>\n",
       "    <tr>\n",
       "      <th>family_status</th>\n",
       "      <th>age_level</th>\n",
       "      <th></th>\n",
       "      <th></th>\n",
       "      <th></th>\n",
       "    </tr>\n",
       "  </thead>\n",
       "  <tbody>\n",
       "    <tr>\n",
       "      <td rowspan=\"5\" valign=\"top\">Не женат / не замужем</td>\n",
       "      <td>до 30</td>\n",
       "      <td>909</td>\n",
       "      <td>103</td>\n",
       "      <td>11</td>\n",
       "    </tr>\n",
       "    <tr>\n",
       "      <td>от 30 до 40</td>\n",
       "      <td>710</td>\n",
       "      <td>85</td>\n",
       "      <td>11</td>\n",
       "    </tr>\n",
       "    <tr>\n",
       "      <td>от 40 до 50</td>\n",
       "      <td>519</td>\n",
       "      <td>46</td>\n",
       "      <td>8</td>\n",
       "    </tr>\n",
       "    <tr>\n",
       "      <td>от 50 до 60</td>\n",
       "      <td>411</td>\n",
       "      <td>31</td>\n",
       "      <td>7</td>\n",
       "    </tr>\n",
       "    <tr>\n",
       "      <td>от 60</td>\n",
       "      <td>239</td>\n",
       "      <td>9</td>\n",
       "      <td>3</td>\n",
       "    </tr>\n",
       "    <tr>\n",
       "      <td rowspan=\"5\" valign=\"top\">в разводе</td>\n",
       "      <td>до 30</td>\n",
       "      <td>96</td>\n",
       "      <td>14</td>\n",
       "      <td>14</td>\n",
       "    </tr>\n",
       "    <tr>\n",
       "      <td>от 30 до 40</td>\n",
       "      <td>267</td>\n",
       "      <td>20</td>\n",
       "      <td>7</td>\n",
       "    </tr>\n",
       "    <tr>\n",
       "      <td>от 40 до 50</td>\n",
       "      <td>372</td>\n",
       "      <td>21</td>\n",
       "      <td>5</td>\n",
       "    </tr>\n",
       "    <tr>\n",
       "      <td>от 50 до 60</td>\n",
       "      <td>301</td>\n",
       "      <td>19</td>\n",
       "      <td>6</td>\n",
       "    </tr>\n",
       "    <tr>\n",
       "      <td>от 60</td>\n",
       "      <td>157</td>\n",
       "      <td>11</td>\n",
       "      <td>7</td>\n",
       "    </tr>\n",
       "    <tr>\n",
       "      <td rowspan=\"5\" valign=\"top\">вдовец / вдова</td>\n",
       "      <td>до 30</td>\n",
       "      <td>2</td>\n",
       "      <td>0</td>\n",
       "      <td>0</td>\n",
       "    </tr>\n",
       "    <tr>\n",
       "      <td>от 30 до 40</td>\n",
       "      <td>41</td>\n",
       "      <td>3</td>\n",
       "      <td>7</td>\n",
       "    </tr>\n",
       "    <tr>\n",
       "      <td>от 40 до 50</td>\n",
       "      <td>133</td>\n",
       "      <td>11</td>\n",
       "      <td>8</td>\n",
       "    </tr>\n",
       "    <tr>\n",
       "      <td>от 50 до 60</td>\n",
       "      <td>370</td>\n",
       "      <td>21</td>\n",
       "      <td>5</td>\n",
       "    </tr>\n",
       "    <tr>\n",
       "      <td>от 60</td>\n",
       "      <td>397</td>\n",
       "      <td>28</td>\n",
       "      <td>7</td>\n",
       "    </tr>\n",
       "    <tr>\n",
       "      <td rowspan=\"5\" valign=\"top\">гражданский брак</td>\n",
       "      <td>до 30</td>\n",
       "      <td>682</td>\n",
       "      <td>70</td>\n",
       "      <td>10</td>\n",
       "    </tr>\n",
       "    <tr>\n",
       "      <td>от 30 до 40</td>\n",
       "      <td>1180</td>\n",
       "      <td>139</td>\n",
       "      <td>11</td>\n",
       "    </tr>\n",
       "    <tr>\n",
       "      <td>от 40 до 50</td>\n",
       "      <td>1080</td>\n",
       "      <td>95</td>\n",
       "      <td>8</td>\n",
       "    </tr>\n",
       "    <tr>\n",
       "      <td>от 50 до 60</td>\n",
       "      <td>792</td>\n",
       "      <td>66</td>\n",
       "      <td>8</td>\n",
       "    </tr>\n",
       "    <tr>\n",
       "      <td>от 60</td>\n",
       "      <td>391</td>\n",
       "      <td>18</td>\n",
       "      <td>4</td>\n",
       "    </tr>\n",
       "    <tr>\n",
       "      <td rowspan=\"5\" valign=\"top\">женат / замужем</td>\n",
       "      <td>до 30</td>\n",
       "      <td>1469</td>\n",
       "      <td>162</td>\n",
       "      <td>11</td>\n",
       "    </tr>\n",
       "    <tr>\n",
       "      <td>от 30 до 40</td>\n",
       "      <td>3485</td>\n",
       "      <td>310</td>\n",
       "      <td>8</td>\n",
       "    </tr>\n",
       "    <tr>\n",
       "      <td>от 40 до 50</td>\n",
       "      <td>3174</td>\n",
       "      <td>231</td>\n",
       "      <td>7</td>\n",
       "    </tr>\n",
       "    <tr>\n",
       "      <td>от 50 до 60</td>\n",
       "      <td>2693</td>\n",
       "      <td>168</td>\n",
       "      <td>6</td>\n",
       "    </tr>\n",
       "    <tr>\n",
       "      <td>от 60</td>\n",
       "      <td>1283</td>\n",
       "      <td>58</td>\n",
       "      <td>4</td>\n",
       "    </tr>\n",
       "  </tbody>\n",
       "</table>\n",
       "</div>"
      ],
      "text/plain": [
       "                                   debt      debtors, %\n",
       "                                  count  sum           \n",
       "family_status         age_level                        \n",
       "Не женат / не замужем до 30         909  103         11\n",
       "                      от 30 до 40   710   85         11\n",
       "                      от 40 до 50   519   46          8\n",
       "                      от 50 до 60   411   31          7\n",
       "                      от 60         239    9          3\n",
       "в разводе             до 30          96   14         14\n",
       "                      от 30 до 40   267   20          7\n",
       "                      от 40 до 50   372   21          5\n",
       "                      от 50 до 60   301   19          6\n",
       "                      от 60         157   11          7\n",
       "вдовец / вдова        до 30           2    0          0\n",
       "                      от 30 до 40    41    3          7\n",
       "                      от 40 до 50   133   11          8\n",
       "                      от 50 до 60   370   21          5\n",
       "                      от 60         397   28          7\n",
       "гражданский брак      до 30         682   70         10\n",
       "                      от 30 до 40  1180  139         11\n",
       "                      от 40 до 50  1080   95          8\n",
       "                      от 50 до 60   792   66          8\n",
       "                      от 60         391   18          4\n",
       "женат / замужем       до 30        1469  162         11\n",
       "                      от 30 до 40  3485  310          8\n",
       "                      от 40 до 50  3174  231          7\n",
       "                      от 50 до 60  2693  168          6\n",
       "                      от 60        1283   58          4"
      ]
     },
     "metadata": {},
     "output_type": "display_data"
    }
   ],
   "source": [
    "fam_statAge_debt['debtors, %'] = fam_statAge_debt[\n",
    "    'debt', 'sum'] * 100 / fam_statAge_debt['debt', 'count']\n",
    "fam_statAge_debt['debtors, %'] = fam_statAge_debt['debtors, %'].astype('int')\n",
    "display(fam_statAge_debt)"
   ]
  },
  {
   "cell_type": "markdown",
   "metadata": {},
   "source": [
    "##### 2.5.2.3 Выведем таблицу в которой сгруппируем клиентов по семейному положению, разделенных на категории полу, с количеством таких клиентов и суммой клиентов, имевших задолжность по возврату кредитов, при помощи методов \"groupby\" и \"agg\"."
   ]
  },
  {
   "cell_type": "code",
   "execution_count": 109,
   "metadata": {},
   "outputs": [],
   "source": [
    "fam_statGend_debt = data_fin.groupby(['family_status', 'gender']).agg(agg_func)"
   ]
  },
  {
   "cell_type": "markdown",
   "metadata": {},
   "source": [
    "Добавим столбец количества клиентов, имевших задолжность по возврату кредита в срок, по каждой категории, в процентом соотношении от общего количества клиентов. Выведем результат"
   ]
  },
  {
   "cell_type": "code",
   "execution_count": 110,
   "metadata": {},
   "outputs": [
    {
     "data": {
      "text/html": [
       "<div>\n",
       "<style scoped>\n",
       "    .dataframe tbody tr th:only-of-type {\n",
       "        vertical-align: middle;\n",
       "    }\n",
       "\n",
       "    .dataframe tbody tr th {\n",
       "        vertical-align: top;\n",
       "    }\n",
       "\n",
       "    .dataframe thead tr th {\n",
       "        text-align: left;\n",
       "    }\n",
       "\n",
       "    .dataframe thead tr:last-of-type th {\n",
       "        text-align: right;\n",
       "    }\n",
       "</style>\n",
       "<table border=\"1\" class=\"dataframe\">\n",
       "  <thead>\n",
       "    <tr>\n",
       "      <th></th>\n",
       "      <th></th>\n",
       "      <th colspan=\"2\" halign=\"left\">debt</th>\n",
       "      <th>debtors, %</th>\n",
       "    </tr>\n",
       "    <tr>\n",
       "      <th></th>\n",
       "      <th></th>\n",
       "      <th>count</th>\n",
       "      <th>sum</th>\n",
       "      <th></th>\n",
       "    </tr>\n",
       "    <tr>\n",
       "      <th>family_status</th>\n",
       "      <th>gender</th>\n",
       "      <th></th>\n",
       "      <th></th>\n",
       "      <th></th>\n",
       "    </tr>\n",
       "  </thead>\n",
       "  <tbody>\n",
       "    <tr>\n",
       "      <td rowspan=\"2\" valign=\"top\">Не женат / не замужем</td>\n",
       "      <td>F</td>\n",
       "      <td>1714</td>\n",
       "      <td>118</td>\n",
       "      <td>6</td>\n",
       "    </tr>\n",
       "    <tr>\n",
       "      <td>M</td>\n",
       "      <td>1074</td>\n",
       "      <td>156</td>\n",
       "      <td>14</td>\n",
       "    </tr>\n",
       "    <tr>\n",
       "      <td rowspan=\"2\" valign=\"top\">в разводе</td>\n",
       "      <td>F</td>\n",
       "      <td>934</td>\n",
       "      <td>61</td>\n",
       "      <td>6</td>\n",
       "    </tr>\n",
       "    <tr>\n",
       "      <td>M</td>\n",
       "      <td>259</td>\n",
       "      <td>24</td>\n",
       "      <td>9</td>\n",
       "    </tr>\n",
       "    <tr>\n",
       "      <td rowspan=\"2\" valign=\"top\">вдовец / вдова</td>\n",
       "      <td>F</td>\n",
       "      <td>888</td>\n",
       "      <td>52</td>\n",
       "      <td>5</td>\n",
       "    </tr>\n",
       "    <tr>\n",
       "      <td>M</td>\n",
       "      <td>55</td>\n",
       "      <td>11</td>\n",
       "      <td>20</td>\n",
       "    </tr>\n",
       "    <tr>\n",
       "      <td rowspan=\"2\" valign=\"top\">гражданский брак</td>\n",
       "      <td>F</td>\n",
       "      <td>2822</td>\n",
       "      <td>233</td>\n",
       "      <td>8</td>\n",
       "    </tr>\n",
       "    <tr>\n",
       "      <td>M</td>\n",
       "      <td>1303</td>\n",
       "      <td>155</td>\n",
       "      <td>11</td>\n",
       "    </tr>\n",
       "    <tr>\n",
       "      <td rowspan=\"2\" valign=\"top\">женат / замужем</td>\n",
       "      <td>F</td>\n",
       "      <td>7586</td>\n",
       "      <td>529</td>\n",
       "      <td>6</td>\n",
       "    </tr>\n",
       "    <tr>\n",
       "      <td>M</td>\n",
       "      <td>4518</td>\n",
       "      <td>400</td>\n",
       "      <td>8</td>\n",
       "    </tr>\n",
       "  </tbody>\n",
       "</table>\n",
       "</div>"
      ],
      "text/plain": [
       "                              debt      debtors, %\n",
       "                             count  sum           \n",
       "family_status         gender                      \n",
       "Не женат / не замужем F       1714  118          6\n",
       "                      M       1074  156         14\n",
       "в разводе             F        934   61          6\n",
       "                      M        259   24          9\n",
       "вдовец / вдова        F        888   52          5\n",
       "                      M         55   11         20\n",
       "гражданский брак      F       2822  233          8\n",
       "                      M       1303  155         11\n",
       "женат / замужем       F       7586  529          6\n",
       "                      M       4518  400          8"
      ]
     },
     "metadata": {},
     "output_type": "display_data"
    }
   ],
   "source": [
    "fam_statGend_debt['debtors, %'] = fam_statGend_debt[\n",
    "    'debt', 'sum'] * 100 / fam_statGend_debt['debt', 'count']\n",
    "fam_statGend_debt['debtors, %'] = fam_statGend_debt['debtors, %'].astype('int')\n",
    "display(fam_statGend_debt)"
   ]
  },
  {
   "cell_type": "markdown",
   "metadata": {},
   "source": [
    "##### 2.5.2.4 Выведем таблицу в которой сгруппируем клиентов по семейному положению, разделенных на категории по количеству детей, с количеством таких клиентов и суммой клиентов, имевших задолжность по возврату кредитов, при помощи методов \"groupby\" и \"agg\"."
   ]
  },
  {
   "cell_type": "code",
   "execution_count": 111,
   "metadata": {},
   "outputs": [],
   "source": [
    "fam_statChild_debt = data_fin.groupby(['family_status', 'children']).agg(agg_func)"
   ]
  },
  {
   "cell_type": "markdown",
   "metadata": {},
   "source": [
    "Добавим столбец количества клиентов, имевших задолжность по возврату кредита в срок, по каждой категории, в процентом соотношении от общего количества клиентов. Выведем результат"
   ]
  },
  {
   "cell_type": "code",
   "execution_count": 112,
   "metadata": {},
   "outputs": [
    {
     "data": {
      "text/html": [
       "<div>\n",
       "<style scoped>\n",
       "    .dataframe tbody tr th:only-of-type {\n",
       "        vertical-align: middle;\n",
       "    }\n",
       "\n",
       "    .dataframe tbody tr th {\n",
       "        vertical-align: top;\n",
       "    }\n",
       "\n",
       "    .dataframe thead tr th {\n",
       "        text-align: left;\n",
       "    }\n",
       "\n",
       "    .dataframe thead tr:last-of-type th {\n",
       "        text-align: right;\n",
       "    }\n",
       "</style>\n",
       "<table border=\"1\" class=\"dataframe\">\n",
       "  <thead>\n",
       "    <tr>\n",
       "      <th></th>\n",
       "      <th></th>\n",
       "      <th colspan=\"2\" halign=\"left\">debt</th>\n",
       "      <th>debtors, %</th>\n",
       "    </tr>\n",
       "    <tr>\n",
       "      <th></th>\n",
       "      <th></th>\n",
       "      <th>count</th>\n",
       "      <th>sum</th>\n",
       "      <th></th>\n",
       "    </tr>\n",
       "    <tr>\n",
       "      <th>family_status</th>\n",
       "      <th>children</th>\n",
       "      <th></th>\n",
       "      <th></th>\n",
       "      <th></th>\n",
       "    </tr>\n",
       "  </thead>\n",
       "  <tbody>\n",
       "    <tr>\n",
       "      <td rowspan=\"5\" valign=\"top\">Не женат / не замужем</td>\n",
       "      <td>0</td>\n",
       "      <td>2245</td>\n",
       "      <td>210</td>\n",
       "      <td>9</td>\n",
       "    </tr>\n",
       "    <tr>\n",
       "      <td>1</td>\n",
       "      <td>449</td>\n",
       "      <td>52</td>\n",
       "      <td>11</td>\n",
       "    </tr>\n",
       "    <tr>\n",
       "      <td>2</td>\n",
       "      <td>84</td>\n",
       "      <td>10</td>\n",
       "      <td>11</td>\n",
       "    </tr>\n",
       "    <tr>\n",
       "      <td>3</td>\n",
       "      <td>8</td>\n",
       "      <td>1</td>\n",
       "      <td>12</td>\n",
       "    </tr>\n",
       "    <tr>\n",
       "      <td>4</td>\n",
       "      <td>2</td>\n",
       "      <td>1</td>\n",
       "      <td>50</td>\n",
       "    </tr>\n",
       "    <tr>\n",
       "      <td rowspan=\"5\" valign=\"top\">в разводе</td>\n",
       "      <td>0</td>\n",
       "      <td>786</td>\n",
       "      <td>55</td>\n",
       "      <td>6</td>\n",
       "    </tr>\n",
       "    <tr>\n",
       "      <td>1</td>\n",
       "      <td>312</td>\n",
       "      <td>21</td>\n",
       "      <td>6</td>\n",
       "    </tr>\n",
       "    <tr>\n",
       "      <td>2</td>\n",
       "      <td>83</td>\n",
       "      <td>8</td>\n",
       "      <td>9</td>\n",
       "    </tr>\n",
       "    <tr>\n",
       "      <td>3</td>\n",
       "      <td>11</td>\n",
       "      <td>1</td>\n",
       "      <td>9</td>\n",
       "    </tr>\n",
       "    <tr>\n",
       "      <td>4</td>\n",
       "      <td>1</td>\n",
       "      <td>0</td>\n",
       "      <td>0</td>\n",
       "    </tr>\n",
       "    <tr>\n",
       "      <td rowspan=\"5\" valign=\"top\">вдовец / вдова</td>\n",
       "      <td>0</td>\n",
       "      <td>835</td>\n",
       "      <td>53</td>\n",
       "      <td>6</td>\n",
       "    </tr>\n",
       "    <tr>\n",
       "      <td>1</td>\n",
       "      <td>77</td>\n",
       "      <td>7</td>\n",
       "      <td>9</td>\n",
       "    </tr>\n",
       "    <tr>\n",
       "      <td>2</td>\n",
       "      <td>24</td>\n",
       "      <td>3</td>\n",
       "      <td>12</td>\n",
       "    </tr>\n",
       "    <tr>\n",
       "      <td>3</td>\n",
       "      <td>6</td>\n",
       "      <td>0</td>\n",
       "      <td>0</td>\n",
       "    </tr>\n",
       "    <tr>\n",
       "      <td>4</td>\n",
       "      <td>1</td>\n",
       "      <td>0</td>\n",
       "      <td>0</td>\n",
       "    </tr>\n",
       "    <tr>\n",
       "      <td rowspan=\"6\" valign=\"top\">гражданский брак</td>\n",
       "      <td>0</td>\n",
       "      <td>2714</td>\n",
       "      <td>229</td>\n",
       "      <td>8</td>\n",
       "    </tr>\n",
       "    <tr>\n",
       "      <td>1</td>\n",
       "      <td>991</td>\n",
       "      <td>118</td>\n",
       "      <td>11</td>\n",
       "    </tr>\n",
       "    <tr>\n",
       "      <td>2</td>\n",
       "      <td>354</td>\n",
       "      <td>33</td>\n",
       "      <td>9</td>\n",
       "    </tr>\n",
       "    <tr>\n",
       "      <td>3</td>\n",
       "      <td>56</td>\n",
       "      <td>8</td>\n",
       "      <td>14</td>\n",
       "    </tr>\n",
       "    <tr>\n",
       "      <td>4</td>\n",
       "      <td>8</td>\n",
       "      <td>0</td>\n",
       "      <td>0</td>\n",
       "    </tr>\n",
       "    <tr>\n",
       "      <td>5</td>\n",
       "      <td>2</td>\n",
       "      <td>0</td>\n",
       "      <td>0</td>\n",
       "    </tr>\n",
       "    <tr>\n",
       "      <td rowspan=\"6\" valign=\"top\">женат / замужем</td>\n",
       "      <td>0</td>\n",
       "      <td>7317</td>\n",
       "      <td>515</td>\n",
       "      <td>7</td>\n",
       "    </tr>\n",
       "    <tr>\n",
       "      <td>1</td>\n",
       "      <td>2933</td>\n",
       "      <td>246</td>\n",
       "      <td>8</td>\n",
       "    </tr>\n",
       "    <tr>\n",
       "      <td>2</td>\n",
       "      <td>1571</td>\n",
       "      <td>148</td>\n",
       "      <td>9</td>\n",
       "    </tr>\n",
       "    <tr>\n",
       "      <td>3</td>\n",
       "      <td>248</td>\n",
       "      <td>17</td>\n",
       "      <td>6</td>\n",
       "    </tr>\n",
       "    <tr>\n",
       "      <td>4</td>\n",
       "      <td>28</td>\n",
       "      <td>3</td>\n",
       "      <td>10</td>\n",
       "    </tr>\n",
       "    <tr>\n",
       "      <td>5</td>\n",
       "      <td>7</td>\n",
       "      <td>0</td>\n",
       "      <td>0</td>\n",
       "    </tr>\n",
       "  </tbody>\n",
       "</table>\n",
       "</div>"
      ],
      "text/plain": [
       "                                debt      debtors, %\n",
       "                               count  sum           \n",
       "family_status         children                      \n",
       "Не женат / не замужем 0         2245  210          9\n",
       "                      1          449   52         11\n",
       "                      2           84   10         11\n",
       "                      3            8    1         12\n",
       "                      4            2    1         50\n",
       "в разводе             0          786   55          6\n",
       "                      1          312   21          6\n",
       "                      2           83    8          9\n",
       "                      3           11    1          9\n",
       "                      4            1    0          0\n",
       "вдовец / вдова        0          835   53          6\n",
       "                      1           77    7          9\n",
       "                      2           24    3         12\n",
       "                      3            6    0          0\n",
       "                      4            1    0          0\n",
       "гражданский брак      0         2714  229          8\n",
       "                      1          991  118         11\n",
       "                      2          354   33          9\n",
       "                      3           56    8         14\n",
       "                      4            8    0          0\n",
       "                      5            2    0          0\n",
       "женат / замужем       0         7317  515          7\n",
       "                      1         2933  246          8\n",
       "                      2         1571  148          9\n",
       "                      3          248   17          6\n",
       "                      4           28    3         10\n",
       "                      5            7    0          0"
      ]
     },
     "metadata": {},
     "output_type": "display_data"
    }
   ],
   "source": [
    "fam_statChild_debt['debtors, %'] = fam_statChild_debt[\n",
    "    'debt', 'sum'] * 100 / fam_statChild_debt['debt', 'count']\n",
    "fam_statChild_debt['debtors, %'] = fam_statChild_debt['debtors, %'].astype('int')\n",
    "display(fam_statChild_debt)"
   ]
  },
  {
   "cell_type": "markdown",
   "metadata": {},
   "source": [
    "#### 2.5.3. Таблицы для ответа на вопрос №3\n",
    "<a id=\"2.5.3\"></a>"
   ]
  },
  {
   "cell_type": "markdown",
   "metadata": {},
   "source": [
    "##### 2.5.3.1 Выведем таблицу в которой сгруппируем клиентов по уровню дохода с количеством таких клиентов и суммой клиентов, имевших задолжность по возврату кредитов, при помощи методов \"groupby\" и \"agg\"."
   ]
  },
  {
   "cell_type": "code",
   "execution_count": 113,
   "metadata": {},
   "outputs": [],
   "source": [
    "income_debt = data_fin.groupby(['income_level']).agg(agg_func)"
   ]
  },
  {
   "cell_type": "markdown",
   "metadata": {},
   "source": [
    "Добавлим столбец количества клиентов, имевших задолжность по возврату кредита в срок, по каждой категории, в процентом соотношении от общего количества клиентов. Выведем результат"
   ]
  },
  {
   "cell_type": "code",
   "execution_count": 114,
   "metadata": {},
   "outputs": [
    {
     "data": {
      "text/html": [
       "<div>\n",
       "<style scoped>\n",
       "    .dataframe tbody tr th:only-of-type {\n",
       "        vertical-align: middle;\n",
       "    }\n",
       "\n",
       "    .dataframe tbody tr th {\n",
       "        vertical-align: top;\n",
       "    }\n",
       "\n",
       "    .dataframe thead tr th {\n",
       "        text-align: left;\n",
       "    }\n",
       "\n",
       "    .dataframe thead tr:last-of-type th {\n",
       "        text-align: right;\n",
       "    }\n",
       "</style>\n",
       "<table border=\"1\" class=\"dataframe\">\n",
       "  <thead>\n",
       "    <tr>\n",
       "      <th></th>\n",
       "      <th colspan=\"2\" halign=\"left\">debt</th>\n",
       "      <th>debtors, %</th>\n",
       "    </tr>\n",
       "    <tr>\n",
       "      <th></th>\n",
       "      <th>count</th>\n",
       "      <th>sum</th>\n",
       "      <th></th>\n",
       "    </tr>\n",
       "    <tr>\n",
       "      <th>income_level</th>\n",
       "      <th></th>\n",
       "      <th></th>\n",
       "      <th></th>\n",
       "    </tr>\n",
       "  </thead>\n",
       "  <tbody>\n",
       "    <tr>\n",
       "      <td>выше бедности</td>\n",
       "      <td>75</td>\n",
       "      <td>4</td>\n",
       "      <td>5</td>\n",
       "    </tr>\n",
       "    <tr>\n",
       "      <td>верхний средний класс</td>\n",
       "      <td>2592</td>\n",
       "      <td>180</td>\n",
       "      <td>6</td>\n",
       "    </tr>\n",
       "    <tr>\n",
       "      <td>состоятельные</td>\n",
       "      <td>197</td>\n",
       "      <td>12</td>\n",
       "      <td>6</td>\n",
       "    </tr>\n",
       "    <tr>\n",
       "      <td>нижний средний класс</td>\n",
       "      <td>4406</td>\n",
       "      <td>352</td>\n",
       "      <td>7</td>\n",
       "    </tr>\n",
       "    <tr>\n",
       "      <td>богатые</td>\n",
       "      <td>25</td>\n",
       "      <td>2</td>\n",
       "      <td>8</td>\n",
       "    </tr>\n",
       "    <tr>\n",
       "      <td>предсредний класс</td>\n",
       "      <td>6697</td>\n",
       "      <td>582</td>\n",
       "      <td>8</td>\n",
       "    </tr>\n",
       "    <tr>\n",
       "      <td>средний класс</td>\n",
       "      <td>7161</td>\n",
       "      <td>607</td>\n",
       "      <td>8</td>\n",
       "    </tr>\n",
       "  </tbody>\n",
       "</table>\n",
       "</div>"
      ],
      "text/plain": [
       "                       debt      debtors, %\n",
       "                      count  sum           \n",
       "income_level                               \n",
       "выше бедности            75    4          5\n",
       "верхний средний класс  2592  180          6\n",
       "состоятельные           197   12          6\n",
       "нижний средний класс   4406  352          7\n",
       "богатые                  25    2          8\n",
       "предсредний класс      6697  582          8\n",
       "средний класс          7161  607          8"
      ]
     },
     "metadata": {},
     "output_type": "display_data"
    }
   ],
   "source": [
    "income_debt['debtors, %'] = income_debt['debt', 'sum'] * 100 / income_debt['debt', 'count']\n",
    "income_debt['debtors, %'] = income_debt['debtors, %'].astype('int')\n",
    "display(income_debt.sort_values('debtors, %'))"
   ]
  },
  {
   "cell_type": "markdown",
   "metadata": {},
   "source": [
    "##### 2.5.3.2 Выведем таблицу в которой сгруппируем клиентов по уровню дохода и типом занятости с количеством таких клиентов и суммой клиентов, имевших задолжность по возврату кредитов, при помощи методов \"groupby\" и \"agg\"."
   ]
  },
  {
   "cell_type": "code",
   "execution_count": 115,
   "metadata": {},
   "outputs": [],
   "source": [
    "incomeType_debt = data_fin.groupby(['income_level', 'income_type']).agg(agg_func)"
   ]
  },
  {
   "cell_type": "markdown",
   "metadata": {},
   "source": [
    "Добавим столбец количества клиентов, имевших задолжность по возврату кредита в срок, по каждой категории, в процентом соотношении от общего количества клиентов. Выведем результат"
   ]
  },
  {
   "cell_type": "code",
   "execution_count": 116,
   "metadata": {},
   "outputs": [
    {
     "data": {
      "text/html": [
       "<div>\n",
       "<style scoped>\n",
       "    .dataframe tbody tr th:only-of-type {\n",
       "        vertical-align: middle;\n",
       "    }\n",
       "\n",
       "    .dataframe tbody tr th {\n",
       "        vertical-align: top;\n",
       "    }\n",
       "\n",
       "    .dataframe thead tr th {\n",
       "        text-align: left;\n",
       "    }\n",
       "\n",
       "    .dataframe thead tr:last-of-type th {\n",
       "        text-align: right;\n",
       "    }\n",
       "</style>\n",
       "<table border=\"1\" class=\"dataframe\">\n",
       "  <thead>\n",
       "    <tr>\n",
       "      <th></th>\n",
       "      <th></th>\n",
       "      <th colspan=\"2\" halign=\"left\">debt</th>\n",
       "      <th>debtors, %</th>\n",
       "    </tr>\n",
       "    <tr>\n",
       "      <th></th>\n",
       "      <th></th>\n",
       "      <th>count</th>\n",
       "      <th>sum</th>\n",
       "      <th></th>\n",
       "    </tr>\n",
       "    <tr>\n",
       "      <th>income_level</th>\n",
       "      <th>income_type</th>\n",
       "      <th></th>\n",
       "      <th></th>\n",
       "      <th></th>\n",
       "    </tr>\n",
       "  </thead>\n",
       "  <tbody>\n",
       "    <tr>\n",
       "      <td rowspan=\"2\" valign=\"top\">богатые</td>\n",
       "      <td>компаньон</td>\n",
       "      <td>15</td>\n",
       "      <td>2</td>\n",
       "      <td>13</td>\n",
       "    </tr>\n",
       "    <tr>\n",
       "      <td>сотрудник</td>\n",
       "      <td>10</td>\n",
       "      <td>0</td>\n",
       "      <td>0</td>\n",
       "    </tr>\n",
       "    <tr>\n",
       "      <td rowspan=\"5\" valign=\"top\">верхний средний класс</td>\n",
       "      <td>госслужащий</td>\n",
       "      <td>194</td>\n",
       "      <td>9</td>\n",
       "      <td>4</td>\n",
       "    </tr>\n",
       "    <tr>\n",
       "      <td>компаньон</td>\n",
       "      <td>974</td>\n",
       "      <td>59</td>\n",
       "      <td>6</td>\n",
       "    </tr>\n",
       "    <tr>\n",
       "      <td>пенсионер</td>\n",
       "      <td>263</td>\n",
       "      <td>15</td>\n",
       "      <td>5</td>\n",
       "    </tr>\n",
       "    <tr>\n",
       "      <td>предприниматель</td>\n",
       "      <td>2</td>\n",
       "      <td>0</td>\n",
       "      <td>0</td>\n",
       "    </tr>\n",
       "    <tr>\n",
       "      <td>сотрудник</td>\n",
       "      <td>1159</td>\n",
       "      <td>97</td>\n",
       "      <td>8</td>\n",
       "    </tr>\n",
       "    <tr>\n",
       "      <td rowspan=\"4\" valign=\"top\">выше бедности</td>\n",
       "      <td>госслужащий</td>\n",
       "      <td>3</td>\n",
       "      <td>0</td>\n",
       "      <td>0</td>\n",
       "    </tr>\n",
       "    <tr>\n",
       "      <td>компаньон</td>\n",
       "      <td>5</td>\n",
       "      <td>0</td>\n",
       "      <td>0</td>\n",
       "    </tr>\n",
       "    <tr>\n",
       "      <td>пенсионер</td>\n",
       "      <td>41</td>\n",
       "      <td>2</td>\n",
       "      <td>4</td>\n",
       "    </tr>\n",
       "    <tr>\n",
       "      <td>сотрудник</td>\n",
       "      <td>26</td>\n",
       "      <td>2</td>\n",
       "      <td>7</td>\n",
       "    </tr>\n",
       "    <tr>\n",
       "      <td rowspan=\"7\" valign=\"top\">нижний средний класс</td>\n",
       "      <td>безработный</td>\n",
       "      <td>1</td>\n",
       "      <td>1</td>\n",
       "      <td>100</td>\n",
       "    </tr>\n",
       "    <tr>\n",
       "      <td>в декрете</td>\n",
       "      <td>1</td>\n",
       "      <td>1</td>\n",
       "      <td>100</td>\n",
       "    </tr>\n",
       "    <tr>\n",
       "      <td>госслужащий</td>\n",
       "      <td>293</td>\n",
       "      <td>22</td>\n",
       "      <td>7</td>\n",
       "    </tr>\n",
       "    <tr>\n",
       "      <td>компаньон</td>\n",
       "      <td>577</td>\n",
       "      <td>47</td>\n",
       "      <td>8</td>\n",
       "    </tr>\n",
       "    <tr>\n",
       "      <td>пенсионер</td>\n",
       "      <td>1253</td>\n",
       "      <td>60</td>\n",
       "      <td>4</td>\n",
       "    </tr>\n",
       "    <tr>\n",
       "      <td>сотрудник</td>\n",
       "      <td>2280</td>\n",
       "      <td>221</td>\n",
       "      <td>9</td>\n",
       "    </tr>\n",
       "    <tr>\n",
       "      <td>студент</td>\n",
       "      <td>1</td>\n",
       "      <td>0</td>\n",
       "      <td>0</td>\n",
       "    </tr>\n",
       "    <tr>\n",
       "      <td rowspan=\"4\" valign=\"top\">предсредний класс</td>\n",
       "      <td>госслужащий</td>\n",
       "      <td>440</td>\n",
       "      <td>26</td>\n",
       "      <td>5</td>\n",
       "    </tr>\n",
       "    <tr>\n",
       "      <td>компаньон</td>\n",
       "      <td>1227</td>\n",
       "      <td>96</td>\n",
       "      <td>7</td>\n",
       "    </tr>\n",
       "    <tr>\n",
       "      <td>пенсионер</td>\n",
       "      <td>1292</td>\n",
       "      <td>85</td>\n",
       "      <td>6</td>\n",
       "    </tr>\n",
       "    <tr>\n",
       "      <td>сотрудник</td>\n",
       "      <td>3738</td>\n",
       "      <td>375</td>\n",
       "      <td>10</td>\n",
       "    </tr>\n",
       "    <tr>\n",
       "      <td rowspan=\"4\" valign=\"top\">состоятельные</td>\n",
       "      <td>госслужащий</td>\n",
       "      <td>14</td>\n",
       "      <td>0</td>\n",
       "      <td>0</td>\n",
       "    </tr>\n",
       "    <tr>\n",
       "      <td>компаньон</td>\n",
       "      <td>101</td>\n",
       "      <td>6</td>\n",
       "      <td>5</td>\n",
       "    </tr>\n",
       "    <tr>\n",
       "      <td>пенсионер</td>\n",
       "      <td>19</td>\n",
       "      <td>0</td>\n",
       "      <td>0</td>\n",
       "    </tr>\n",
       "    <tr>\n",
       "      <td>сотрудник</td>\n",
       "      <td>63</td>\n",
       "      <td>6</td>\n",
       "      <td>9</td>\n",
       "    </tr>\n",
       "    <tr>\n",
       "      <td rowspan=\"5\" valign=\"top\">средний класс</td>\n",
       "      <td>безработный</td>\n",
       "      <td>1</td>\n",
       "      <td>0</td>\n",
       "      <td>0</td>\n",
       "    </tr>\n",
       "    <tr>\n",
       "      <td>госслужащий</td>\n",
       "      <td>506</td>\n",
       "      <td>29</td>\n",
       "      <td>5</td>\n",
       "    </tr>\n",
       "    <tr>\n",
       "      <td>компаньон</td>\n",
       "      <td>2138</td>\n",
       "      <td>166</td>\n",
       "      <td>7</td>\n",
       "    </tr>\n",
       "    <tr>\n",
       "      <td>пенсионер</td>\n",
       "      <td>870</td>\n",
       "      <td>54</td>\n",
       "      <td>6</td>\n",
       "    </tr>\n",
       "    <tr>\n",
       "      <td>сотрудник</td>\n",
       "      <td>3646</td>\n",
       "      <td>358</td>\n",
       "      <td>9</td>\n",
       "    </tr>\n",
       "  </tbody>\n",
       "</table>\n",
       "</div>"
      ],
      "text/plain": [
       "                                       debt      debtors, %\n",
       "                                      count  sum           \n",
       "income_level          income_type                          \n",
       "богатые               компаньон          15    2         13\n",
       "                      сотрудник          10    0          0\n",
       "верхний средний класс госслужащий       194    9          4\n",
       "                      компаньон         974   59          6\n",
       "                      пенсионер         263   15          5\n",
       "                      предприниматель     2    0          0\n",
       "                      сотрудник        1159   97          8\n",
       "выше бедности         госслужащий         3    0          0\n",
       "                      компаньон           5    0          0\n",
       "                      пенсионер          41    2          4\n",
       "                      сотрудник          26    2          7\n",
       "нижний средний класс  безработный         1    1        100\n",
       "                      в декрете           1    1        100\n",
       "                      госслужащий       293   22          7\n",
       "                      компаньон         577   47          8\n",
       "                      пенсионер        1253   60          4\n",
       "                      сотрудник        2280  221          9\n",
       "                      студент             1    0          0\n",
       "предсредний класс     госслужащий       440   26          5\n",
       "                      компаньон        1227   96          7\n",
       "                      пенсионер        1292   85          6\n",
       "                      сотрудник        3738  375         10\n",
       "состоятельные         госслужащий        14    0          0\n",
       "                      компаньон         101    6          5\n",
       "                      пенсионер          19    0          0\n",
       "                      сотрудник          63    6          9\n",
       "средний класс         безработный         1    0          0\n",
       "                      госслужащий       506   29          5\n",
       "                      компаньон        2138  166          7\n",
       "                      пенсионер         870   54          6\n",
       "                      сотрудник        3646  358          9"
      ]
     },
     "metadata": {},
     "output_type": "display_data"
    }
   ],
   "source": [
    "incomeType_debt['debtors, %'] = incomeType_debt[\n",
    "    'debt', 'sum'] * 100 / incomeType_debt['debt', 'count']\n",
    "incomeType_debt['debtors, %'] = incomeType_debt['debtors, %'].astype('int')\n",
    "display(incomeType_debt)"
   ]
  },
  {
   "cell_type": "markdown",
   "metadata": {},
   "source": [
    "#### 2.5.4. Таблицы для ответа на вопрос №4\n",
    "<a id=\"2.5.4\"></a>"
   ]
  },
  {
   "cell_type": "markdown",
   "metadata": {},
   "source": [
    "##### 2.5.4.1 Выведем таблицу в которой сгруппируем клиентов по цели получения кредита с количеством таких клиентов и суммой клиентов, имевших задолжность по возврату кредитов, при помощи методов \"groupby\" и \"agg\"."
   ]
  },
  {
   "cell_type": "code",
   "execution_count": 117,
   "metadata": {},
   "outputs": [],
   "source": [
    "purpose_debt = data_fin.groupby(['purpose']).agg(agg_func)"
   ]
  },
  {
   "cell_type": "markdown",
   "metadata": {},
   "source": [
    "Добавим столбец количества клиентов, имевших задолжность по возврату кредита в срок, по каждой категории, в процентом соотношении от общего количества клиентов. Выведем результат"
   ]
  },
  {
   "cell_type": "code",
   "execution_count": 118,
   "metadata": {},
   "outputs": [
    {
     "data": {
      "text/html": [
       "<div>\n",
       "<style scoped>\n",
       "    .dataframe tbody tr th:only-of-type {\n",
       "        vertical-align: middle;\n",
       "    }\n",
       "\n",
       "    .dataframe tbody tr th {\n",
       "        vertical-align: top;\n",
       "    }\n",
       "\n",
       "    .dataframe thead tr th {\n",
       "        text-align: left;\n",
       "    }\n",
       "\n",
       "    .dataframe thead tr:last-of-type th {\n",
       "        text-align: right;\n",
       "    }\n",
       "</style>\n",
       "<table border=\"1\" class=\"dataframe\">\n",
       "  <thead>\n",
       "    <tr>\n",
       "      <th></th>\n",
       "      <th colspan=\"2\" halign=\"left\">debt</th>\n",
       "      <th>debtors, %</th>\n",
       "    </tr>\n",
       "    <tr>\n",
       "      <th></th>\n",
       "      <th>count</th>\n",
       "      <th>sum</th>\n",
       "      <th></th>\n",
       "    </tr>\n",
       "    <tr>\n",
       "      <th>purpose</th>\n",
       "      <th></th>\n",
       "      <th></th>\n",
       "      <th></th>\n",
       "    </tr>\n",
       "  </thead>\n",
       "  <tbody>\n",
       "    <tr>\n",
       "      <td>жилая недвижимость</td>\n",
       "      <td>9301</td>\n",
       "      <td>682</td>\n",
       "      <td>7</td>\n",
       "    </tr>\n",
       "    <tr>\n",
       "      <td>коммерческая недвижимость</td>\n",
       "      <td>1311</td>\n",
       "      <td>99</td>\n",
       "      <td>7</td>\n",
       "    </tr>\n",
       "    <tr>\n",
       "      <td>свадьба</td>\n",
       "      <td>2306</td>\n",
       "      <td>186</td>\n",
       "      <td>8</td>\n",
       "    </tr>\n",
       "    <tr>\n",
       "      <td>автомобиль</td>\n",
       "      <td>4271</td>\n",
       "      <td>402</td>\n",
       "      <td>9</td>\n",
       "    </tr>\n",
       "    <tr>\n",
       "      <td>образование</td>\n",
       "      <td>3964</td>\n",
       "      <td>370</td>\n",
       "      <td>9</td>\n",
       "    </tr>\n",
       "  </tbody>\n",
       "</table>\n",
       "</div>"
      ],
      "text/plain": [
       "                           debt      debtors, %\n",
       "                          count  sum           \n",
       "purpose                                        \n",
       "жилая недвижимость         9301  682          7\n",
       "коммерческая недвижимость  1311   99          7\n",
       "свадьба                    2306  186          8\n",
       "автомобиль                 4271  402          9\n",
       "образование                3964  370          9"
      ]
     },
     "metadata": {},
     "output_type": "display_data"
    }
   ],
   "source": [
    "purpose_debt['debtors, %'] = purpose_debt['debt', 'sum'] * 100 / purpose_debt['debt', 'count']\n",
    "purpose_debt['debtors, %'] = purpose_debt['debtors, %'].astype('int')\n",
    "display(purpose_debt.sort_values('debtors, %'))"
   ]
  },
  {
   "cell_type": "markdown",
   "metadata": {},
   "source": [
    "##### 2.5.4.2 Выведем таблицу в которой сгруппируем клиентов по цели получения кредита, разделенных по возрастным категориям, с количеством таких клиентов и суммой клиентов, имевших задолжность по возврату кредитов, при помощи методов \"groupby\" и \"agg\"."
   ]
  },
  {
   "cell_type": "code",
   "execution_count": 119,
   "metadata": {},
   "outputs": [],
   "source": [
    "purposeAge_debt = data_fin.groupby(['purpose', 'age_level']).agg(agg_func)"
   ]
  },
  {
   "cell_type": "markdown",
   "metadata": {},
   "source": [
    "Добавим столбец количества клиентов, имевших задолжность по возврату кредита в срок, по каждой категории, в процентом соотношении от общего количества клиентов. Выведем результат"
   ]
  },
  {
   "cell_type": "code",
   "execution_count": 120,
   "metadata": {},
   "outputs": [
    {
     "data": {
      "text/html": [
       "<div>\n",
       "<style scoped>\n",
       "    .dataframe tbody tr th:only-of-type {\n",
       "        vertical-align: middle;\n",
       "    }\n",
       "\n",
       "    .dataframe tbody tr th {\n",
       "        vertical-align: top;\n",
       "    }\n",
       "\n",
       "    .dataframe thead tr th {\n",
       "        text-align: left;\n",
       "    }\n",
       "\n",
       "    .dataframe thead tr:last-of-type th {\n",
       "        text-align: right;\n",
       "    }\n",
       "</style>\n",
       "<table border=\"1\" class=\"dataframe\">\n",
       "  <thead>\n",
       "    <tr>\n",
       "      <th></th>\n",
       "      <th></th>\n",
       "      <th colspan=\"2\" halign=\"left\">debt</th>\n",
       "      <th>debtors, %</th>\n",
       "    </tr>\n",
       "    <tr>\n",
       "      <th></th>\n",
       "      <th></th>\n",
       "      <th>count</th>\n",
       "      <th>sum</th>\n",
       "      <th></th>\n",
       "    </tr>\n",
       "    <tr>\n",
       "      <th>purpose</th>\n",
       "      <th>age_level</th>\n",
       "      <th></th>\n",
       "      <th></th>\n",
       "      <th></th>\n",
       "    </tr>\n",
       "  </thead>\n",
       "  <tbody>\n",
       "    <tr>\n",
       "      <td rowspan=\"5\" valign=\"top\">автомобиль</td>\n",
       "      <td>до 30</td>\n",
       "      <td>595</td>\n",
       "      <td>76</td>\n",
       "      <td>12</td>\n",
       "    </tr>\n",
       "    <tr>\n",
       "      <td>от 30 до 40</td>\n",
       "      <td>1151</td>\n",
       "      <td>137</td>\n",
       "      <td>11</td>\n",
       "    </tr>\n",
       "    <tr>\n",
       "      <td>от 40 до 50</td>\n",
       "      <td>1079</td>\n",
       "      <td>91</td>\n",
       "      <td>8</td>\n",
       "    </tr>\n",
       "    <tr>\n",
       "      <td>от 50 до 60</td>\n",
       "      <td>923</td>\n",
       "      <td>65</td>\n",
       "      <td>7</td>\n",
       "    </tr>\n",
       "    <tr>\n",
       "      <td>от 60</td>\n",
       "      <td>523</td>\n",
       "      <td>33</td>\n",
       "      <td>6</td>\n",
       "    </tr>\n",
       "    <tr>\n",
       "      <td rowspan=\"5\" valign=\"top\">жилая недвижимость</td>\n",
       "      <td>до 30</td>\n",
       "      <td>1419</td>\n",
       "      <td>144</td>\n",
       "      <td>10</td>\n",
       "    </tr>\n",
       "    <tr>\n",
       "      <td>от 30 до 40</td>\n",
       "      <td>2504</td>\n",
       "      <td>214</td>\n",
       "      <td>8</td>\n",
       "    </tr>\n",
       "    <tr>\n",
       "      <td>от 40 до 50</td>\n",
       "      <td>2335</td>\n",
       "      <td>158</td>\n",
       "      <td>6</td>\n",
       "    </tr>\n",
       "    <tr>\n",
       "      <td>от 50 до 60</td>\n",
       "      <td>1999</td>\n",
       "      <td>121</td>\n",
       "      <td>6</td>\n",
       "    </tr>\n",
       "    <tr>\n",
       "      <td>от 60</td>\n",
       "      <td>1044</td>\n",
       "      <td>45</td>\n",
       "      <td>4</td>\n",
       "    </tr>\n",
       "    <tr>\n",
       "      <td rowspan=\"5\" valign=\"top\">коммерческая недвижимость</td>\n",
       "      <td>до 30</td>\n",
       "      <td>202</td>\n",
       "      <td>19</td>\n",
       "      <td>9</td>\n",
       "    </tr>\n",
       "    <tr>\n",
       "      <td>от 30 до 40</td>\n",
       "      <td>344</td>\n",
       "      <td>27</td>\n",
       "      <td>7</td>\n",
       "    </tr>\n",
       "    <tr>\n",
       "      <td>от 40 до 50</td>\n",
       "      <td>325</td>\n",
       "      <td>30</td>\n",
       "      <td>9</td>\n",
       "    </tr>\n",
       "    <tr>\n",
       "      <td>от 50 до 60</td>\n",
       "      <td>278</td>\n",
       "      <td>17</td>\n",
       "      <td>6</td>\n",
       "    </tr>\n",
       "    <tr>\n",
       "      <td>от 60</td>\n",
       "      <td>162</td>\n",
       "      <td>6</td>\n",
       "      <td>3</td>\n",
       "    </tr>\n",
       "    <tr>\n",
       "      <td rowspan=\"5\" valign=\"top\">образование</td>\n",
       "      <td>до 30</td>\n",
       "      <td>600</td>\n",
       "      <td>78</td>\n",
       "      <td>13</td>\n",
       "    </tr>\n",
       "    <tr>\n",
       "      <td>от 30 до 40</td>\n",
       "      <td>1051</td>\n",
       "      <td>117</td>\n",
       "      <td>11</td>\n",
       "    </tr>\n",
       "    <tr>\n",
       "      <td>от 40 до 50</td>\n",
       "      <td>961</td>\n",
       "      <td>81</td>\n",
       "      <td>8</td>\n",
       "    </tr>\n",
       "    <tr>\n",
       "      <td>от 50 до 60</td>\n",
       "      <td>878</td>\n",
       "      <td>66</td>\n",
       "      <td>7</td>\n",
       "    </tr>\n",
       "    <tr>\n",
       "      <td>от 60</td>\n",
       "      <td>474</td>\n",
       "      <td>28</td>\n",
       "      <td>5</td>\n",
       "    </tr>\n",
       "    <tr>\n",
       "      <td rowspan=\"5\" valign=\"top\">свадьба</td>\n",
       "      <td>до 30</td>\n",
       "      <td>342</td>\n",
       "      <td>32</td>\n",
       "      <td>9</td>\n",
       "    </tr>\n",
       "    <tr>\n",
       "      <td>от 30 до 40</td>\n",
       "      <td>633</td>\n",
       "      <td>62</td>\n",
       "      <td>9</td>\n",
       "    </tr>\n",
       "    <tr>\n",
       "      <td>от 40 до 50</td>\n",
       "      <td>578</td>\n",
       "      <td>44</td>\n",
       "      <td>7</td>\n",
       "    </tr>\n",
       "    <tr>\n",
       "      <td>от 50 до 60</td>\n",
       "      <td>489</td>\n",
       "      <td>36</td>\n",
       "      <td>7</td>\n",
       "    </tr>\n",
       "    <tr>\n",
       "      <td>от 60</td>\n",
       "      <td>264</td>\n",
       "      <td>12</td>\n",
       "      <td>4</td>\n",
       "    </tr>\n",
       "  </tbody>\n",
       "</table>\n",
       "</div>"
      ],
      "text/plain": [
       "                                       debt      debtors, %\n",
       "                                      count  sum           \n",
       "purpose                   age_level                        \n",
       "автомобиль                до 30         595   76         12\n",
       "                          от 30 до 40  1151  137         11\n",
       "                          от 40 до 50  1079   91          8\n",
       "                          от 50 до 60   923   65          7\n",
       "                          от 60         523   33          6\n",
       "жилая недвижимость        до 30        1419  144         10\n",
       "                          от 30 до 40  2504  214          8\n",
       "                          от 40 до 50  2335  158          6\n",
       "                          от 50 до 60  1999  121          6\n",
       "                          от 60        1044   45          4\n",
       "коммерческая недвижимость до 30         202   19          9\n",
       "                          от 30 до 40   344   27          7\n",
       "                          от 40 до 50   325   30          9\n",
       "                          от 50 до 60   278   17          6\n",
       "                          от 60         162    6          3\n",
       "образование               до 30         600   78         13\n",
       "                          от 30 до 40  1051  117         11\n",
       "                          от 40 до 50   961   81          8\n",
       "                          от 50 до 60   878   66          7\n",
       "                          от 60         474   28          5\n",
       "свадьба                   до 30         342   32          9\n",
       "                          от 30 до 40   633   62          9\n",
       "                          от 40 до 50   578   44          7\n",
       "                          от 50 до 60   489   36          7\n",
       "                          от 60         264   12          4"
      ]
     },
     "metadata": {},
     "output_type": "display_data"
    }
   ],
   "source": [
    "purposeAge_debt['debtors, %'] = purposeAge_debt[\n",
    "    'debt', 'sum'] * 100 / purposeAge_debt['debt', 'count']\n",
    "purposeAge_debt['debtors, %'] = purposeAge_debt['debtors, %'].astype('int')\n",
    "display(purposeAge_debt)"
   ]
  },
  {
   "cell_type": "markdown",
   "metadata": {},
   "source": [
    "#### 2.5.5. Вывод\n",
    "<a id=\"2.5.5\"></a>"
   ]
  },
  {
   "cell_type": "markdown",
   "metadata": {},
   "source": [
    "В данном разделе мы разделили клиентов на разные возрастные группы и на разные категории в зависимости от уровня дохода. После этого подготовили необходимые таблицы для раздела №3."
   ]
  },
  {
   "cell_type": "markdown",
   "metadata": {},
   "source": [
    "## 3. Влияние различных факторов на факт погашения кредита в срок\n",
    "<a id=\"3\"></a>"
   ]
  },
  {
   "cell_type": "markdown",
   "metadata": {},
   "source": [
    "### 3.1. Есть ли зависимость между наличием детей и возвратом кредита в срок?\n",
    "<a id=\"3.1\"></a>"
   ]
  },
  {
   "cell_type": "markdown",
   "metadata": {},
   "source": [
    "Для формирования вывода повторно выведем необходимые таблицы, но с использованием метода pivot_table"
   ]
  },
  {
   "cell_type": "markdown",
   "metadata": {},
   "source": [
    "                                        Таблица 1"
   ]
  },
  {
   "cell_type": "markdown",
   "metadata": {},
   "source": [
    "Выведем сводную таблицу в которой сгруппируем количество детей с количеством таких клиентов и суммой клиентов, имевших задолжность по возврату кредитов, при помощи метода pivot_table. Таблицу сохраним в переменной \"child_debt_pivot\""
   ]
  },
  {
   "cell_type": "code",
   "execution_count": 121,
   "metadata": {},
   "outputs": [],
   "source": [
    "child_debt_pivot = data_fin.pivot_table(\n",
    "    index='children', values='debt', aggfunc={'debt': ['sum', 'count']})"
   ]
  },
  {
   "cell_type": "markdown",
   "metadata": {},
   "source": [
    "Добавим столбец количества клиентов, имевших задолжность по возврату кредита в срок, по каждой категории, в процентом соотношении от общего количества клиентов. Выведем результат."
   ]
  },
  {
   "cell_type": "code",
   "execution_count": 122,
   "metadata": {},
   "outputs": [
    {
     "data": {
      "text/html": [
       "<div>\n",
       "<style scoped>\n",
       "    .dataframe tbody tr th:only-of-type {\n",
       "        vertical-align: middle;\n",
       "    }\n",
       "\n",
       "    .dataframe tbody tr th {\n",
       "        vertical-align: top;\n",
       "    }\n",
       "\n",
       "    .dataframe thead th {\n",
       "        text-align: right;\n",
       "    }\n",
       "</style>\n",
       "<table border=\"1\" class=\"dataframe\">\n",
       "  <thead>\n",
       "    <tr style=\"text-align: right;\">\n",
       "      <th></th>\n",
       "      <th>count</th>\n",
       "      <th>sum</th>\n",
       "      <th>debtors, %</th>\n",
       "    </tr>\n",
       "    <tr>\n",
       "      <th>children</th>\n",
       "      <th></th>\n",
       "      <th></th>\n",
       "      <th></th>\n",
       "    </tr>\n",
       "  </thead>\n",
       "  <tbody>\n",
       "    <tr>\n",
       "      <td>5</td>\n",
       "      <td>9</td>\n",
       "      <td>0</td>\n",
       "      <td>0.000000</td>\n",
       "    </tr>\n",
       "    <tr>\n",
       "      <td>0</td>\n",
       "      <td>13897</td>\n",
       "      <td>1062</td>\n",
       "      <td>7.641937</td>\n",
       "    </tr>\n",
       "    <tr>\n",
       "      <td>3</td>\n",
       "      <td>329</td>\n",
       "      <td>27</td>\n",
       "      <td>8.206687</td>\n",
       "    </tr>\n",
       "    <tr>\n",
       "      <td>1</td>\n",
       "      <td>4762</td>\n",
       "      <td>444</td>\n",
       "      <td>9.323814</td>\n",
       "    </tr>\n",
       "    <tr>\n",
       "      <td>2</td>\n",
       "      <td>2116</td>\n",
       "      <td>202</td>\n",
       "      <td>9.546314</td>\n",
       "    </tr>\n",
       "    <tr>\n",
       "      <td>4</td>\n",
       "      <td>40</td>\n",
       "      <td>4</td>\n",
       "      <td>10.000000</td>\n",
       "    </tr>\n",
       "  </tbody>\n",
       "</table>\n",
       "</div>"
      ],
      "text/plain": [
       "          count   sum  debtors, %\n",
       "children                         \n",
       "5             9     0    0.000000\n",
       "0         13897  1062    7.641937\n",
       "3           329    27    8.206687\n",
       "1          4762   444    9.323814\n",
       "2          2116   202    9.546314\n",
       "4            40     4   10.000000"
      ]
     },
     "metadata": {},
     "output_type": "display_data"
    }
   ],
   "source": [
    "child_debt_pivot['debtors, %'] = child_debt_pivot['sum'] * 100 / child_debt_pivot['count']\n",
    "display(child_debt_pivot.sort_values(by='debtors, %'))"
   ]
  },
  {
   "cell_type": "markdown",
   "metadata": {},
   "source": [
    "                                        Таблица 2"
   ]
  },
  {
   "cell_type": "markdown",
   "metadata": {},
   "source": [
    "Выведем сводную таблицу в которой сгруппируем возрастную категорию разделенную по количеству детей с количеством таких клиентов и суммой клиентов, имевших задолжность по возврату кредитов, при помощи метода pivot_table. Таблицу сохраним в переменной \"ageChild_debt_pivot\""
   ]
  },
  {
   "cell_type": "code",
   "execution_count": 123,
   "metadata": {},
   "outputs": [],
   "source": [
    "ageChild_debt_pivot = data_fin.pivot_table(\n",
    "    index=['children', 'age_level'], values='debt', aggfunc={'debt': ['sum', 'count']})"
   ]
  },
  {
   "cell_type": "markdown",
   "metadata": {},
   "source": [
    "Добавим столбец количества клиентов, имевших задолжность по возврату кредита в срок, по каждой категории, в процентом соотношении от общего количества клиентов. Выведем результат."
   ]
  },
  {
   "cell_type": "code",
   "execution_count": 124,
   "metadata": {},
   "outputs": [
    {
     "data": {
      "text/html": [
       "<div>\n",
       "<style scoped>\n",
       "    .dataframe tbody tr th:only-of-type {\n",
       "        vertical-align: middle;\n",
       "    }\n",
       "\n",
       "    .dataframe tbody tr th {\n",
       "        vertical-align: top;\n",
       "    }\n",
       "\n",
       "    .dataframe thead th {\n",
       "        text-align: right;\n",
       "    }\n",
       "</style>\n",
       "<table border=\"1\" class=\"dataframe\">\n",
       "  <thead>\n",
       "    <tr style=\"text-align: right;\">\n",
       "      <th></th>\n",
       "      <th></th>\n",
       "      <th>count</th>\n",
       "      <th>sum</th>\n",
       "      <th>debtors, %</th>\n",
       "    </tr>\n",
       "    <tr>\n",
       "      <th>children</th>\n",
       "      <th>age_level</th>\n",
       "      <th></th>\n",
       "      <th></th>\n",
       "      <th></th>\n",
       "    </tr>\n",
       "  </thead>\n",
       "  <tbody>\n",
       "    <tr>\n",
       "      <td rowspan=\"5\" valign=\"top\">0</td>\n",
       "      <td>до 30</td>\n",
       "      <td>1900</td>\n",
       "      <td>209</td>\n",
       "      <td>11.000000</td>\n",
       "    </tr>\n",
       "    <tr>\n",
       "      <td>от 30 до 40</td>\n",
       "      <td>2372</td>\n",
       "      <td>228</td>\n",
       "      <td>9.612142</td>\n",
       "    </tr>\n",
       "    <tr>\n",
       "      <td>от 40 до 50</td>\n",
       "      <td>3340</td>\n",
       "      <td>247</td>\n",
       "      <td>7.395210</td>\n",
       "    </tr>\n",
       "    <tr>\n",
       "      <td>от 50 до 60</td>\n",
       "      <td>3985</td>\n",
       "      <td>261</td>\n",
       "      <td>6.549561</td>\n",
       "    </tr>\n",
       "    <tr>\n",
       "      <td>от 60</td>\n",
       "      <td>2300</td>\n",
       "      <td>117</td>\n",
       "      <td>5.086957</td>\n",
       "    </tr>\n",
       "    <tr>\n",
       "      <td rowspan=\"5\" valign=\"top\">1</td>\n",
       "      <td>до 30</td>\n",
       "      <td>875</td>\n",
       "      <td>96</td>\n",
       "      <td>10.971429</td>\n",
       "    </tr>\n",
       "    <tr>\n",
       "      <td>от 30 до 40</td>\n",
       "      <td>1896</td>\n",
       "      <td>196</td>\n",
       "      <td>10.337553</td>\n",
       "    </tr>\n",
       "    <tr>\n",
       "      <td>от 40 до 50</td>\n",
       "      <td>1350</td>\n",
       "      <td>108</td>\n",
       "      <td>8.000000</td>\n",
       "    </tr>\n",
       "    <tr>\n",
       "      <td>от 50 до 60</td>\n",
       "      <td>486</td>\n",
       "      <td>37</td>\n",
       "      <td>7.613169</td>\n",
       "    </tr>\n",
       "    <tr>\n",
       "      <td>от 60</td>\n",
       "      <td>155</td>\n",
       "      <td>7</td>\n",
       "      <td>4.516129</td>\n",
       "    </tr>\n",
       "    <tr>\n",
       "      <td rowspan=\"5\" valign=\"top\">2</td>\n",
       "      <td>до 30</td>\n",
       "      <td>342</td>\n",
       "      <td>40</td>\n",
       "      <td>11.695906</td>\n",
       "    </tr>\n",
       "    <tr>\n",
       "      <td>от 30 до 40</td>\n",
       "      <td>1184</td>\n",
       "      <td>115</td>\n",
       "      <td>9.712838</td>\n",
       "    </tr>\n",
       "    <tr>\n",
       "      <td>от 40 до 50</td>\n",
       "      <td>495</td>\n",
       "      <td>41</td>\n",
       "      <td>8.282828</td>\n",
       "    </tr>\n",
       "    <tr>\n",
       "      <td>от 50 до 60</td>\n",
       "      <td>84</td>\n",
       "      <td>6</td>\n",
       "      <td>7.142857</td>\n",
       "    </tr>\n",
       "    <tr>\n",
       "      <td>от 60</td>\n",
       "      <td>11</td>\n",
       "      <td>0</td>\n",
       "      <td>0.000000</td>\n",
       "    </tr>\n",
       "    <tr>\n",
       "      <td rowspan=\"5\" valign=\"top\">3</td>\n",
       "      <td>до 30</td>\n",
       "      <td>36</td>\n",
       "      <td>3</td>\n",
       "      <td>8.333333</td>\n",
       "    </tr>\n",
       "    <tr>\n",
       "      <td>от 30 до 40</td>\n",
       "      <td>198</td>\n",
       "      <td>17</td>\n",
       "      <td>8.585859</td>\n",
       "    </tr>\n",
       "    <tr>\n",
       "      <td>от 40 до 50</td>\n",
       "      <td>84</td>\n",
       "      <td>7</td>\n",
       "      <td>8.333333</td>\n",
       "    </tr>\n",
       "    <tr>\n",
       "      <td>от 50 до 60</td>\n",
       "      <td>10</td>\n",
       "      <td>0</td>\n",
       "      <td>0.000000</td>\n",
       "    </tr>\n",
       "    <tr>\n",
       "      <td>от 60</td>\n",
       "      <td>1</td>\n",
       "      <td>0</td>\n",
       "      <td>0.000000</td>\n",
       "    </tr>\n",
       "    <tr>\n",
       "      <td rowspan=\"4\" valign=\"top\">4</td>\n",
       "      <td>до 30</td>\n",
       "      <td>5</td>\n",
       "      <td>1</td>\n",
       "      <td>20.000000</td>\n",
       "    </tr>\n",
       "    <tr>\n",
       "      <td>от 30 до 40</td>\n",
       "      <td>26</td>\n",
       "      <td>1</td>\n",
       "      <td>3.846154</td>\n",
       "    </tr>\n",
       "    <tr>\n",
       "      <td>от 40 до 50</td>\n",
       "      <td>8</td>\n",
       "      <td>1</td>\n",
       "      <td>12.500000</td>\n",
       "    </tr>\n",
       "    <tr>\n",
       "      <td>от 50 до 60</td>\n",
       "      <td>1</td>\n",
       "      <td>1</td>\n",
       "      <td>100.000000</td>\n",
       "    </tr>\n",
       "    <tr>\n",
       "      <td rowspan=\"3\" valign=\"top\">5</td>\n",
       "      <td>от 30 до 40</td>\n",
       "      <td>7</td>\n",
       "      <td>0</td>\n",
       "      <td>0.000000</td>\n",
       "    </tr>\n",
       "    <tr>\n",
       "      <td>от 40 до 50</td>\n",
       "      <td>1</td>\n",
       "      <td>0</td>\n",
       "      <td>0.000000</td>\n",
       "    </tr>\n",
       "    <tr>\n",
       "      <td>от 50 до 60</td>\n",
       "      <td>1</td>\n",
       "      <td>0</td>\n",
       "      <td>0.000000</td>\n",
       "    </tr>\n",
       "  </tbody>\n",
       "</table>\n",
       "</div>"
      ],
      "text/plain": [
       "                      count  sum  debtors, %\n",
       "children age_level                          \n",
       "0        до 30         1900  209   11.000000\n",
       "         от 30 до 40   2372  228    9.612142\n",
       "         от 40 до 50   3340  247    7.395210\n",
       "         от 50 до 60   3985  261    6.549561\n",
       "         от 60         2300  117    5.086957\n",
       "1        до 30          875   96   10.971429\n",
       "         от 30 до 40   1896  196   10.337553\n",
       "         от 40 до 50   1350  108    8.000000\n",
       "         от 50 до 60    486   37    7.613169\n",
       "         от 60          155    7    4.516129\n",
       "2        до 30          342   40   11.695906\n",
       "         от 30 до 40   1184  115    9.712838\n",
       "         от 40 до 50    495   41    8.282828\n",
       "         от 50 до 60     84    6    7.142857\n",
       "         от 60           11    0    0.000000\n",
       "3        до 30           36    3    8.333333\n",
       "         от 30 до 40    198   17    8.585859\n",
       "         от 40 до 50     84    7    8.333333\n",
       "         от 50 до 60     10    0    0.000000\n",
       "         от 60            1    0    0.000000\n",
       "4        до 30            5    1   20.000000\n",
       "         от 30 до 40     26    1    3.846154\n",
       "         от 40 до 50      8    1   12.500000\n",
       "         от 50 до 60      1    1  100.000000\n",
       "5        от 30 до 40      7    0    0.000000\n",
       "         от 40 до 50      1    0    0.000000\n",
       "         от 50 до 60      1    0    0.000000"
      ]
     },
     "metadata": {},
     "output_type": "display_data"
    }
   ],
   "source": [
    "ageChild_debt_pivot['debtors, %'] = ageChild_debt_pivot['sum'] * 100 / ageChild_debt_pivot['count']\n",
    "display(ageChild_debt_pivot)"
   ]
  },
  {
   "cell_type": "markdown",
   "metadata": {},
   "source": [
    "                                        Таблица 3"
   ]
  },
  {
   "cell_type": "markdown",
   "metadata": {},
   "source": [
    "Выведем сводную таблицу в которой сгруппируем семейный статус клиента разделенный по количеству детей с количеством таких клиентов и суммой клиентов, имевших задолжность по возврату кредитов, при помощи метода pivot_table. Таблицу сохраним в переменной \"fam_statChild_debt_pivot\""
   ]
  },
  {
   "cell_type": "code",
   "execution_count": 125,
   "metadata": {},
   "outputs": [],
   "source": [
    "fam_statChild_debt_pivot = data_fin.pivot_table(\n",
    "    index=['children', 'family_status'], values='debt', aggfunc={'debt': ['sum', 'count']})"
   ]
  },
  {
   "cell_type": "markdown",
   "metadata": {},
   "source": [
    "Добавим столбец количества клиентов, имевших задолжность по возврату кредита в срок, по каждой категории, в процентом соотношении от общего количества клиентов. Выведем результат."
   ]
  },
  {
   "cell_type": "code",
   "execution_count": 126,
   "metadata": {},
   "outputs": [
    {
     "data": {
      "text/html": [
       "<div>\n",
       "<style scoped>\n",
       "    .dataframe tbody tr th:only-of-type {\n",
       "        vertical-align: middle;\n",
       "    }\n",
       "\n",
       "    .dataframe tbody tr th {\n",
       "        vertical-align: top;\n",
       "    }\n",
       "\n",
       "    .dataframe thead th {\n",
       "        text-align: right;\n",
       "    }\n",
       "</style>\n",
       "<table border=\"1\" class=\"dataframe\">\n",
       "  <thead>\n",
       "    <tr style=\"text-align: right;\">\n",
       "      <th></th>\n",
       "      <th></th>\n",
       "      <th>count</th>\n",
       "      <th>sum</th>\n",
       "      <th>debtors, %</th>\n",
       "    </tr>\n",
       "    <tr>\n",
       "      <th>children</th>\n",
       "      <th>family_status</th>\n",
       "      <th></th>\n",
       "      <th></th>\n",
       "      <th></th>\n",
       "    </tr>\n",
       "  </thead>\n",
       "  <tbody>\n",
       "    <tr>\n",
       "      <td rowspan=\"5\" valign=\"top\">0</td>\n",
       "      <td>Не женат / не замужем</td>\n",
       "      <td>2245</td>\n",
       "      <td>210</td>\n",
       "      <td>9.354120</td>\n",
       "    </tr>\n",
       "    <tr>\n",
       "      <td>в разводе</td>\n",
       "      <td>786</td>\n",
       "      <td>55</td>\n",
       "      <td>6.997455</td>\n",
       "    </tr>\n",
       "    <tr>\n",
       "      <td>вдовец / вдова</td>\n",
       "      <td>835</td>\n",
       "      <td>53</td>\n",
       "      <td>6.347305</td>\n",
       "    </tr>\n",
       "    <tr>\n",
       "      <td>гражданский брак</td>\n",
       "      <td>2714</td>\n",
       "      <td>229</td>\n",
       "      <td>8.437730</td>\n",
       "    </tr>\n",
       "    <tr>\n",
       "      <td>женат / замужем</td>\n",
       "      <td>7317</td>\n",
       "      <td>515</td>\n",
       "      <td>7.038404</td>\n",
       "    </tr>\n",
       "    <tr>\n",
       "      <td rowspan=\"5\" valign=\"top\">1</td>\n",
       "      <td>Не женат / не замужем</td>\n",
       "      <td>449</td>\n",
       "      <td>52</td>\n",
       "      <td>11.581292</td>\n",
       "    </tr>\n",
       "    <tr>\n",
       "      <td>в разводе</td>\n",
       "      <td>312</td>\n",
       "      <td>21</td>\n",
       "      <td>6.730769</td>\n",
       "    </tr>\n",
       "    <tr>\n",
       "      <td>вдовец / вдова</td>\n",
       "      <td>77</td>\n",
       "      <td>7</td>\n",
       "      <td>9.090909</td>\n",
       "    </tr>\n",
       "    <tr>\n",
       "      <td>гражданский брак</td>\n",
       "      <td>991</td>\n",
       "      <td>118</td>\n",
       "      <td>11.907164</td>\n",
       "    </tr>\n",
       "    <tr>\n",
       "      <td>женат / замужем</td>\n",
       "      <td>2933</td>\n",
       "      <td>246</td>\n",
       "      <td>8.387317</td>\n",
       "    </tr>\n",
       "    <tr>\n",
       "      <td rowspan=\"5\" valign=\"top\">2</td>\n",
       "      <td>Не женат / не замужем</td>\n",
       "      <td>84</td>\n",
       "      <td>10</td>\n",
       "      <td>11.904762</td>\n",
       "    </tr>\n",
       "    <tr>\n",
       "      <td>в разводе</td>\n",
       "      <td>83</td>\n",
       "      <td>8</td>\n",
       "      <td>9.638554</td>\n",
       "    </tr>\n",
       "    <tr>\n",
       "      <td>вдовец / вдова</td>\n",
       "      <td>24</td>\n",
       "      <td>3</td>\n",
       "      <td>12.500000</td>\n",
       "    </tr>\n",
       "    <tr>\n",
       "      <td>гражданский брак</td>\n",
       "      <td>354</td>\n",
       "      <td>33</td>\n",
       "      <td>9.322034</td>\n",
       "    </tr>\n",
       "    <tr>\n",
       "      <td>женат / замужем</td>\n",
       "      <td>1571</td>\n",
       "      <td>148</td>\n",
       "      <td>9.420751</td>\n",
       "    </tr>\n",
       "    <tr>\n",
       "      <td rowspan=\"5\" valign=\"top\">3</td>\n",
       "      <td>Не женат / не замужем</td>\n",
       "      <td>8</td>\n",
       "      <td>1</td>\n",
       "      <td>12.500000</td>\n",
       "    </tr>\n",
       "    <tr>\n",
       "      <td>в разводе</td>\n",
       "      <td>11</td>\n",
       "      <td>1</td>\n",
       "      <td>9.090909</td>\n",
       "    </tr>\n",
       "    <tr>\n",
       "      <td>вдовец / вдова</td>\n",
       "      <td>6</td>\n",
       "      <td>0</td>\n",
       "      <td>0.000000</td>\n",
       "    </tr>\n",
       "    <tr>\n",
       "      <td>гражданский брак</td>\n",
       "      <td>56</td>\n",
       "      <td>8</td>\n",
       "      <td>14.285714</td>\n",
       "    </tr>\n",
       "    <tr>\n",
       "      <td>женат / замужем</td>\n",
       "      <td>248</td>\n",
       "      <td>17</td>\n",
       "      <td>6.854839</td>\n",
       "    </tr>\n",
       "    <tr>\n",
       "      <td rowspan=\"5\" valign=\"top\">4</td>\n",
       "      <td>Не женат / не замужем</td>\n",
       "      <td>2</td>\n",
       "      <td>1</td>\n",
       "      <td>50.000000</td>\n",
       "    </tr>\n",
       "    <tr>\n",
       "      <td>в разводе</td>\n",
       "      <td>1</td>\n",
       "      <td>0</td>\n",
       "      <td>0.000000</td>\n",
       "    </tr>\n",
       "    <tr>\n",
       "      <td>вдовец / вдова</td>\n",
       "      <td>1</td>\n",
       "      <td>0</td>\n",
       "      <td>0.000000</td>\n",
       "    </tr>\n",
       "    <tr>\n",
       "      <td>гражданский брак</td>\n",
       "      <td>8</td>\n",
       "      <td>0</td>\n",
       "      <td>0.000000</td>\n",
       "    </tr>\n",
       "    <tr>\n",
       "      <td>женат / замужем</td>\n",
       "      <td>28</td>\n",
       "      <td>3</td>\n",
       "      <td>10.714286</td>\n",
       "    </tr>\n",
       "    <tr>\n",
       "      <td rowspan=\"2\" valign=\"top\">5</td>\n",
       "      <td>гражданский брак</td>\n",
       "      <td>2</td>\n",
       "      <td>0</td>\n",
       "      <td>0.000000</td>\n",
       "    </tr>\n",
       "    <tr>\n",
       "      <td>женат / замужем</td>\n",
       "      <td>7</td>\n",
       "      <td>0</td>\n",
       "      <td>0.000000</td>\n",
       "    </tr>\n",
       "  </tbody>\n",
       "</table>\n",
       "</div>"
      ],
      "text/plain": [
       "                                count  sum  debtors, %\n",
       "children family_status                                \n",
       "0        Не женат / не замужем   2245  210    9.354120\n",
       "         в разводе                786   55    6.997455\n",
       "         вдовец / вдова           835   53    6.347305\n",
       "         гражданский брак        2714  229    8.437730\n",
       "         женат / замужем         7317  515    7.038404\n",
       "1        Не женат / не замужем    449   52   11.581292\n",
       "         в разводе                312   21    6.730769\n",
       "         вдовец / вдова            77    7    9.090909\n",
       "         гражданский брак         991  118   11.907164\n",
       "         женат / замужем         2933  246    8.387317\n",
       "2        Не женат / не замужем     84   10   11.904762\n",
       "         в разводе                 83    8    9.638554\n",
       "         вдовец / вдова            24    3   12.500000\n",
       "         гражданский брак         354   33    9.322034\n",
       "         женат / замужем         1571  148    9.420751\n",
       "3        Не женат / не замужем      8    1   12.500000\n",
       "         в разводе                 11    1    9.090909\n",
       "         вдовец / вдова             6    0    0.000000\n",
       "         гражданский брак          56    8   14.285714\n",
       "         женат / замужем          248   17    6.854839\n",
       "4        Не женат / не замужем      2    1   50.000000\n",
       "         в разводе                  1    0    0.000000\n",
       "         вдовец / вдова             1    0    0.000000\n",
       "         гражданский брак           8    0    0.000000\n",
       "         женат / замужем           28    3   10.714286\n",
       "5        гражданский брак           2    0    0.000000\n",
       "         женат / замужем            7    0    0.000000"
      ]
     },
     "metadata": {},
     "output_type": "display_data"
    }
   ],
   "source": [
    "fam_statChild_debt_pivot['debtors, %'] = fam_statChild_debt_pivot[\n",
    "    'sum'] * 100 /fam_statChild_debt_pivot['count']\n",
    "display(fam_statChild_debt_pivot)"
   ]
  },
  {
   "cell_type": "markdown",
   "metadata": {},
   "source": [
    "#### Вывод"
   ]
  },
  {
   "cell_type": "markdown",
   "metadata": {},
   "source": [
    "На основании таблицы 1 ,если рассматривать количество клиентов с задолжностью по возврату кредитов только лишь в разрезе количества детей и не учитывать клиентов с 5-ю детьми, так как их слишком мало для анализа, то можно сделать следующий вывод: чаще всего возвращают кредит в срод клиенты не имеющие детей, чуть реже клиенты с 1-м до 3-х детей, и реже всего возвращают в срок возвращают клиенты с 4-мя детьми. Но разница между клиентами с 4-мя детьми и клиентами без детей составляет всего 2%.\n",
    "\n",
    "На основании таблицы 2, если рассматривать количество клиентов с задолжностью по возврату кредитов в разрезе количества детей с разбивкой на возрастные категории можно сделать следующий вывод: в возрастной категории до 30 лет чаще всего возвращают кредит в срок клиенты с 3-мя детьми, чуть реже клиенты с 0-1-2 количеством детей, более чем в два раза реже возвращают в срок клиенты с 4-мя детьми; в возрастной категории от 30 до 40 лет можно выделить клиентов с 4-мя и 5-ю детьми, они возвращают в срок почти всегда и всегда соответственно, а клиенты с 0-1-2-3 количеством детей находятся примерно на одном уровне, около 9% процентов из них имеют задержки; далее по возрастным категориям примерно похожая ситуация, сложно выделить определенную группу клиентов разбивая их на возрастные категории и по количеству детей. Можно лишь выделить только зависимость от возраста, так как с повышением возраста клиенты начинают чаще возвращать кредит в срок.\n",
    "\n",
    "На основании таблицы 3, если рассматривать количество клиентов с задолжностью по возврату кредитов в разрезе количества детей с разбивкой на категории по семейному положению можно сделать следующий вывод: реже всего возвращают кредит в срок клиенты относящиеся к группам \"Не женат / не замужем\" и \"гражданский брак\", и чем больше у них детей, тем еще реже они его возвращают в срок. Чуть более лучшая, но схожая ситуация, у клиентов группы \"женат / замужем\".\n",
    "\n",
    "Подводя итог, можно сказать, что зависимость возврата кредитов в срок от количества детей все же имеется, хоть и не явно выраженная. Чем меньше у клиента имеется детей, тем больше шанс что он вернет кредит в срок."
   ]
  },
  {
   "cell_type": "markdown",
   "metadata": {},
   "source": [
    "### 3.2. Есть ли зависимость между семейным положением и возвратом кредита в срок?\n",
    "<a id=\"3.2\"></a>"
   ]
  },
  {
   "cell_type": "markdown",
   "metadata": {},
   "source": [
    "Для формирования вывода повторно выведем необходимые таблицы, но с использованием метода pivot_table"
   ]
  },
  {
   "cell_type": "markdown",
   "metadata": {},
   "source": [
    "                                        Таблица 4"
   ]
  },
  {
   "cell_type": "markdown",
   "metadata": {},
   "source": [
    "Выведем сводную таблицу в которой сгруппируем клиентов по семейному положению с количеством таких клиентов и суммой клиентов, имевших задолжность по возврату кредитов, при помощи метода pivot_table. Таблицу сохраним в переменной \"fam_stat_debt_pivot\""
   ]
  },
  {
   "cell_type": "code",
   "execution_count": 127,
   "metadata": {},
   "outputs": [],
   "source": [
    "fam_stat_debt_pivott = data_fin.pivot_table(\n",
    "    index=['family_status'], values='debt', aggfunc={'debt': ['sum', 'count']})"
   ]
  },
  {
   "cell_type": "markdown",
   "metadata": {},
   "source": [
    "Добавим столбец количества клиентов, имевших задолжность по возврату кредита в срок, по каждой категории, в процентом соотношении от общего количества клиентов. Выведем результат."
   ]
  },
  {
   "cell_type": "code",
   "execution_count": 128,
   "metadata": {},
   "outputs": [
    {
     "data": {
      "text/html": [
       "<div>\n",
       "<style scoped>\n",
       "    .dataframe tbody tr th:only-of-type {\n",
       "        vertical-align: middle;\n",
       "    }\n",
       "\n",
       "    .dataframe tbody tr th {\n",
       "        vertical-align: top;\n",
       "    }\n",
       "\n",
       "    .dataframe thead th {\n",
       "        text-align: right;\n",
       "    }\n",
       "</style>\n",
       "<table border=\"1\" class=\"dataframe\">\n",
       "  <thead>\n",
       "    <tr style=\"text-align: right;\">\n",
       "      <th></th>\n",
       "      <th>count</th>\n",
       "      <th>sum</th>\n",
       "      <th>debtors, %</th>\n",
       "    </tr>\n",
       "    <tr>\n",
       "      <th>family_status</th>\n",
       "      <th></th>\n",
       "      <th></th>\n",
       "      <th></th>\n",
       "    </tr>\n",
       "  </thead>\n",
       "  <tbody>\n",
       "    <tr>\n",
       "      <td>вдовец / вдова</td>\n",
       "      <td>943</td>\n",
       "      <td>63</td>\n",
       "      <td>6.680806</td>\n",
       "    </tr>\n",
       "    <tr>\n",
       "      <td>в разводе</td>\n",
       "      <td>1193</td>\n",
       "      <td>85</td>\n",
       "      <td>7.124895</td>\n",
       "    </tr>\n",
       "    <tr>\n",
       "      <td>женат / замужем</td>\n",
       "      <td>12104</td>\n",
       "      <td>929</td>\n",
       "      <td>7.675149</td>\n",
       "    </tr>\n",
       "    <tr>\n",
       "      <td>гражданский брак</td>\n",
       "      <td>4125</td>\n",
       "      <td>388</td>\n",
       "      <td>9.406061</td>\n",
       "    </tr>\n",
       "    <tr>\n",
       "      <td>Не женат / не замужем</td>\n",
       "      <td>2788</td>\n",
       "      <td>274</td>\n",
       "      <td>9.827834</td>\n",
       "    </tr>\n",
       "  </tbody>\n",
       "</table>\n",
       "</div>"
      ],
      "text/plain": [
       "                       count  sum  debtors, %\n",
       "family_status                                \n",
       "вдовец / вдова           943   63    6.680806\n",
       "в разводе               1193   85    7.124895\n",
       "женат / замужем        12104  929    7.675149\n",
       "гражданский брак        4125  388    9.406061\n",
       "Не женат / не замужем   2788  274    9.827834"
      ]
     },
     "metadata": {},
     "output_type": "display_data"
    }
   ],
   "source": [
    "fam_stat_debt_pivott['debtors, %'] = fam_stat_debt_pivott[\n",
    "    'sum'] * 100 /fam_stat_debt_pivott['count']\n",
    "display(fam_stat_debt_pivott.sort_values(by='debtors, %'))"
   ]
  },
  {
   "cell_type": "markdown",
   "metadata": {},
   "source": [
    "                                        Таблица 5"
   ]
  },
  {
   "cell_type": "markdown",
   "metadata": {},
   "source": [
    "Выведем сводную таблицу в которой сгруппируем клиентов по семейному положению, разделенных на категории по возрасту, с количеством таких клиентов и суммой клиентов, имевших задолжность по возврату кредитов, при помощи метода pivot_table. Таблицу сохраним в переменной \"fam_statAge_debt_pivot\""
   ]
  },
  {
   "cell_type": "code",
   "execution_count": 129,
   "metadata": {},
   "outputs": [],
   "source": [
    "fam_statAge_debt_pivot = data_fin.pivot_table(\n",
    "    index=['family_status', 'age_level'], values='debt', aggfunc={'debt': ['sum', 'count']})"
   ]
  },
  {
   "cell_type": "markdown",
   "metadata": {},
   "source": [
    "Добавим столбец количества клиентов, имевших задолжность по возврату кредита в срок, по каждой категории, в процентом соотношении от общего количества клиентов. Выведем результат."
   ]
  },
  {
   "cell_type": "code",
   "execution_count": 130,
   "metadata": {},
   "outputs": [
    {
     "data": {
      "text/html": [
       "<div>\n",
       "<style scoped>\n",
       "    .dataframe tbody tr th:only-of-type {\n",
       "        vertical-align: middle;\n",
       "    }\n",
       "\n",
       "    .dataframe tbody tr th {\n",
       "        vertical-align: top;\n",
       "    }\n",
       "\n",
       "    .dataframe thead th {\n",
       "        text-align: right;\n",
       "    }\n",
       "</style>\n",
       "<table border=\"1\" class=\"dataframe\">\n",
       "  <thead>\n",
       "    <tr style=\"text-align: right;\">\n",
       "      <th></th>\n",
       "      <th></th>\n",
       "      <th>count</th>\n",
       "      <th>sum</th>\n",
       "      <th>debtors, %</th>\n",
       "    </tr>\n",
       "    <tr>\n",
       "      <th>family_status</th>\n",
       "      <th>age_level</th>\n",
       "      <th></th>\n",
       "      <th></th>\n",
       "      <th></th>\n",
       "    </tr>\n",
       "  </thead>\n",
       "  <tbody>\n",
       "    <tr>\n",
       "      <td rowspan=\"5\" valign=\"top\">Не женат / не замужем</td>\n",
       "      <td>до 30</td>\n",
       "      <td>909</td>\n",
       "      <td>103</td>\n",
       "      <td>11.331133</td>\n",
       "    </tr>\n",
       "    <tr>\n",
       "      <td>от 30 до 40</td>\n",
       "      <td>710</td>\n",
       "      <td>85</td>\n",
       "      <td>11.971831</td>\n",
       "    </tr>\n",
       "    <tr>\n",
       "      <td>от 40 до 50</td>\n",
       "      <td>519</td>\n",
       "      <td>46</td>\n",
       "      <td>8.863198</td>\n",
       "    </tr>\n",
       "    <tr>\n",
       "      <td>от 50 до 60</td>\n",
       "      <td>411</td>\n",
       "      <td>31</td>\n",
       "      <td>7.542579</td>\n",
       "    </tr>\n",
       "    <tr>\n",
       "      <td>от 60</td>\n",
       "      <td>239</td>\n",
       "      <td>9</td>\n",
       "      <td>3.765690</td>\n",
       "    </tr>\n",
       "    <tr>\n",
       "      <td rowspan=\"5\" valign=\"top\">в разводе</td>\n",
       "      <td>до 30</td>\n",
       "      <td>96</td>\n",
       "      <td>14</td>\n",
       "      <td>14.583333</td>\n",
       "    </tr>\n",
       "    <tr>\n",
       "      <td>от 30 до 40</td>\n",
       "      <td>267</td>\n",
       "      <td>20</td>\n",
       "      <td>7.490637</td>\n",
       "    </tr>\n",
       "    <tr>\n",
       "      <td>от 40 до 50</td>\n",
       "      <td>372</td>\n",
       "      <td>21</td>\n",
       "      <td>5.645161</td>\n",
       "    </tr>\n",
       "    <tr>\n",
       "      <td>от 50 до 60</td>\n",
       "      <td>301</td>\n",
       "      <td>19</td>\n",
       "      <td>6.312292</td>\n",
       "    </tr>\n",
       "    <tr>\n",
       "      <td>от 60</td>\n",
       "      <td>157</td>\n",
       "      <td>11</td>\n",
       "      <td>7.006369</td>\n",
       "    </tr>\n",
       "    <tr>\n",
       "      <td rowspan=\"5\" valign=\"top\">вдовец / вдова</td>\n",
       "      <td>до 30</td>\n",
       "      <td>2</td>\n",
       "      <td>0</td>\n",
       "      <td>0.000000</td>\n",
       "    </tr>\n",
       "    <tr>\n",
       "      <td>от 30 до 40</td>\n",
       "      <td>41</td>\n",
       "      <td>3</td>\n",
       "      <td>7.317073</td>\n",
       "    </tr>\n",
       "    <tr>\n",
       "      <td>от 40 до 50</td>\n",
       "      <td>133</td>\n",
       "      <td>11</td>\n",
       "      <td>8.270677</td>\n",
       "    </tr>\n",
       "    <tr>\n",
       "      <td>от 50 до 60</td>\n",
       "      <td>370</td>\n",
       "      <td>21</td>\n",
       "      <td>5.675676</td>\n",
       "    </tr>\n",
       "    <tr>\n",
       "      <td>от 60</td>\n",
       "      <td>397</td>\n",
       "      <td>28</td>\n",
       "      <td>7.052897</td>\n",
       "    </tr>\n",
       "    <tr>\n",
       "      <td rowspan=\"5\" valign=\"top\">гражданский брак</td>\n",
       "      <td>до 30</td>\n",
       "      <td>682</td>\n",
       "      <td>70</td>\n",
       "      <td>10.263930</td>\n",
       "    </tr>\n",
       "    <tr>\n",
       "      <td>от 30 до 40</td>\n",
       "      <td>1180</td>\n",
       "      <td>139</td>\n",
       "      <td>11.779661</td>\n",
       "    </tr>\n",
       "    <tr>\n",
       "      <td>от 40 до 50</td>\n",
       "      <td>1080</td>\n",
       "      <td>95</td>\n",
       "      <td>8.796296</td>\n",
       "    </tr>\n",
       "    <tr>\n",
       "      <td>от 50 до 60</td>\n",
       "      <td>792</td>\n",
       "      <td>66</td>\n",
       "      <td>8.333333</td>\n",
       "    </tr>\n",
       "    <tr>\n",
       "      <td>от 60</td>\n",
       "      <td>391</td>\n",
       "      <td>18</td>\n",
       "      <td>4.603581</td>\n",
       "    </tr>\n",
       "    <tr>\n",
       "      <td rowspan=\"5\" valign=\"top\">женат / замужем</td>\n",
       "      <td>до 30</td>\n",
       "      <td>1469</td>\n",
       "      <td>162</td>\n",
       "      <td>11.027910</td>\n",
       "    </tr>\n",
       "    <tr>\n",
       "      <td>от 30 до 40</td>\n",
       "      <td>3485</td>\n",
       "      <td>310</td>\n",
       "      <td>8.895265</td>\n",
       "    </tr>\n",
       "    <tr>\n",
       "      <td>от 40 до 50</td>\n",
       "      <td>3174</td>\n",
       "      <td>231</td>\n",
       "      <td>7.277883</td>\n",
       "    </tr>\n",
       "    <tr>\n",
       "      <td>от 50 до 60</td>\n",
       "      <td>2693</td>\n",
       "      <td>168</td>\n",
       "      <td>6.238396</td>\n",
       "    </tr>\n",
       "    <tr>\n",
       "      <td>от 60</td>\n",
       "      <td>1283</td>\n",
       "      <td>58</td>\n",
       "      <td>4.520655</td>\n",
       "    </tr>\n",
       "  </tbody>\n",
       "</table>\n",
       "</div>"
      ],
      "text/plain": [
       "                                   count  sum  debtors, %\n",
       "family_status         age_level                          \n",
       "Не женат / не замужем до 30          909  103   11.331133\n",
       "                      от 30 до 40    710   85   11.971831\n",
       "                      от 40 до 50    519   46    8.863198\n",
       "                      от 50 до 60    411   31    7.542579\n",
       "                      от 60          239    9    3.765690\n",
       "в разводе             до 30           96   14   14.583333\n",
       "                      от 30 до 40    267   20    7.490637\n",
       "                      от 40 до 50    372   21    5.645161\n",
       "                      от 50 до 60    301   19    6.312292\n",
       "                      от 60          157   11    7.006369\n",
       "вдовец / вдова        до 30            2    0    0.000000\n",
       "                      от 30 до 40     41    3    7.317073\n",
       "                      от 40 до 50    133   11    8.270677\n",
       "                      от 50 до 60    370   21    5.675676\n",
       "                      от 60          397   28    7.052897\n",
       "гражданский брак      до 30          682   70   10.263930\n",
       "                      от 30 до 40   1180  139   11.779661\n",
       "                      от 40 до 50   1080   95    8.796296\n",
       "                      от 50 до 60    792   66    8.333333\n",
       "                      от 60          391   18    4.603581\n",
       "женат / замужем       до 30         1469  162   11.027910\n",
       "                      от 30 до 40   3485  310    8.895265\n",
       "                      от 40 до 50   3174  231    7.277883\n",
       "                      от 50 до 60   2693  168    6.238396\n",
       "                      от 60         1283   58    4.520655"
      ]
     },
     "metadata": {},
     "output_type": "display_data"
    }
   ],
   "source": [
    "fam_statAge_debt_pivot['debtors, %'] = fam_statAge_debt_pivot[\n",
    "    'sum'] * 100 /fam_statAge_debt_pivot['count']\n",
    "display(fam_statAge_debt_pivot)"
   ]
  },
  {
   "cell_type": "markdown",
   "metadata": {},
   "source": [
    "                                        Таблица 6"
   ]
  },
  {
   "cell_type": "markdown",
   "metadata": {},
   "source": [
    "Выведем сводную таблицу в которой сгруппируем клиентов по семейному положению, разделенных на категории полу, с количеством таких клиентов и суммой клиентов, имевших задолжность по возврату кредитов, при помощи метода pivot_table. Таблицу сохраним в переменной \"fam_statGend_debt_pivot\""
   ]
  },
  {
   "cell_type": "code",
   "execution_count": 131,
   "metadata": {},
   "outputs": [],
   "source": [
    "fam_statGend_debt_pivot = data_fin.pivot_table(\n",
    "    index=['gender', 'family_status'], values='debt', aggfunc={'debt': ['sum', 'count']})"
   ]
  },
  {
   "cell_type": "markdown",
   "metadata": {},
   "source": [
    "Добавим столбец количества клиентов, имевших задолжность по возврату кредита в срок, по каждой категории, в процентом соотношении от общего количества клиентов. Выведем результат."
   ]
  },
  {
   "cell_type": "code",
   "execution_count": 132,
   "metadata": {},
   "outputs": [
    {
     "data": {
      "text/html": [
       "<div>\n",
       "<style scoped>\n",
       "    .dataframe tbody tr th:only-of-type {\n",
       "        vertical-align: middle;\n",
       "    }\n",
       "\n",
       "    .dataframe tbody tr th {\n",
       "        vertical-align: top;\n",
       "    }\n",
       "\n",
       "    .dataframe thead th {\n",
       "        text-align: right;\n",
       "    }\n",
       "</style>\n",
       "<table border=\"1\" class=\"dataframe\">\n",
       "  <thead>\n",
       "    <tr style=\"text-align: right;\">\n",
       "      <th></th>\n",
       "      <th></th>\n",
       "      <th>count</th>\n",
       "      <th>sum</th>\n",
       "      <th>debtors, %</th>\n",
       "    </tr>\n",
       "    <tr>\n",
       "      <th>gender</th>\n",
       "      <th>family_status</th>\n",
       "      <th></th>\n",
       "      <th></th>\n",
       "      <th></th>\n",
       "    </tr>\n",
       "  </thead>\n",
       "  <tbody>\n",
       "    <tr>\n",
       "      <td rowspan=\"5\" valign=\"top\">F</td>\n",
       "      <td>Не женат / не замужем</td>\n",
       "      <td>1714</td>\n",
       "      <td>118</td>\n",
       "      <td>6.884481</td>\n",
       "    </tr>\n",
       "    <tr>\n",
       "      <td>в разводе</td>\n",
       "      <td>934</td>\n",
       "      <td>61</td>\n",
       "      <td>6.531049</td>\n",
       "    </tr>\n",
       "    <tr>\n",
       "      <td>вдовец / вдова</td>\n",
       "      <td>888</td>\n",
       "      <td>52</td>\n",
       "      <td>5.855856</td>\n",
       "    </tr>\n",
       "    <tr>\n",
       "      <td>гражданский брак</td>\n",
       "      <td>2822</td>\n",
       "      <td>233</td>\n",
       "      <td>8.256556</td>\n",
       "    </tr>\n",
       "    <tr>\n",
       "      <td>женат / замужем</td>\n",
       "      <td>7586</td>\n",
       "      <td>529</td>\n",
       "      <td>6.973372</td>\n",
       "    </tr>\n",
       "    <tr>\n",
       "      <td rowspan=\"5\" valign=\"top\">M</td>\n",
       "      <td>Не женат / не замужем</td>\n",
       "      <td>1074</td>\n",
       "      <td>156</td>\n",
       "      <td>14.525140</td>\n",
       "    </tr>\n",
       "    <tr>\n",
       "      <td>в разводе</td>\n",
       "      <td>259</td>\n",
       "      <td>24</td>\n",
       "      <td>9.266409</td>\n",
       "    </tr>\n",
       "    <tr>\n",
       "      <td>вдовец / вдова</td>\n",
       "      <td>55</td>\n",
       "      <td>11</td>\n",
       "      <td>20.000000</td>\n",
       "    </tr>\n",
       "    <tr>\n",
       "      <td>гражданский брак</td>\n",
       "      <td>1303</td>\n",
       "      <td>155</td>\n",
       "      <td>11.895625</td>\n",
       "    </tr>\n",
       "    <tr>\n",
       "      <td>женат / замужем</td>\n",
       "      <td>4518</td>\n",
       "      <td>400</td>\n",
       "      <td>8.853475</td>\n",
       "    </tr>\n",
       "  </tbody>\n",
       "</table>\n",
       "</div>"
      ],
      "text/plain": [
       "                              count  sum  debtors, %\n",
       "gender family_status                                \n",
       "F      Не женат / не замужем   1714  118    6.884481\n",
       "       в разводе                934   61    6.531049\n",
       "       вдовец / вдова           888   52    5.855856\n",
       "       гражданский брак        2822  233    8.256556\n",
       "       женат / замужем         7586  529    6.973372\n",
       "M      Не женат / не замужем   1074  156   14.525140\n",
       "       в разводе                259   24    9.266409\n",
       "       вдовец / вдова            55   11   20.000000\n",
       "       гражданский брак        1303  155   11.895625\n",
       "       женат / замужем         4518  400    8.853475"
      ]
     },
     "metadata": {},
     "output_type": "display_data"
    }
   ],
   "source": [
    "fam_statGend_debt_pivot['debtors, %'] = fam_statGend_debt_pivot[\n",
    "    'sum'] * 100 /fam_statGend_debt_pivot['count']\n",
    "display(fam_statGend_debt_pivot)"
   ]
  },
  {
   "cell_type": "markdown",
   "metadata": {},
   "source": [
    "#### Вывод"
   ]
  },
  {
   "cell_type": "markdown",
   "metadata": {},
   "source": [
    "На основании таблицы 4 ,если рассматривать количество клиентов с задолжностью по возврату кредитов только лишь в разрезе семейного положения, можно сделать следующие выводы: чаще всего в срок возвращают кредит клиенты категории \"вдовец / вдова\", чуть более реже клиенты категорий \"в разводе\" и \"женат / замужем\", и заметно реже в сравнении с первой категорией клиенты категорий \"Не женат / не замужем\" и \"гражданский брак\", на 3% хуже.\n",
    "\n",
    "На основании таблицы 5 ,если рассматривать количество клиентов с задолжностью по возврату кредитов в разрезе семейного положения с разбивкой на возрастные категории, можно сделать следующий вывод: кроме категории \"вдовец / вдова\" у всех наблюдается одинаковая закономерность, вне зависимости от семейного положения, чем младше клиент, тем реже он выплачивает кредит в срок. В категории \"вдовец / вдова\" наблюдается немного обратная ситуация.\n",
    "\n",
    "На основании таблицы 6 ,если рассматривать количество клиентов с задолжностью по возврату кредитов в разрезе семейного положения с разбивкой половую принадлежность, можно сделать следующий вывод: во всех категориях наблюдается одна закономерность, клиенты мужского пола гораздо реже выплачивают кредит в срок, и ярче всего это наблюдается в категориях \"вдовец / вдова\" и \"Не женат / не замужем\".\n",
    "\n",
    "Подводя итог, можно сказать,  что зависимость между семейным положением и возвратом кредита в срок имеется, но гораздо сильнее выраженная у клиентов мужского пола.\n"
   ]
  },
  {
   "cell_type": "markdown",
   "metadata": {},
   "source": [
    "### 3.3. Есть ли зависимость между уровнем дохода и возвратом кредита в срок?\n",
    "<a id=\"3.3\"></a>"
   ]
  },
  {
   "cell_type": "markdown",
   "metadata": {},
   "source": [
    "Для формирования вывода повторно выведем необходимые таблицы, но с использованием метода pivot_table"
   ]
  },
  {
   "cell_type": "markdown",
   "metadata": {},
   "source": [
    "                                        Таблица 7"
   ]
  },
  {
   "cell_type": "markdown",
   "metadata": {},
   "source": [
    "Выведем сводную таблицу в которой сгруппируем клиентов по уровню дохода с количеством таких клиентов и суммой клиентов, имевших задолжность по возврату кредитов, при помощи метода pivot_table. Таблицу сохраним в переменной \"income_debt_pivot\""
   ]
  },
  {
   "cell_type": "code",
   "execution_count": 133,
   "metadata": {},
   "outputs": [],
   "source": [
    "income_debt_pivot = data_fin.pivot_table(\n",
    "    index=['income_level'], values='debt', aggfunc={'debt': ['sum', 'count']})"
   ]
  },
  {
   "cell_type": "markdown",
   "metadata": {},
   "source": [
    "Добавим столбец количества клиентов, имевших задолжность по возврату кредита в срок, по каждой категории, в процентом соотношении от общего количества клиентов. Выведем результат."
   ]
  },
  {
   "cell_type": "code",
   "execution_count": 134,
   "metadata": {},
   "outputs": [
    {
     "data": {
      "text/html": [
       "<div>\n",
       "<style scoped>\n",
       "    .dataframe tbody tr th:only-of-type {\n",
       "        vertical-align: middle;\n",
       "    }\n",
       "\n",
       "    .dataframe tbody tr th {\n",
       "        vertical-align: top;\n",
       "    }\n",
       "\n",
       "    .dataframe thead th {\n",
       "        text-align: right;\n",
       "    }\n",
       "</style>\n",
       "<table border=\"1\" class=\"dataframe\">\n",
       "  <thead>\n",
       "    <tr style=\"text-align: right;\">\n",
       "      <th></th>\n",
       "      <th>count</th>\n",
       "      <th>sum</th>\n",
       "      <th>debtors, %</th>\n",
       "    </tr>\n",
       "    <tr>\n",
       "      <th>income_level</th>\n",
       "      <th></th>\n",
       "      <th></th>\n",
       "      <th></th>\n",
       "    </tr>\n",
       "  </thead>\n",
       "  <tbody>\n",
       "    <tr>\n",
       "      <td>выше бедности</td>\n",
       "      <td>75</td>\n",
       "      <td>4</td>\n",
       "      <td>5.333333</td>\n",
       "    </tr>\n",
       "    <tr>\n",
       "      <td>состоятельные</td>\n",
       "      <td>197</td>\n",
       "      <td>12</td>\n",
       "      <td>6.091371</td>\n",
       "    </tr>\n",
       "    <tr>\n",
       "      <td>верхний средний класс</td>\n",
       "      <td>2592</td>\n",
       "      <td>180</td>\n",
       "      <td>6.944444</td>\n",
       "    </tr>\n",
       "    <tr>\n",
       "      <td>нижний средний класс</td>\n",
       "      <td>4406</td>\n",
       "      <td>352</td>\n",
       "      <td>7.989106</td>\n",
       "    </tr>\n",
       "    <tr>\n",
       "      <td>богатые</td>\n",
       "      <td>25</td>\n",
       "      <td>2</td>\n",
       "      <td>8.000000</td>\n",
       "    </tr>\n",
       "    <tr>\n",
       "      <td>средний класс</td>\n",
       "      <td>7161</td>\n",
       "      <td>607</td>\n",
       "      <td>8.476470</td>\n",
       "    </tr>\n",
       "    <tr>\n",
       "      <td>предсредний класс</td>\n",
       "      <td>6697</td>\n",
       "      <td>582</td>\n",
       "      <td>8.690458</td>\n",
       "    </tr>\n",
       "  </tbody>\n",
       "</table>\n",
       "</div>"
      ],
      "text/plain": [
       "                       count  sum  debtors, %\n",
       "income_level                                 \n",
       "выше бедности             75    4    5.333333\n",
       "состоятельные            197   12    6.091371\n",
       "верхний средний класс   2592  180    6.944444\n",
       "нижний средний класс    4406  352    7.989106\n",
       "богатые                   25    2    8.000000\n",
       "средний класс           7161  607    8.476470\n",
       "предсредний класс       6697  582    8.690458"
      ]
     },
     "metadata": {},
     "output_type": "display_data"
    }
   ],
   "source": [
    "income_debt_pivot['debtors, %'] = income_debt_pivot[\n",
    "    'sum'] * 100 / income_debt_pivot['count']\n",
    "display(income_debt_pivot.sort_values(by='debtors, %'))"
   ]
  },
  {
   "cell_type": "markdown",
   "metadata": {},
   "source": [
    "                                        Таблица 8"
   ]
  },
  {
   "cell_type": "markdown",
   "metadata": {},
   "source": [
    "Выведем сводную таблицу в которой сгруппируем клиентов по уровню дохода и типом занятости с количеством таких клиентов и суммой клиентов, имевших задолжность по возврату кредитов, при помощи метода pivot_table. Таблицу сохраним в переменной \"incomeType_debt_pivot\""
   ]
  },
  {
   "cell_type": "code",
   "execution_count": 135,
   "metadata": {},
   "outputs": [],
   "source": [
    "incomeType_debt_pivot = data_fin.pivot_table(\n",
    "    index=['income_level', 'income_type'], values='debt', aggfunc={'debt': ['sum', 'count']})"
   ]
  },
  {
   "cell_type": "markdown",
   "metadata": {},
   "source": [
    "Добавим столбец количества клиентов, имевших задолжность по возврату кредита в срок, по каждой категории, в процентом соотношении от общего количества клиентов. Выведем результат."
   ]
  },
  {
   "cell_type": "code",
   "execution_count": 136,
   "metadata": {},
   "outputs": [
    {
     "data": {
      "text/html": [
       "<div>\n",
       "<style scoped>\n",
       "    .dataframe tbody tr th:only-of-type {\n",
       "        vertical-align: middle;\n",
       "    }\n",
       "\n",
       "    .dataframe tbody tr th {\n",
       "        vertical-align: top;\n",
       "    }\n",
       "\n",
       "    .dataframe thead th {\n",
       "        text-align: right;\n",
       "    }\n",
       "</style>\n",
       "<table border=\"1\" class=\"dataframe\">\n",
       "  <thead>\n",
       "    <tr style=\"text-align: right;\">\n",
       "      <th></th>\n",
       "      <th></th>\n",
       "      <th>count</th>\n",
       "      <th>sum</th>\n",
       "      <th>debtors, %</th>\n",
       "    </tr>\n",
       "    <tr>\n",
       "      <th>income_level</th>\n",
       "      <th>income_type</th>\n",
       "      <th></th>\n",
       "      <th></th>\n",
       "      <th></th>\n",
       "    </tr>\n",
       "  </thead>\n",
       "  <tbody>\n",
       "    <tr>\n",
       "      <td rowspan=\"2\" valign=\"top\">богатые</td>\n",
       "      <td>компаньон</td>\n",
       "      <td>15</td>\n",
       "      <td>2</td>\n",
       "      <td>13.333333</td>\n",
       "    </tr>\n",
       "    <tr>\n",
       "      <td>сотрудник</td>\n",
       "      <td>10</td>\n",
       "      <td>0</td>\n",
       "      <td>0.000000</td>\n",
       "    </tr>\n",
       "    <tr>\n",
       "      <td rowspan=\"5\" valign=\"top\">верхний средний класс</td>\n",
       "      <td>госслужащий</td>\n",
       "      <td>194</td>\n",
       "      <td>9</td>\n",
       "      <td>4.639175</td>\n",
       "    </tr>\n",
       "    <tr>\n",
       "      <td>компаньон</td>\n",
       "      <td>974</td>\n",
       "      <td>59</td>\n",
       "      <td>6.057495</td>\n",
       "    </tr>\n",
       "    <tr>\n",
       "      <td>пенсионер</td>\n",
       "      <td>263</td>\n",
       "      <td>15</td>\n",
       "      <td>5.703422</td>\n",
       "    </tr>\n",
       "    <tr>\n",
       "      <td>предприниматель</td>\n",
       "      <td>2</td>\n",
       "      <td>0</td>\n",
       "      <td>0.000000</td>\n",
       "    </tr>\n",
       "    <tr>\n",
       "      <td>сотрудник</td>\n",
       "      <td>1159</td>\n",
       "      <td>97</td>\n",
       "      <td>8.369284</td>\n",
       "    </tr>\n",
       "    <tr>\n",
       "      <td rowspan=\"4\" valign=\"top\">выше бедности</td>\n",
       "      <td>госслужащий</td>\n",
       "      <td>3</td>\n",
       "      <td>0</td>\n",
       "      <td>0.000000</td>\n",
       "    </tr>\n",
       "    <tr>\n",
       "      <td>компаньон</td>\n",
       "      <td>5</td>\n",
       "      <td>0</td>\n",
       "      <td>0.000000</td>\n",
       "    </tr>\n",
       "    <tr>\n",
       "      <td>пенсионер</td>\n",
       "      <td>41</td>\n",
       "      <td>2</td>\n",
       "      <td>4.878049</td>\n",
       "    </tr>\n",
       "    <tr>\n",
       "      <td>сотрудник</td>\n",
       "      <td>26</td>\n",
       "      <td>2</td>\n",
       "      <td>7.692308</td>\n",
       "    </tr>\n",
       "    <tr>\n",
       "      <td rowspan=\"7\" valign=\"top\">нижний средний класс</td>\n",
       "      <td>безработный</td>\n",
       "      <td>1</td>\n",
       "      <td>1</td>\n",
       "      <td>100.000000</td>\n",
       "    </tr>\n",
       "    <tr>\n",
       "      <td>в декрете</td>\n",
       "      <td>1</td>\n",
       "      <td>1</td>\n",
       "      <td>100.000000</td>\n",
       "    </tr>\n",
       "    <tr>\n",
       "      <td>госслужащий</td>\n",
       "      <td>293</td>\n",
       "      <td>22</td>\n",
       "      <td>7.508532</td>\n",
       "    </tr>\n",
       "    <tr>\n",
       "      <td>компаньон</td>\n",
       "      <td>577</td>\n",
       "      <td>47</td>\n",
       "      <td>8.145581</td>\n",
       "    </tr>\n",
       "    <tr>\n",
       "      <td>пенсионер</td>\n",
       "      <td>1253</td>\n",
       "      <td>60</td>\n",
       "      <td>4.788508</td>\n",
       "    </tr>\n",
       "    <tr>\n",
       "      <td>сотрудник</td>\n",
       "      <td>2280</td>\n",
       "      <td>221</td>\n",
       "      <td>9.692982</td>\n",
       "    </tr>\n",
       "    <tr>\n",
       "      <td>студент</td>\n",
       "      <td>1</td>\n",
       "      <td>0</td>\n",
       "      <td>0.000000</td>\n",
       "    </tr>\n",
       "    <tr>\n",
       "      <td rowspan=\"4\" valign=\"top\">предсредний класс</td>\n",
       "      <td>госслужащий</td>\n",
       "      <td>440</td>\n",
       "      <td>26</td>\n",
       "      <td>5.909091</td>\n",
       "    </tr>\n",
       "    <tr>\n",
       "      <td>компаньон</td>\n",
       "      <td>1227</td>\n",
       "      <td>96</td>\n",
       "      <td>7.823961</td>\n",
       "    </tr>\n",
       "    <tr>\n",
       "      <td>пенсионер</td>\n",
       "      <td>1292</td>\n",
       "      <td>85</td>\n",
       "      <td>6.578947</td>\n",
       "    </tr>\n",
       "    <tr>\n",
       "      <td>сотрудник</td>\n",
       "      <td>3738</td>\n",
       "      <td>375</td>\n",
       "      <td>10.032103</td>\n",
       "    </tr>\n",
       "    <tr>\n",
       "      <td rowspan=\"4\" valign=\"top\">состоятельные</td>\n",
       "      <td>госслужащий</td>\n",
       "      <td>14</td>\n",
       "      <td>0</td>\n",
       "      <td>0.000000</td>\n",
       "    </tr>\n",
       "    <tr>\n",
       "      <td>компаньон</td>\n",
       "      <td>101</td>\n",
       "      <td>6</td>\n",
       "      <td>5.940594</td>\n",
       "    </tr>\n",
       "    <tr>\n",
       "      <td>пенсионер</td>\n",
       "      <td>19</td>\n",
       "      <td>0</td>\n",
       "      <td>0.000000</td>\n",
       "    </tr>\n",
       "    <tr>\n",
       "      <td>сотрудник</td>\n",
       "      <td>63</td>\n",
       "      <td>6</td>\n",
       "      <td>9.523810</td>\n",
       "    </tr>\n",
       "    <tr>\n",
       "      <td rowspan=\"5\" valign=\"top\">средний класс</td>\n",
       "      <td>безработный</td>\n",
       "      <td>1</td>\n",
       "      <td>0</td>\n",
       "      <td>0.000000</td>\n",
       "    </tr>\n",
       "    <tr>\n",
       "      <td>госслужащий</td>\n",
       "      <td>506</td>\n",
       "      <td>29</td>\n",
       "      <td>5.731225</td>\n",
       "    </tr>\n",
       "    <tr>\n",
       "      <td>компаньон</td>\n",
       "      <td>2138</td>\n",
       "      <td>166</td>\n",
       "      <td>7.764266</td>\n",
       "    </tr>\n",
       "    <tr>\n",
       "      <td>пенсионер</td>\n",
       "      <td>870</td>\n",
       "      <td>54</td>\n",
       "      <td>6.206897</td>\n",
       "    </tr>\n",
       "    <tr>\n",
       "      <td>сотрудник</td>\n",
       "      <td>3646</td>\n",
       "      <td>358</td>\n",
       "      <td>9.818980</td>\n",
       "    </tr>\n",
       "  </tbody>\n",
       "</table>\n",
       "</div>"
      ],
      "text/plain": [
       "                                       count  sum  debtors, %\n",
       "income_level          income_type                            \n",
       "богатые               компаньон           15    2   13.333333\n",
       "                      сотрудник           10    0    0.000000\n",
       "верхний средний класс госслужащий        194    9    4.639175\n",
       "                      компаньон          974   59    6.057495\n",
       "                      пенсионер          263   15    5.703422\n",
       "                      предприниматель      2    0    0.000000\n",
       "                      сотрудник         1159   97    8.369284\n",
       "выше бедности         госслужащий          3    0    0.000000\n",
       "                      компаньон            5    0    0.000000\n",
       "                      пенсионер           41    2    4.878049\n",
       "                      сотрудник           26    2    7.692308\n",
       "нижний средний класс  безработный          1    1  100.000000\n",
       "                      в декрете            1    1  100.000000\n",
       "                      госслужащий        293   22    7.508532\n",
       "                      компаньон          577   47    8.145581\n",
       "                      пенсионер         1253   60    4.788508\n",
       "                      сотрудник         2280  221    9.692982\n",
       "                      студент              1    0    0.000000\n",
       "предсредний класс     госслужащий        440   26    5.909091\n",
       "                      компаньон         1227   96    7.823961\n",
       "                      пенсионер         1292   85    6.578947\n",
       "                      сотрудник         3738  375   10.032103\n",
       "состоятельные         госслужащий         14    0    0.000000\n",
       "                      компаньон          101    6    5.940594\n",
       "                      пенсионер           19    0    0.000000\n",
       "                      сотрудник           63    6    9.523810\n",
       "средний класс         безработный          1    0    0.000000\n",
       "                      госслужащий        506   29    5.731225\n",
       "                      компаньон         2138  166    7.764266\n",
       "                      пенсионер          870   54    6.206897\n",
       "                      сотрудник         3646  358    9.818980"
      ]
     },
     "metadata": {},
     "output_type": "display_data"
    }
   ],
   "source": [
    "incomeType_debt_pivot['debtors, %'] = incomeType_debt_pivot[\n",
    "    'sum'] * 100 / incomeType_debt_pivot['count']\n",
    "display(incomeType_debt_pivot)"
   ]
  },
  {
   "cell_type": "markdown",
   "metadata": {},
   "source": [
    "#### Вывод"
   ]
  },
  {
   "cell_type": "markdown",
   "metadata": {},
   "source": [
    "На основании таблицы 7, если рассматривать количество клиентов с задолжностью по возврату кредитов только лишь в разрезе уровня дохода, можно сделать следующий вывод: сложно выделить определенную категорию клиентов, нет определенной закономерности в зависимости от уровня доходов, можно лишь выделить категорию \"выше бедности\", они чаще всего возвращают кредит в срок, но их количество слишком мало чтобы сказать с уверенностью что просматривается зависимость только лишь от показателя уровня дохода.\n",
    "\n",
    "На основании таблицы 8, если рассматривать количество клиентов с задолжностью по возврату кредитов в разрезе уровня дохода с разделением на категори по типу занятости, можно сделать следующий вывод: в разрезе уровня дохода не замечается особо выделенных категорий, но в разрезе по типу занятости видно, что заметно реже выплачивают кредит в срок клиенты в категорий \"компаньон\" и \"сотрудник\".\n",
    "\n",
    "Подводя итог, можно сказать, что зависисимости между уровнем дохода и возвратом кредита в срок нет, но четко просматривается зависимость от типа занятости."
   ]
  },
  {
   "cell_type": "markdown",
   "metadata": {},
   "source": [
    "### 3.4. Как разные цели кредита влияют на его возврат в срок?\n",
    "<a id=\"3.4\"></a>"
   ]
  },
  {
   "cell_type": "markdown",
   "metadata": {},
   "source": [
    "Для формирования вывода повторно выведем необходимые таблицы, но с использованием метода pivot_table"
   ]
  },
  {
   "cell_type": "markdown",
   "metadata": {},
   "source": [
    "                                        Таблица 9"
   ]
  },
  {
   "cell_type": "markdown",
   "metadata": {},
   "source": [
    "Выведем сводную таблицу в которой сгруппируем клиентов по цели получения кредита с количеством таких клиентов и суммой клиентов, имевших задолжность по возврату кредитов, при помощи метода pivot_table. Таблицу сохраним в переменной \"purpose_debt_pivot\""
   ]
  },
  {
   "cell_type": "code",
   "execution_count": 137,
   "metadata": {},
   "outputs": [],
   "source": [
    "purpose_debt_pivot = data_fin.pivot_table(\n",
    "    index=['purpose'], values='debt', aggfunc={'debt': ['sum', 'count']})"
   ]
  },
  {
   "cell_type": "markdown",
   "metadata": {},
   "source": [
    "Добавим столбец количества клиентов, имевших задолжность по возврату кредита в срок, по каждой категории, в процентом соотношении от общего количества клиентов. Выведем результат."
   ]
  },
  {
   "cell_type": "code",
   "execution_count": 138,
   "metadata": {},
   "outputs": [
    {
     "data": {
      "text/html": [
       "<div>\n",
       "<style scoped>\n",
       "    .dataframe tbody tr th:only-of-type {\n",
       "        vertical-align: middle;\n",
       "    }\n",
       "\n",
       "    .dataframe tbody tr th {\n",
       "        vertical-align: top;\n",
       "    }\n",
       "\n",
       "    .dataframe thead th {\n",
       "        text-align: right;\n",
       "    }\n",
       "</style>\n",
       "<table border=\"1\" class=\"dataframe\">\n",
       "  <thead>\n",
       "    <tr style=\"text-align: right;\">\n",
       "      <th></th>\n",
       "      <th>count</th>\n",
       "      <th>sum</th>\n",
       "      <th>debtors, %</th>\n",
       "    </tr>\n",
       "    <tr>\n",
       "      <th>purpose</th>\n",
       "      <th></th>\n",
       "      <th></th>\n",
       "      <th></th>\n",
       "    </tr>\n",
       "  </thead>\n",
       "  <tbody>\n",
       "    <tr>\n",
       "      <td>жилая недвижимость</td>\n",
       "      <td>9301</td>\n",
       "      <td>682</td>\n",
       "      <td>7.332545</td>\n",
       "    </tr>\n",
       "    <tr>\n",
       "      <td>коммерческая недвижимость</td>\n",
       "      <td>1311</td>\n",
       "      <td>99</td>\n",
       "      <td>7.551487</td>\n",
       "    </tr>\n",
       "    <tr>\n",
       "      <td>свадьба</td>\n",
       "      <td>2306</td>\n",
       "      <td>186</td>\n",
       "      <td>8.065915</td>\n",
       "    </tr>\n",
       "    <tr>\n",
       "      <td>образование</td>\n",
       "      <td>3964</td>\n",
       "      <td>370</td>\n",
       "      <td>9.334006</td>\n",
       "    </tr>\n",
       "    <tr>\n",
       "      <td>автомобиль</td>\n",
       "      <td>4271</td>\n",
       "      <td>402</td>\n",
       "      <td>9.412316</td>\n",
       "    </tr>\n",
       "  </tbody>\n",
       "</table>\n",
       "</div>"
      ],
      "text/plain": [
       "                           count  sum  debtors, %\n",
       "purpose                                          \n",
       "жилая недвижимость          9301  682    7.332545\n",
       "коммерческая недвижимость   1311   99    7.551487\n",
       "свадьба                     2306  186    8.065915\n",
       "образование                 3964  370    9.334006\n",
       "автомобиль                  4271  402    9.412316"
      ]
     },
     "metadata": {},
     "output_type": "display_data"
    }
   ],
   "source": [
    "purpose_debt_pivot['debtors, %'] = purpose_debt_pivot[\n",
    "    'sum'] * 100 / purpose_debt_pivot['count']\n",
    "display(purpose_debt_pivot.sort_values(by='debtors, %'))"
   ]
  },
  {
   "cell_type": "markdown",
   "metadata": {},
   "source": [
    "                                        Таблица 10"
   ]
  },
  {
   "cell_type": "markdown",
   "metadata": {},
   "source": [
    "Выведем сводную таблицу в которой сгруппируем клиентов по цели получения кредита, разделенных по возрастным категориям, с количеством таких клиентов и суммой клиентов, имевших задолжность по возврату кредитов, при помощи метода pivot_table. Таблицу сохраним в переменной \"purposeAge_debt_pivot\""
   ]
  },
  {
   "cell_type": "code",
   "execution_count": 139,
   "metadata": {},
   "outputs": [],
   "source": [
    "purposeAge_debt_pivot = data_fin.pivot_table(\n",
    "    index=['purpose', 'age_level'], values='debt', aggfunc={'debt': ['sum', 'count']})"
   ]
  },
  {
   "cell_type": "markdown",
   "metadata": {},
   "source": [
    "Добавим столбец количества клиентов, имевших задолжность по возврату кредита в срок, по каждой категории, в процентом соотношении от общего количества клиентов. Выведем результат."
   ]
  },
  {
   "cell_type": "code",
   "execution_count": 140,
   "metadata": {},
   "outputs": [
    {
     "data": {
      "text/html": [
       "<div>\n",
       "<style scoped>\n",
       "    .dataframe tbody tr th:only-of-type {\n",
       "        vertical-align: middle;\n",
       "    }\n",
       "\n",
       "    .dataframe tbody tr th {\n",
       "        vertical-align: top;\n",
       "    }\n",
       "\n",
       "    .dataframe thead th {\n",
       "        text-align: right;\n",
       "    }\n",
       "</style>\n",
       "<table border=\"1\" class=\"dataframe\">\n",
       "  <thead>\n",
       "    <tr style=\"text-align: right;\">\n",
       "      <th></th>\n",
       "      <th></th>\n",
       "      <th>count</th>\n",
       "      <th>sum</th>\n",
       "      <th>debtors, %</th>\n",
       "    </tr>\n",
       "    <tr>\n",
       "      <th>purpose</th>\n",
       "      <th>age_level</th>\n",
       "      <th></th>\n",
       "      <th></th>\n",
       "      <th></th>\n",
       "    </tr>\n",
       "  </thead>\n",
       "  <tbody>\n",
       "    <tr>\n",
       "      <td rowspan=\"5\" valign=\"top\">автомобиль</td>\n",
       "      <td>до 30</td>\n",
       "      <td>595</td>\n",
       "      <td>76</td>\n",
       "      <td>12.773109</td>\n",
       "    </tr>\n",
       "    <tr>\n",
       "      <td>от 30 до 40</td>\n",
       "      <td>1151</td>\n",
       "      <td>137</td>\n",
       "      <td>11.902693</td>\n",
       "    </tr>\n",
       "    <tr>\n",
       "      <td>от 40 до 50</td>\n",
       "      <td>1079</td>\n",
       "      <td>91</td>\n",
       "      <td>8.433735</td>\n",
       "    </tr>\n",
       "    <tr>\n",
       "      <td>от 50 до 60</td>\n",
       "      <td>923</td>\n",
       "      <td>65</td>\n",
       "      <td>7.042254</td>\n",
       "    </tr>\n",
       "    <tr>\n",
       "      <td>от 60</td>\n",
       "      <td>523</td>\n",
       "      <td>33</td>\n",
       "      <td>6.309751</td>\n",
       "    </tr>\n",
       "    <tr>\n",
       "      <td rowspan=\"5\" valign=\"top\">жилая недвижимость</td>\n",
       "      <td>до 30</td>\n",
       "      <td>1419</td>\n",
       "      <td>144</td>\n",
       "      <td>10.147992</td>\n",
       "    </tr>\n",
       "    <tr>\n",
       "      <td>от 30 до 40</td>\n",
       "      <td>2504</td>\n",
       "      <td>214</td>\n",
       "      <td>8.546326</td>\n",
       "    </tr>\n",
       "    <tr>\n",
       "      <td>от 40 до 50</td>\n",
       "      <td>2335</td>\n",
       "      <td>158</td>\n",
       "      <td>6.766595</td>\n",
       "    </tr>\n",
       "    <tr>\n",
       "      <td>от 50 до 60</td>\n",
       "      <td>1999</td>\n",
       "      <td>121</td>\n",
       "      <td>6.053027</td>\n",
       "    </tr>\n",
       "    <tr>\n",
       "      <td>от 60</td>\n",
       "      <td>1044</td>\n",
       "      <td>45</td>\n",
       "      <td>4.310345</td>\n",
       "    </tr>\n",
       "    <tr>\n",
       "      <td rowspan=\"5\" valign=\"top\">коммерческая недвижимость</td>\n",
       "      <td>до 30</td>\n",
       "      <td>202</td>\n",
       "      <td>19</td>\n",
       "      <td>9.405941</td>\n",
       "    </tr>\n",
       "    <tr>\n",
       "      <td>от 30 до 40</td>\n",
       "      <td>344</td>\n",
       "      <td>27</td>\n",
       "      <td>7.848837</td>\n",
       "    </tr>\n",
       "    <tr>\n",
       "      <td>от 40 до 50</td>\n",
       "      <td>325</td>\n",
       "      <td>30</td>\n",
       "      <td>9.230769</td>\n",
       "    </tr>\n",
       "    <tr>\n",
       "      <td>от 50 до 60</td>\n",
       "      <td>278</td>\n",
       "      <td>17</td>\n",
       "      <td>6.115108</td>\n",
       "    </tr>\n",
       "    <tr>\n",
       "      <td>от 60</td>\n",
       "      <td>162</td>\n",
       "      <td>6</td>\n",
       "      <td>3.703704</td>\n",
       "    </tr>\n",
       "    <tr>\n",
       "      <td rowspan=\"5\" valign=\"top\">образование</td>\n",
       "      <td>до 30</td>\n",
       "      <td>600</td>\n",
       "      <td>78</td>\n",
       "      <td>13.000000</td>\n",
       "    </tr>\n",
       "    <tr>\n",
       "      <td>от 30 до 40</td>\n",
       "      <td>1051</td>\n",
       "      <td>117</td>\n",
       "      <td>11.132255</td>\n",
       "    </tr>\n",
       "    <tr>\n",
       "      <td>от 40 до 50</td>\n",
       "      <td>961</td>\n",
       "      <td>81</td>\n",
       "      <td>8.428720</td>\n",
       "    </tr>\n",
       "    <tr>\n",
       "      <td>от 50 до 60</td>\n",
       "      <td>878</td>\n",
       "      <td>66</td>\n",
       "      <td>7.517084</td>\n",
       "    </tr>\n",
       "    <tr>\n",
       "      <td>от 60</td>\n",
       "      <td>474</td>\n",
       "      <td>28</td>\n",
       "      <td>5.907173</td>\n",
       "    </tr>\n",
       "    <tr>\n",
       "      <td rowspan=\"5\" valign=\"top\">свадьба</td>\n",
       "      <td>до 30</td>\n",
       "      <td>342</td>\n",
       "      <td>32</td>\n",
       "      <td>9.356725</td>\n",
       "    </tr>\n",
       "    <tr>\n",
       "      <td>от 30 до 40</td>\n",
       "      <td>633</td>\n",
       "      <td>62</td>\n",
       "      <td>9.794629</td>\n",
       "    </tr>\n",
       "    <tr>\n",
       "      <td>от 40 до 50</td>\n",
       "      <td>578</td>\n",
       "      <td>44</td>\n",
       "      <td>7.612457</td>\n",
       "    </tr>\n",
       "    <tr>\n",
       "      <td>от 50 до 60</td>\n",
       "      <td>489</td>\n",
       "      <td>36</td>\n",
       "      <td>7.361963</td>\n",
       "    </tr>\n",
       "    <tr>\n",
       "      <td>от 60</td>\n",
       "      <td>264</td>\n",
       "      <td>12</td>\n",
       "      <td>4.545455</td>\n",
       "    </tr>\n",
       "  </tbody>\n",
       "</table>\n",
       "</div>"
      ],
      "text/plain": [
       "                                       count  sum  debtors, %\n",
       "purpose                   age_level                          \n",
       "автомобиль                до 30          595   76   12.773109\n",
       "                          от 30 до 40   1151  137   11.902693\n",
       "                          от 40 до 50   1079   91    8.433735\n",
       "                          от 50 до 60    923   65    7.042254\n",
       "                          от 60          523   33    6.309751\n",
       "жилая недвижимость        до 30         1419  144   10.147992\n",
       "                          от 30 до 40   2504  214    8.546326\n",
       "                          от 40 до 50   2335  158    6.766595\n",
       "                          от 50 до 60   1999  121    6.053027\n",
       "                          от 60         1044   45    4.310345\n",
       "коммерческая недвижимость до 30          202   19    9.405941\n",
       "                          от 30 до 40    344   27    7.848837\n",
       "                          от 40 до 50    325   30    9.230769\n",
       "                          от 50 до 60    278   17    6.115108\n",
       "                          от 60          162    6    3.703704\n",
       "образование               до 30          600   78   13.000000\n",
       "                          от 30 до 40   1051  117   11.132255\n",
       "                          от 40 до 50    961   81    8.428720\n",
       "                          от 50 до 60    878   66    7.517084\n",
       "                          от 60          474   28    5.907173\n",
       "свадьба                   до 30          342   32    9.356725\n",
       "                          от 30 до 40    633   62    9.794629\n",
       "                          от 40 до 50    578   44    7.612457\n",
       "                          от 50 до 60    489   36    7.361963\n",
       "                          от 60          264   12    4.545455"
      ]
     },
     "metadata": {},
     "output_type": "display_data"
    }
   ],
   "source": [
    "purposeAge_debt_pivot['debtors, %'] = purposeAge_debt_pivot[\n",
    "    'sum'] * 100 / purposeAge_debt_pivot['count']\n",
    "display(purposeAge_debt_pivot)"
   ]
  },
  {
   "cell_type": "markdown",
   "metadata": {},
   "source": [
    "#### Вывод"
   ]
  },
  {
   "cell_type": "markdown",
   "metadata": {},
   "source": [
    "На основании таблицы 9 ,если рассматривать количество клиентов с задолжностью по возврату кредитов только лишь в разрезе целей кредита, можно сделать следующий вывод: просматривается минимальная зависимость, чаще всего платят клиенты с целью кредита на недвижимость, немного реже на свадьбу, и еще реже на автомобиль и образование. Но разница между крайними целями всего 2 %.\n",
    "\n",
    "На основании таблицы 10 ,если рассматривать количество клиентов с задолжностью по возврату кредитов  в разрезе целей кредита с разделением на возрастные группы, можно увидеть ту же закономерность. Но кроме этого отчетливо видно, что чем моложе клиент, тем реже он выплачивает кредит в срок.\n",
    "\n",
    "Подводя итог, можно сказать, что разные цели кредита влияют на его возврат в срок не значительно, горазно ярче зависимость видна при разделении клиентов по возрастным категориям."
   ]
  },
  {
   "cell_type": "markdown",
   "metadata": {},
   "source": [
    "## 4. Заключение\n",
    "<a id=\"4\"></a>"
   ]
  },
  {
   "cell_type": "markdown",
   "metadata": {},
   "source": [
    "В части 1 изучили общую информацию, подробный вывод сделан в пункте 1.2. В части 2 выполнили предобработку данных, подробный вывод сделан после каждого подпункта. В части 3 ответили на 4 поставленных вопроса, подробный вывод сделан после каждого подпункта.\n",
    "\n",
    "Зависимость возврата кредитов в срок от количества детей все же имееется, хоть и не явно выраженная.\n",
    "Чем больше у клиента детей, тем меньше вероятность что клиент вернет кредит в срок.\n",
    "Зависимость между семейным положением и возвратом кредита в срок имеется, но гораздо сильнее выраженная у клиентов мужского пола. Чаще всего в срок возвращают кредит клиенты категории \"вдовец / вдова\", чуть более реже клиенты категорий \"в разводе\" и \"женат / замужем\", и заметно реже в сравнении с первой категорией клиенты категорий \"Не женат / не замужем\" и \"гражданский брак\", на 3% хуже.\n",
    "Зависисимости между уровнем дохода и возвратом кредита в срок нет, но четко просматривается зависимость от типа занятости. Заметно реже выплачивают кредит в срок клиенты в категорий \"компаньон\" и \"сотрудник\".\n",
    "Разные цели кредита влияют на его возврат в срок, просматривается минимальная зависимость, чаще всего платят клиенты с целью кредита на недвижимость, немного реже на свадьбу, и еще реже на автомобиль и образование. Но разница между крайними целями всего 2 %. Но кроме этого отчетливо видно, что чем моложе клиент, тем реже он выплачивает кредит в срок."
   ]
  }
 ],
 "metadata": {
  "ExecuteTimeLog": [
   {
    "duration": 903,
    "start_time": "2021-07-30T18:20:39.370Z"
   },
   {
    "duration": 32,
    "start_time": "2021-07-30T18:20:40.283Z"
   },
   {
    "duration": 20,
    "start_time": "2021-07-30T18:20:40.320Z"
   },
   {
    "duration": 47,
    "start_time": "2021-07-30T18:20:40.344Z"
   },
   {
    "duration": 10,
    "start_time": "2021-07-30T18:20:40.394Z"
   },
   {
    "duration": 11,
    "start_time": "2021-07-30T18:20:40.407Z"
   },
   {
    "duration": 62,
    "start_time": "2021-07-30T18:20:40.421Z"
   },
   {
    "duration": 14,
    "start_time": "2021-07-30T18:20:40.489Z"
   },
   {
    "duration": 8,
    "start_time": "2021-07-30T18:20:40.506Z"
   },
   {
    "duration": 9,
    "start_time": "2021-07-30T18:20:40.516Z"
   },
   {
    "duration": 60,
    "start_time": "2021-07-30T18:20:40.527Z"
   },
   {
    "duration": 8,
    "start_time": "2021-07-30T18:20:40.590Z"
   },
   {
    "duration": 9,
    "start_time": "2021-07-30T18:20:40.601Z"
   },
   {
    "duration": 13,
    "start_time": "2021-07-30T18:20:40.612Z"
   },
   {
    "duration": 6,
    "start_time": "2021-07-30T18:20:40.683Z"
   },
   {
    "duration": 6,
    "start_time": "2021-07-30T18:20:40.692Z"
   },
   {
    "duration": 24254,
    "start_time": "2021-07-30T18:20:40.701Z"
   },
   {
    "duration": 9,
    "start_time": "2021-07-30T18:21:04.958Z"
   },
   {
    "duration": 9,
    "start_time": "2021-07-30T18:21:04.983Z"
   },
   {
    "duration": 9,
    "start_time": "2021-07-30T18:21:04.995Z"
   },
   {
    "duration": 10,
    "start_time": "2021-07-30T18:21:05.007Z"
   },
   {
    "duration": 61,
    "start_time": "2021-07-30T18:21:05.020Z"
   },
   {
    "duration": 11,
    "start_time": "2021-07-30T18:21:05.089Z"
   },
   {
    "duration": 10,
    "start_time": "2021-07-30T18:21:05.105Z"
   },
   {
    "duration": 10,
    "start_time": "2021-07-30T18:21:05.117Z"
   },
   {
    "duration": 55,
    "start_time": "2021-07-30T18:21:05.129Z"
   },
   {
    "duration": 11,
    "start_time": "2021-07-30T18:21:05.186Z"
   },
   {
    "duration": 14,
    "start_time": "2021-07-30T18:21:05.199Z"
   },
   {
    "duration": 8,
    "start_time": "2021-07-30T18:21:05.216Z"
   },
   {
    "duration": 57,
    "start_time": "2021-07-30T18:21:05.227Z"
   },
   {
    "duration": 12,
    "start_time": "2021-07-30T18:21:05.287Z"
   },
   {
    "duration": 9,
    "start_time": "2021-07-30T18:21:05.301Z"
   },
   {
    "duration": 8,
    "start_time": "2021-07-30T18:21:05.313Z"
   },
   {
    "duration": 79,
    "start_time": "2021-07-30T18:21:05.324Z"
   },
   {
    "duration": 11,
    "start_time": "2021-07-30T18:21:05.405Z"
   },
   {
    "duration": 10,
    "start_time": "2021-07-30T18:21:05.419Z"
   },
   {
    "duration": 7,
    "start_time": "2021-07-30T18:21:05.431Z"
   },
   {
    "duration": 46,
    "start_time": "2021-07-30T18:21:05.441Z"
   },
   {
    "duration": 7,
    "start_time": "2021-07-30T18:21:05.490Z"
   },
   {
    "duration": 8,
    "start_time": "2021-07-30T18:21:05.499Z"
   },
   {
    "duration": 10,
    "start_time": "2021-07-30T18:21:05.509Z"
   },
   {
    "duration": 62,
    "start_time": "2021-07-30T18:21:05.522Z"
   },
   {
    "duration": 7,
    "start_time": "2021-07-30T18:21:05.587Z"
   },
   {
    "duration": 9,
    "start_time": "2021-07-30T18:21:05.597Z"
   },
   {
    "duration": 13,
    "start_time": "2021-07-30T18:21:05.608Z"
   },
   {
    "duration": 5,
    "start_time": "2021-07-30T18:21:05.623Z"
   },
   {
    "duration": 52,
    "start_time": "2021-07-30T18:21:05.630Z"
   },
   {
    "duration": 11,
    "start_time": "2021-07-30T18:21:05.685Z"
   },
   {
    "duration": 10,
    "start_time": "2021-07-30T18:21:05.699Z"
   },
   {
    "duration": 9,
    "start_time": "2021-07-30T18:21:05.711Z"
   },
   {
    "duration": 61,
    "start_time": "2021-07-30T18:21:05.722Z"
   },
   {
    "duration": 9,
    "start_time": "2021-07-30T18:21:05.786Z"
   },
   {
    "duration": 11,
    "start_time": "2021-07-30T18:21:05.797Z"
   },
   {
    "duration": 6,
    "start_time": "2021-07-30T18:21:05.810Z"
   },
   {
    "duration": 10,
    "start_time": "2021-07-30T18:21:05.818Z"
   },
   {
    "duration": 54,
    "start_time": "2021-07-30T18:21:05.830Z"
   },
   {
    "duration": 10,
    "start_time": "2021-07-30T18:21:05.886Z"
   },
   {
    "duration": 12,
    "start_time": "2021-07-30T18:21:05.898Z"
   },
   {
    "duration": 12,
    "start_time": "2021-07-30T18:21:05.912Z"
   },
   {
    "duration": 10,
    "start_time": "2021-07-30T18:21:05.927Z"
   },
   {
    "duration": 50,
    "start_time": "2021-07-30T18:21:05.939Z"
   },
   {
    "duration": 8,
    "start_time": "2021-07-30T18:21:05.992Z"
   },
   {
    "duration": 9,
    "start_time": "2021-07-30T18:21:06.002Z"
   },
   {
    "duration": 14,
    "start_time": "2021-07-30T18:21:06.013Z"
   },
   {
    "duration": 56,
    "start_time": "2021-07-30T18:21:06.029Z"
   },
   {
    "duration": 14,
    "start_time": "2021-07-30T18:21:06.087Z"
   },
   {
    "duration": 8,
    "start_time": "2021-07-30T18:21:06.103Z"
   },
   {
    "duration": 13,
    "start_time": "2021-07-30T18:21:06.123Z"
   },
   {
    "duration": 42,
    "start_time": "2021-07-30T18:21:06.140Z"
   },
   {
    "duration": 21,
    "start_time": "2021-07-30T18:21:06.185Z"
   },
   {
    "duration": 12,
    "start_time": "2021-07-30T18:21:06.208Z"
   },
   {
    "duration": 60,
    "start_time": "2021-07-30T18:21:06.223Z"
   },
   {
    "duration": 7,
    "start_time": "2021-07-30T18:21:06.285Z"
   },
   {
    "duration": 21,
    "start_time": "2021-07-30T18:21:06.294Z"
   },
   {
    "duration": 21,
    "start_time": "2021-07-30T18:21:06.317Z"
   },
   {
    "duration": 49,
    "start_time": "2021-07-30T18:21:06.340Z"
   },
   {
    "duration": 32,
    "start_time": "2021-07-30T18:21:06.391Z"
   },
   {
    "duration": 7,
    "start_time": "2021-07-30T18:21:06.426Z"
   },
   {
    "duration": 49,
    "start_time": "2021-07-30T18:21:06.435Z"
   },
   {
    "duration": 35,
    "start_time": "2021-07-30T18:21:06.487Z"
   },
   {
    "duration": 16,
    "start_time": "2021-07-30T18:21:06.525Z"
   },
   {
    "duration": 4846,
    "start_time": "2021-07-30T18:21:06.543Z"
   },
   {
    "duration": 20,
    "start_time": "2021-07-30T18:21:11.392Z"
   },
   {
    "duration": 499,
    "start_time": "2021-07-30T18:21:11.415Z"
   },
   {
    "duration": 10,
    "start_time": "2021-07-30T18:21:11.916Z"
   },
   {
    "duration": 22,
    "start_time": "2021-07-30T18:21:11.928Z"
   },
   {
    "duration": 15,
    "start_time": "2021-07-30T18:21:11.982Z"
   },
   {
    "duration": 24,
    "start_time": "2021-07-30T18:21:12.000Z"
   },
   {
    "duration": 65,
    "start_time": "2021-07-30T18:21:12.027Z"
   },
   {
    "duration": 8,
    "start_time": "2021-07-30T18:21:12.095Z"
   },
   {
    "duration": 36,
    "start_time": "2021-07-30T18:21:12.106Z"
   },
   {
    "duration": 5,
    "start_time": "2021-07-30T18:21:12.144Z"
   },
   {
    "duration": 13,
    "start_time": "2021-07-30T18:21:12.182Z"
   },
   {
    "duration": 18,
    "start_time": "2021-07-30T18:21:12.198Z"
   },
   {
    "duration": 32,
    "start_time": "2021-07-30T18:21:12.219Z"
   },
   {
    "duration": 32,
    "start_time": "2021-07-30T18:21:12.254Z"
   },
   {
    "duration": 32,
    "start_time": "2021-07-30T18:21:12.290Z"
   },
   {
    "duration": 4,
    "start_time": "2021-07-30T18:21:12.325Z"
   },
   {
    "duration": 54,
    "start_time": "2021-07-30T18:21:12.332Z"
   },
   {
    "duration": 22,
    "start_time": "2021-07-30T18:21:12.389Z"
   },
   {
    "duration": 15,
    "start_time": "2021-07-30T18:21:12.413Z"
   },
   {
    "duration": 56,
    "start_time": "2021-07-30T18:21:12.431Z"
   },
   {
    "duration": 15,
    "start_time": "2021-07-30T18:21:12.490Z"
   },
   {
    "duration": 25,
    "start_time": "2021-07-30T18:21:12.508Z"
   },
   {
    "duration": 53,
    "start_time": "2021-07-30T18:21:12.536Z"
   },
   {
    "duration": 31,
    "start_time": "2021-07-30T18:21:12.591Z"
   },
   {
    "duration": 21,
    "start_time": "2021-07-30T18:21:12.626Z"
   },
   {
    "duration": 63,
    "start_time": "2021-07-30T18:21:12.650Z"
   },
   {
    "duration": 17,
    "start_time": "2021-07-30T18:21:12.717Z"
   },
   {
    "duration": 55,
    "start_time": "2021-07-30T18:21:12.737Z"
   },
   {
    "duration": 16,
    "start_time": "2021-07-30T18:21:12.795Z"
   },
   {
    "duration": 25,
    "start_time": "2021-07-30T18:21:12.814Z"
   },
   {
    "duration": 46,
    "start_time": "2021-07-30T18:21:12.842Z"
   },
   {
    "duration": 24,
    "start_time": "2021-07-30T18:21:12.891Z"
   },
   {
    "duration": 17,
    "start_time": "2021-07-30T18:21:12.918Z"
   },
   {
    "duration": 66,
    "start_time": "2021-07-30T18:21:12.938Z"
   },
   {
    "duration": 24,
    "start_time": "2021-07-30T18:21:13.007Z"
   },
   {
    "duration": 23,
    "start_time": "2021-07-30T18:21:13.034Z"
   },
   {
    "duration": 14,
    "start_time": "2021-07-30T18:21:13.084Z"
   },
   {
    "duration": 26,
    "start_time": "2021-07-30T18:21:13.100Z"
   },
   {
    "duration": 54,
    "start_time": "2021-07-30T18:21:13.128Z"
   },
   {
    "duration": 14,
    "start_time": "2021-07-30T18:21:13.185Z"
   },
   {
    "duration": 8,
    "start_time": "2021-07-30T18:21:13.202Z"
   },
   {
    "duration": 35,
    "start_time": "2021-07-30T18:21:13.212Z"
   },
   {
    "duration": 37,
    "start_time": "2021-07-30T18:21:13.249Z"
   },
   {
    "duration": 7,
    "start_time": "2021-07-30T18:21:13.288Z"
   },
   {
    "duration": 48,
    "start_time": "2021-07-30T18:21:13.298Z"
   },
   {
    "duration": 15,
    "start_time": "2021-07-30T18:21:13.349Z"
   },
   {
    "duration": 7,
    "start_time": "2021-07-30T18:21:13.366Z"
   },
   {
    "duration": 22,
    "start_time": "2021-07-30T18:21:13.383Z"
   },
   {
    "duration": 12,
    "start_time": "2021-07-30T18:21:13.408Z"
   },
   {
    "duration": 8,
    "start_time": "2021-07-30T18:21:13.423Z"
   },
   {
    "duration": 65,
    "start_time": "2021-07-30T18:21:13.434Z"
   },
   {
    "duration": 15,
    "start_time": "2021-07-30T18:21:13.502Z"
   },
   {
    "duration": 9,
    "start_time": "2021-07-30T18:21:13.520Z"
   },
   {
    "duration": 28,
    "start_time": "2021-07-30T18:21:13.532Z"
   },
   {
    "duration": 29,
    "start_time": "2021-07-30T18:21:13.563Z"
   },
   {
    "duration": 11,
    "start_time": "2021-07-30T18:21:13.594Z"
   },
   {
    "duration": 28,
    "start_time": "2021-07-30T18:21:13.607Z"
   },
   {
    "duration": 13,
    "start_time": "2021-07-30T18:21:13.637Z"
   },
   {
    "duration": 6,
    "start_time": "2021-07-30T18:21:13.652Z"
   },
   {
    "duration": 26,
    "start_time": "2021-07-30T18:21:13.684Z"
   },
   {
    "duration": 16,
    "start_time": "2021-07-30T18:21:13.712Z"
   },
   {
    "duration": 12,
    "start_time": "2021-07-30T18:21:13.731Z"
   },
   {
    "duration": 50,
    "start_time": "2021-07-30T18:21:13.746Z"
   },
   {
    "duration": 12,
    "start_time": "2021-07-30T18:21:13.798Z"
   },
   {
    "duration": 7,
    "start_time": "2021-07-30T18:21:13.812Z"
   },
   {
    "duration": 28,
    "start_time": "2021-07-30T18:21:13.821Z"
   },
   {
    "duration": 40,
    "start_time": "2021-07-30T18:21:13.851Z"
   },
   {
    "duration": 4,
    "start_time": "2021-07-30T18:21:13.894Z"
   },
   {
    "duration": 905,
    "start_time": "2021-07-30T18:39:16.412Z"
   },
   {
    "duration": 29,
    "start_time": "2021-07-30T18:39:17.320Z"
   },
   {
    "duration": 24,
    "start_time": "2021-07-30T18:39:17.384Z"
   },
   {
    "duration": 10,
    "start_time": "2021-07-30T18:39:17.411Z"
   },
   {
    "duration": 8,
    "start_time": "2021-07-30T18:39:17.423Z"
   },
   {
    "duration": 57,
    "start_time": "2021-07-30T18:39:17.434Z"
   },
   {
    "duration": 10,
    "start_time": "2021-07-30T18:39:17.497Z"
   },
   {
    "duration": 10,
    "start_time": "2021-07-30T18:39:17.510Z"
   },
   {
    "duration": 9,
    "start_time": "2021-07-30T18:39:17.522Z"
   },
   {
    "duration": 56,
    "start_time": "2021-07-30T18:39:17.533Z"
   },
   {
    "duration": 12,
    "start_time": "2021-07-30T18:39:17.593Z"
   },
   {
    "duration": 8,
    "start_time": "2021-07-30T18:39:17.607Z"
   },
   {
    "duration": 10,
    "start_time": "2021-07-30T18:39:17.617Z"
   },
   {
    "duration": 54,
    "start_time": "2021-07-30T18:39:17.629Z"
   },
   {
    "duration": 9,
    "start_time": "2021-07-30T18:39:17.685Z"
   },
   {
    "duration": 6,
    "start_time": "2021-07-30T18:39:17.699Z"
   },
   {
    "duration": 25799,
    "start_time": "2021-07-30T18:39:17.708Z"
   },
   {
    "duration": 7,
    "start_time": "2021-07-30T18:39:43.509Z"
   },
   {
    "duration": 8,
    "start_time": "2021-07-30T18:39:43.519Z"
   },
   {
    "duration": 8,
    "start_time": "2021-07-30T18:39:43.529Z"
   },
   {
    "duration": 54,
    "start_time": "2021-07-30T18:39:43.539Z"
   },
   {
    "duration": 9,
    "start_time": "2021-07-30T18:39:43.602Z"
   },
   {
    "duration": 9,
    "start_time": "2021-07-30T18:39:43.615Z"
   },
   {
    "duration": 7,
    "start_time": "2021-07-30T18:39:43.627Z"
   },
   {
    "duration": 8,
    "start_time": "2021-07-30T18:39:43.636Z"
   },
   {
    "duration": 41,
    "start_time": "2021-07-30T18:39:43.647Z"
   },
   {
    "duration": 14,
    "start_time": "2021-07-30T18:39:43.692Z"
   },
   {
    "duration": 15,
    "start_time": "2021-07-30T18:39:43.709Z"
   },
   {
    "duration": 9,
    "start_time": "2021-07-30T18:39:43.726Z"
   },
   {
    "duration": 15,
    "start_time": "2021-07-30T18:39:43.783Z"
   },
   {
    "duration": 10,
    "start_time": "2021-07-30T18:39:43.801Z"
   },
   {
    "duration": 7,
    "start_time": "2021-07-30T18:39:43.814Z"
   },
   {
    "duration": 7,
    "start_time": "2021-07-30T18:39:43.824Z"
   },
   {
    "duration": 73,
    "start_time": "2021-07-30T18:39:43.834Z"
   },
   {
    "duration": 12,
    "start_time": "2021-07-30T18:39:43.909Z"
   },
   {
    "duration": 9,
    "start_time": "2021-07-30T18:39:43.923Z"
   },
   {
    "duration": 8,
    "start_time": "2021-07-30T18:39:43.934Z"
   },
   {
    "duration": 45,
    "start_time": "2021-07-30T18:39:43.944Z"
   },
   {
    "duration": 10,
    "start_time": "2021-07-30T18:39:43.992Z"
   },
   {
    "duration": 9,
    "start_time": "2021-07-30T18:39:44.004Z"
   },
   {
    "duration": 11,
    "start_time": "2021-07-30T18:39:44.016Z"
   },
   {
    "duration": 56,
    "start_time": "2021-07-30T18:39:44.029Z"
   },
   {
    "duration": 12,
    "start_time": "2021-07-30T18:39:44.088Z"
   },
   {
    "duration": 15,
    "start_time": "2021-07-30T18:39:44.102Z"
   },
   {
    "duration": 8,
    "start_time": "2021-07-30T18:39:44.119Z"
   },
   {
    "duration": 5,
    "start_time": "2021-07-30T18:39:44.129Z"
   },
   {
    "duration": 48,
    "start_time": "2021-07-30T18:39:44.137Z"
   },
   {
    "duration": 17,
    "start_time": "2021-07-30T18:39:44.188Z"
   },
   {
    "duration": 10,
    "start_time": "2021-07-30T18:39:44.207Z"
   },
   {
    "duration": 8,
    "start_time": "2021-07-30T18:39:44.219Z"
   },
   {
    "duration": 9,
    "start_time": "2021-07-30T18:39:44.229Z"
   },
   {
    "duration": 49,
    "start_time": "2021-07-30T18:39:44.240Z"
   },
   {
    "duration": 14,
    "start_time": "2021-07-30T18:39:44.293Z"
   },
   {
    "duration": 5,
    "start_time": "2021-07-30T18:39:44.310Z"
   },
   {
    "duration": 10,
    "start_time": "2021-07-30T18:39:44.318Z"
   },
   {
    "duration": 4,
    "start_time": "2021-07-30T18:39:44.331Z"
   },
   {
    "duration": 47,
    "start_time": "2021-07-30T18:39:44.337Z"
   },
   {
    "duration": 8,
    "start_time": "2021-07-30T18:39:44.387Z"
   },
   {
    "duration": 8,
    "start_time": "2021-07-30T18:39:44.399Z"
   },
   {
    "duration": 10,
    "start_time": "2021-07-30T18:39:44.410Z"
   },
   {
    "duration": 61,
    "start_time": "2021-07-30T18:39:44.424Z"
   },
   {
    "duration": 14,
    "start_time": "2021-07-30T18:39:44.489Z"
   },
   {
    "duration": 8,
    "start_time": "2021-07-30T18:39:44.505Z"
   },
   {
    "duration": 17,
    "start_time": "2021-07-30T18:39:44.515Z"
   },
   {
    "duration": 8,
    "start_time": "2021-07-30T18:39:44.534Z"
   },
   {
    "duration": 45,
    "start_time": "2021-07-30T18:39:44.544Z"
   },
   {
    "duration": 5,
    "start_time": "2021-07-30T18:39:44.603Z"
   },
   {
    "duration": 14,
    "start_time": "2021-07-30T18:39:44.612Z"
   },
   {
    "duration": 13,
    "start_time": "2021-07-30T18:39:44.628Z"
   },
   {
    "duration": 23,
    "start_time": "2021-07-30T18:39:44.685Z"
   },
   {
    "duration": 14,
    "start_time": "2021-07-30T18:39:44.711Z"
   },
   {
    "duration": 16,
    "start_time": "2021-07-30T18:39:44.728Z"
   },
   {
    "duration": 42,
    "start_time": "2021-07-30T18:39:44.747Z"
   },
   {
    "duration": 17,
    "start_time": "2021-07-30T18:39:44.793Z"
   },
   {
    "duration": 20,
    "start_time": "2021-07-30T18:39:44.813Z"
   },
   {
    "duration": 59,
    "start_time": "2021-07-30T18:39:44.835Z"
   },
   {
    "duration": 35,
    "start_time": "2021-07-30T18:39:44.897Z"
   },
   {
    "duration": 7,
    "start_time": "2021-07-30T18:39:44.934Z"
   },
   {
    "duration": 53,
    "start_time": "2021-07-30T18:39:44.943Z"
   },
   {
    "duration": 44,
    "start_time": "2021-07-30T18:39:45.000Z"
   },
   {
    "duration": 9,
    "start_time": "2021-07-30T18:39:45.046Z"
   },
   {
    "duration": 4534,
    "start_time": "2021-07-30T18:39:45.082Z"
   },
   {
    "duration": 19,
    "start_time": "2021-07-30T18:39:49.619Z"
   },
   {
    "duration": 559,
    "start_time": "2021-07-30T18:39:49.641Z"
   },
   {
    "duration": 9,
    "start_time": "2021-07-30T18:39:50.202Z"
   },
   {
    "duration": 27,
    "start_time": "2021-07-30T18:39:50.214Z"
   },
   {
    "duration": 16,
    "start_time": "2021-07-30T18:39:50.243Z"
   },
   {
    "duration": 46,
    "start_time": "2021-07-30T18:39:50.261Z"
   },
   {
    "duration": 32,
    "start_time": "2021-07-30T18:39:50.310Z"
   },
   {
    "duration": 7,
    "start_time": "2021-07-30T18:39:50.345Z"
   },
   {
    "duration": 39,
    "start_time": "2021-07-30T18:39:50.385Z"
   },
   {
    "duration": 6,
    "start_time": "2021-07-30T18:39:50.427Z"
   },
   {
    "duration": 48,
    "start_time": "2021-07-30T18:39:50.435Z"
   },
   {
    "duration": 13,
    "start_time": "2021-07-30T18:39:50.488Z"
   },
   {
    "duration": 25,
    "start_time": "2021-07-30T18:39:50.503Z"
   },
   {
    "duration": 6,
    "start_time": "2021-07-30T18:39:50.531Z"
   },
   {
    "duration": 76,
    "start_time": "2021-07-30T18:39:50.540Z"
   },
   {
    "duration": 4,
    "start_time": "2021-07-30T18:39:50.619Z"
   },
   {
    "duration": 15,
    "start_time": "2021-07-30T18:39:50.625Z"
   },
   {
    "duration": 43,
    "start_time": "2021-07-30T18:39:50.642Z"
   },
   {
    "duration": 16,
    "start_time": "2021-07-30T18:39:50.688Z"
   },
   {
    "duration": 27,
    "start_time": "2021-07-30T18:39:50.707Z"
   },
   {
    "duration": 55,
    "start_time": "2021-07-30T18:39:50.737Z"
   },
   {
    "duration": 27,
    "start_time": "2021-07-30T18:39:50.795Z"
   },
   {
    "duration": 14,
    "start_time": "2021-07-30T18:39:50.825Z"
   },
   {
    "duration": 58,
    "start_time": "2021-07-30T18:39:50.842Z"
   },
   {
    "duration": 17,
    "start_time": "2021-07-30T18:39:50.903Z"
   },
   {
    "duration": 59,
    "start_time": "2021-07-30T18:39:50.923Z"
   },
   {
    "duration": 18,
    "start_time": "2021-07-30T18:39:50.986Z"
   },
   {
    "duration": 22,
    "start_time": "2021-07-30T18:39:51.006Z"
   },
   {
    "duration": 13,
    "start_time": "2021-07-30T18:39:51.030Z"
   },
   {
    "duration": 61,
    "start_time": "2021-07-30T18:39:51.045Z"
   },
   {
    "duration": 13,
    "start_time": "2021-07-30T18:39:51.108Z"
   },
   {
    "duration": 21,
    "start_time": "2021-07-30T18:39:51.123Z"
   },
   {
    "duration": 45,
    "start_time": "2021-07-30T18:39:51.147Z"
   },
   {
    "duration": 23,
    "start_time": "2021-07-30T18:39:51.195Z"
   },
   {
    "duration": 17,
    "start_time": "2021-07-30T18:39:51.221Z"
   },
   {
    "duration": 44,
    "start_time": "2021-07-30T18:39:51.240Z"
   },
   {
    "duration": 20,
    "start_time": "2021-07-30T18:39:51.287Z"
   },
   {
    "duration": 23,
    "start_time": "2021-07-30T18:39:51.309Z"
   },
   {
    "duration": 57,
    "start_time": "2021-07-30T18:39:51.334Z"
   },
   {
    "duration": 13,
    "start_time": "2021-07-30T18:39:51.395Z"
   },
   {
    "duration": 24,
    "start_time": "2021-07-30T18:39:51.411Z"
   },
   {
    "duration": 14,
    "start_time": "2021-07-30T18:39:51.437Z"
   },
   {
    "duration": 56,
    "start_time": "2021-07-30T18:39:51.453Z"
   },
   {
    "duration": 17,
    "start_time": "2021-07-30T18:39:51.511Z"
   },
   {
    "duration": 65,
    "start_time": "2021-07-30T18:39:51.531Z"
   },
   {
    "duration": 13,
    "start_time": "2021-07-30T18:39:51.598Z"
   },
   {
    "duration": 26,
    "start_time": "2021-07-30T18:39:51.613Z"
   },
   {
    "duration": 14,
    "start_time": "2021-07-30T18:39:51.641Z"
   },
   {
    "duration": 52,
    "start_time": "2021-07-30T18:39:51.658Z"
   },
   {
    "duration": 13,
    "start_time": "2021-07-30T18:39:51.713Z"
   },
   {
    "duration": 57,
    "start_time": "2021-07-30T18:39:51.728Z"
   },
   {
    "duration": 15,
    "start_time": "2021-07-30T18:39:51.789Z"
   },
   {
    "duration": 27,
    "start_time": "2021-07-30T18:39:51.807Z"
   },
   {
    "duration": 50,
    "start_time": "2021-07-30T18:39:51.837Z"
   },
   {
    "duration": 27,
    "start_time": "2021-07-30T18:39:51.892Z"
   },
   {
    "duration": 12,
    "start_time": "2021-07-30T18:39:51.921Z"
   },
   {
    "duration": 57,
    "start_time": "2021-07-30T18:39:51.935Z"
   },
   {
    "duration": 15,
    "start_time": "2021-07-30T18:39:51.996Z"
   }
  ],
  "kernelspec": {
   "display_name": "Python 3",
   "language": "python",
   "name": "python3"
  },
  "language_info": {
   "codemirror_mode": {
    "name": "ipython",
    "version": 3
   },
   "file_extension": ".py",
   "mimetype": "text/x-python",
   "name": "python",
   "nbconvert_exporter": "python",
   "pygments_lexer": "ipython3",
   "version": "3.8.5"
  },
  "toc": {
   "base_numbering": 1,
   "nav_menu": {},
   "number_sections": true,
   "sideBar": true,
   "skip_h1_title": false,
   "title_cell": "Table of Contents",
   "title_sidebar": "Contents",
   "toc_cell": false,
   "toc_position": {},
   "toc_section_display": true,
   "toc_window_display": false
  }
 },
 "nbformat": 4,
 "nbformat_minor": 2
}
